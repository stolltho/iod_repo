{
 "cells": [
  {
   "cell_type": "markdown",
   "metadata": {
    "id": "7KeNKtNL2Ix-"
   },
   "source": [
    "<div>\n",
    "<img src=https://www.institutedata.com/wp-content/uploads/2019/10/iod_h_tp_primary_c.svg width=\"300\">\n",
    "</div>\n",
    "\n",
    "# Python - Lab 1 \n",
    "\n",
    "## Learning objectives\n",
    "\n",
    "This lab demonstrates examples of: \n",
    "\n",
    "1. Creating and manipulating lists\n",
    "2. For loops\n",
    "3. Importing modules and functions\n",
    "4. Creating dictonaries\n",
    "\n",
    "## Instructions:\n",
    "\n",
    "1. Replace ??? with the appropriate code\n",
    "2. Press Shift + Enter to execute cell\n",
    "\n"
   ]
  },
  {
   "cell_type": "code",
   "execution_count": 17,
   "metadata": {
    "id": "NaRcNY1l2LbD"
   },
   "outputs": [],
   "source": [
    "# create a list of 10 students (use just first name)\n",
    "students = ['alice','ben','cathy','dawn','emily','fern','emma','sean','felix','hugh']"
   ]
  },
  {
   "cell_type": "code",
   "execution_count": 2,
   "metadata": {
    "id": "lyMlOgoUZ2R4"
   },
   "outputs": [
    {
     "name": "stdout",
     "output_type": "stream",
     "text": [
      "['alice', 'ben', 'cathy', 'dawn', 'emily', 'fern', 'emma', 'sean', 'felix', 'hugh']\n"
     ]
    }
   ],
   "source": [
    "# Print the list\n",
    "print(students)"
   ]
  },
  {
   "cell_type": "code",
   "execution_count": 7,
   "metadata": {
    "id": "LtbLA_T811kr"
   },
   "outputs": [
    {
     "name": "stdout",
     "output_type": "stream",
     "text": [
      "Index 01 \t Alice\n",
      "Index 02 \t Ben\n",
      "Index 03 \t Cathy\n",
      "Index 04 \t Dawn\n",
      "Index 05 \t Emily\n",
      "Index 06 \t Fern\n",
      "Index 07 \t Emma\n",
      "Index 08 \t Sean\n",
      "Index 09 \t Felix\n",
      "Index 10 \t Hugh\n"
     ]
    }
   ],
   "source": [
    "# print the list of students\n",
    "# in the following format\n",
    "# Index 01 \t Alice\n",
    "# Index 02 \t Bob\n",
    "# Index 03 \t Pradeep\n",
    "for index, member in enumerate(students, start=1):\n",
    "    print(f'Index {index:02d} \\t {member.capitalize()}')\n",
    "\n",
    "# \\t: tab\n",
    "# 02d formats an integer (d) to a field of minimum width 2 (2), with zero-padding on the left (leading 0)"
   ]
  },
  {
   "cell_type": "code",
   "execution_count": 11,
   "metadata": {
    "id": "OF5sj3CX1lHl"
   },
   "outputs": [
    {
     "name": "stdout",
     "output_type": "stream",
     "text": [
      "Index 01 \t Hugh\n",
      "Index 02 \t Felix\n",
      "Index 03 \t Sean\n",
      "Index 04 \t Emma\n",
      "Index 05 \t Fern\n",
      "Index 06 \t Emily\n",
      "Index 07 \t Dawn\n",
      "Index 08 \t Cathy\n",
      "Index 09 \t Ben\n",
      "Index 10 \t Alice\n"
     ]
    }
   ],
   "source": [
    "# print the list of students in reverse order one student in a line with its index\n",
    "# google search how to print list in reverse order\n",
    "\n",
    "# Option 1:\n",
    "students_rev = students.copy()\n",
    "students_rev.reverse() #does not return any value, updates existing list\n",
    "for index, member in enumerate(students_rev):\n",
    "    print(f'Index {index+1:02d} \\t {member.capitalize()}')"
   ]
  },
  {
   "cell_type": "code",
   "execution_count": 12,
   "metadata": {},
   "outputs": [
    {
     "name": "stdout",
     "output_type": "stream",
     "text": [
      "Index 01 \t Hugh\n",
      "Index 02 \t Felix\n",
      "Index 03 \t Sean\n",
      "Index 04 \t Emma\n",
      "Index 05 \t Fern\n",
      "Index 06 \t Emily\n",
      "Index 07 \t Dawn\n",
      "Index 08 \t Cathy\n",
      "Index 09 \t Ben\n",
      "Index 10 \t Alice\n"
     ]
    }
   ],
   "source": [
    "# print the list of students in reverse order one student in a line with its index\n",
    "# google search how to print list in reverse order\n",
    "\n",
    "# Option 2:\n",
    "students_rev = students[::-1] #start:stop:step\n",
    "for index, member in enumerate(students_rev):\n",
    "    print(f'Index {index+1:02d} \\t {member.capitalize()}')"
   ]
  },
  {
   "cell_type": "code",
   "execution_count": 13,
   "metadata": {
    "id": "eAdtim4G1pyV"
   },
   "outputs": [
    {
     "name": "stdout",
     "output_type": "stream",
     "text": [
      "Index 01 \t Sean\n",
      "Index 02 \t Emily\n",
      "Index 03 \t Dawn\n",
      "Index 04 \t Ben\n",
      "Index 05 \t Felix\n",
      "Index 06 \t Fern\n",
      "Index 07 \t Cathy\n",
      "Index 08 \t Alice\n",
      "Index 09 \t Hugh\n",
      "Index 10 \t Emma\n"
     ]
    }
   ],
   "source": [
    "# print the student list in random order\n",
    "# hint look up the function random.sample\n",
    "import random\n",
    "students_rand = random.sample(students, len(students))\n",
    "\n",
    "for index, member in enumerate(students_rand):\n",
    "    print(f'Index {index+1:02d} \\t {member.capitalize()}')"
   ]
  },
  {
   "cell_type": "code",
   "execution_count": 18,
   "metadata": {
    "colab": {
     "base_uri": "https://localhost:8080/"
    },
    "executionInfo": {
     "elapsed": 335,
     "status": "ok",
     "timestamp": 1652253608713,
     "user": {
      "displayName": "Muru Raj",
      "userId": "16263509272652930332"
     },
     "user_tz": -480
    },
    "id": "sfKkL5dt1tqG",
    "outputId": "062ebd6c-b1da-40ff-c979-e70f4d1ac57a"
   },
   "outputs": [
    {
     "name": "stdout",
     "output_type": "stream",
     "text": [
      "Students and their marks: \n",
      " {'alice': 87, 'ben': 45, 'cathy': 76, 'dawn': 64, 'emily': 66, 'fern': 90, 'emma': 55, 'sean': 73, 'felix': 69, 'hugh': 75}\n"
     ]
    }
   ],
   "source": [
    "# list students in order of their exam marks in the following list\n",
    "marks = [87,45,76,64,66,90,55,73,69,75]\n",
    "studentsAndMarks = dict(zip(students,marks))\n",
    "print(f\"Students and their marks: \\n {studentsAndMarks}\")"
   ]
  },
  {
   "cell_type": "code",
   "execution_count": 19,
   "metadata": {
    "colab": {
     "base_uri": "https://localhost:8080/"
    },
    "executionInfo": {
     "elapsed": 312,
     "status": "ok",
     "timestamp": 1652253824269,
     "user": {
      "displayName": "Muru Raj",
      "userId": "16263509272652930332"
     },
     "user_tz": -480
    },
    "id": "IPQQHA2h_MrC",
    "outputId": "841ddb8a-11d2-4bf1-a94d-67e84c520f19"
   },
   "outputs": [
    {
     "data": {
      "text/plain": [
       "['fern',\n",
       " 'alice',\n",
       " 'cathy',\n",
       " 'hugh',\n",
       " 'sean',\n",
       " 'felix',\n",
       " 'emily',\n",
       " 'dawn',\n",
       " 'emma',\n",
       " 'ben']"
      ]
     },
     "execution_count": 19,
     "metadata": {},
     "output_type": "execute_result"
    }
   ],
   "source": [
    "sorted(studentsAndMarks, key=studentsAndMarks.get,reverse=True)"
   ]
  },
  {
   "cell_type": "code",
   "execution_count": 20,
   "metadata": {},
   "outputs": [
    {
     "name": "stdout",
     "output_type": "stream",
     "text": [
      "fern      :90\n",
      "alice     :87\n",
      "cathy     :76\n",
      "hugh      :75\n",
      "sean      :73\n",
      "felix     :69\n",
      "emily     :66\n",
      "dawn      :64\n",
      "emma      :55\n",
      "ben       :45\n"
     ]
    }
   ],
   "source": [
    "for student in sorted(studentsAndMarks, key=studentsAndMarks.get, reverse=True ):\n",
    "  print(f\"{student:10s}:{studentsAndMarks[student]}\")"
   ]
  },
  {
   "cell_type": "code",
   "execution_count": 22,
   "metadata": {},
   "outputs": [
    {
     "name": "stdout",
     "output_type": "stream",
     "text": [
      "ben 45\n"
     ]
    }
   ],
   "source": [
    "print(student , studentsAndMarks[student])"
   ]
  },
  {
   "cell_type": "code",
   "execution_count": 23,
   "metadata": {},
   "outputs": [
    {
     "name": "stdout",
     "output_type": "stream",
     "text": [
      "fern      :90\n",
      "alice     :87\n",
      "cathy     :76\n",
      "hugh      :75\n",
      "sean      :73\n",
      "felix     :69\n",
      "emily     :66\n",
      "dawn      :64\n"
     ]
    }
   ],
   "source": [
    "# Extension: Keep only students who have a mark above 60\n",
    "\n",
    "studentsAbove60 = dict()\n",
    "\n",
    "for student in studentsAndMarks.keys(): \n",
    "    if studentsAndMarks[student] > 60:\n",
    "        studentsAbove60[student] = studentsAndMarks[student]\n",
    "\n",
    "for student in sorted(studentsAbove60, key=studentsAbove60.get, reverse=True):\n",
    "  print(f\"{student:10s}:{studentsAbove60[student]}\")    "
   ]
  },
  {
   "cell_type": "markdown",
   "metadata": {
    "id": "1sXaEeYiyju-"
   },
   "source": [
    "\n",
    "\n",
    "---\n",
    "\n",
    "\n",
    "\n",
    "---\n",
    "\n",
    "\n",
    "\n",
    "> > > > > > > > > © 2022 Institute of Data\n",
    "\n",
    "\n",
    "---\n",
    "\n",
    "\n",
    "\n",
    "---\n",
    "\n",
    "\n",
    "\n"
   ]
  }
 ],
 "metadata": {
  "colab": {
   "collapsed_sections": [],
   "provenance": []
  },
  "kernelspec": {
   "display_name": "Python 3 (ipykernel)",
   "language": "python",
   "name": "python3"
  },
  "language_info": {
   "codemirror_mode": {
    "name": "ipython",
    "version": 3
   },
   "file_extension": ".py",
   "mimetype": "text/x-python",
   "name": "python",
   "nbconvert_exporter": "python",
   "pygments_lexer": "ipython3",
   "version": "3.9.13"
  }
 },
 "nbformat": 4,
 "nbformat_minor": 4
}
