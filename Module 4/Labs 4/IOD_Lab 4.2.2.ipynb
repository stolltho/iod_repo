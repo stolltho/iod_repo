{
 "cells": [
  {
   "cell_type": "markdown",
   "metadata": {
    "id": "9XIMscuZXR3_"
   },
   "source": [
    "<div>\n",
    "<img src=https://www.institutedata.com/wp-content/uploads/2019/10/iod_h_tp_primary_c.svg width=\"300\">\n",
    "</div>"
   ]
  },
  {
   "cell_type": "markdown",
   "metadata": {
    "id": "_MEq0z1KXR4C"
   },
   "source": [
    "## Lab 4.2.2: Feature Selection"
   ]
  },
  {
   "cell_type": "code",
   "execution_count": 299,
   "metadata": {
    "id": "Od_2rcZkXR4D"
   },
   "outputs": [],
   "source": [
    "import pandas as pd\n",
    "import numpy as np\n",
    "import matplotlib.pyplot as plt\n",
    "import seaborn as sns\n",
    "from sklearn.linear_model import LinearRegression\n",
    "from sklearn.model_selection import train_test_split\n",
    "\n",
    "%matplotlib inline"
   ]
  },
  {
   "cell_type": "markdown",
   "metadata": {
    "id": "mADumyI3XR4G"
   },
   "source": [
    "### 5. Forward Feature Selection\n",
    "\n",
    "> Forward Selection: Forward selection is an iterative method in which we start with having no feature in the model. In each iteration, we keep adding the feature which best improves our model till an addition of a new variable does not improve the performance of the model.\n",
    "\n",
    "Create a Regression model using Forward Feature Selection by looping over all the features adding one at a time until there are no improvements on the prediction metric ( R2  and  AdjustedR2  in this case)."
   ]
  },
  {
   "cell_type": "markdown",
   "metadata": {
    "id": "Ha-2bFwdXR4H"
   },
   "source": [
    "#### 5.1 Load Wine Data & Define Predictor and Target"
   ]
  },
  {
   "cell_type": "code",
   "execution_count": 52,
   "metadata": {
    "id": "dKp1loQLXR4H"
   },
   "outputs": [],
   "source": [
    "## Load the wine quality dataset\n",
    "\n",
    "# Load the wine dataset from csv\n",
    "wine = pd.read_csv('../../DATA/winequality_merged.csv')\n",
    "\n",
    "# define the target variable (dependent variable) as y\n",
    "y = wine['quality']\n",
    "\n",
    "# Take all columns except target as predictor columns\n",
    "predictor_columns = [c for c in wine.columns if c != 'quality'] #list comprehension\n",
    "# Load the dataset as a pandas data frame\n",
    "X = pd.DataFrame(wine, columns = predictor_columns)"
   ]
  },
  {
   "cell_type": "code",
   "execution_count": 19,
   "metadata": {
    "id": "_IaxFgFkXR4K"
   },
   "outputs": [],
   "source": [
    "## Create training and testing subsets\n",
    "\n",
    "X_train, X_test, y_train, y_test = train_test_split(X, y, test_size = 0.2)"
   ]
  },
  {
   "cell_type": "markdown",
   "metadata": {
    "id": "sHGOCW66XR4M"
   },
   "source": [
    "#### 5.2 Overview of the code below\n",
    "\n",
    "The external `while` loop goes forever until there are no improvements to the model, which is controlled by the flag `changed` (until is **not** changed).\n",
    "The inner `for` loop goes over each of the features not yet included in the model and calculates the correlation coefficient. If any model improves on the previous best model then the records are updated.\n",
    "\n",
    "#### Code variables\n",
    "- `included`: list of the features (predictors) that were included in the model; starts empty.\n",
    "- `excluded`: list of features that have **not** been included in the model; starts as the full list of features.\n",
    "- `best`: dictionary to keep record of the best model found at any stage; starts 'empty'.\n",
    "- `model`: object of class LinearRegression, with default values for all parameters.\n",
    "\n",
    "#### Methods of the `LinearRegression` object to investigate\n",
    "- `fit()`\n",
    "- `fit.score()`\n",
    "\n",
    "#### Adjusted $R^2$ formula\n",
    "$$Adjusted \\; R^2 = 1 - { (1 - R^2) (n - 1)  \\over n - k - 1 }$$\n",
    "\n",
    "#### Linear Regression [reference](http://scikit-learn.org/stable/modules/generated/sklearn.linear_model.LinearRegression.html#sklearn.linear_model.LinearRegression)"
   ]
  },
  {
   "cell_type": "markdown",
   "metadata": {},
   "source": [
    "## Forward feature selection the hard way"
   ]
  },
  {
   "cell_type": "code",
   "execution_count": 63,
   "metadata": {},
   "outputs": [],
   "source": [
    "## Flag intermediate output\n",
    "\n",
    "show_steps = True   # for testing/debugging\n",
    "# show_steps = False  # without showing steps"
   ]
  },
  {
   "cell_type": "code",
   "execution_count": 64,
   "metadata": {},
   "outputs": [
    {
     "data": {
      "text/plain": [
       "5197"
      ]
     },
     "execution_count": 64,
     "metadata": {},
     "output_type": "execute_result"
    }
   ],
   "source": [
    "X_train.shape[0]"
   ]
  },
  {
   "cell_type": "code",
   "execution_count": null,
   "metadata": {},
   "outputs": [],
   "source": [
    "## Use Forward Feature Selection to pick a good model\n",
    "\n",
    "## Code from Answer Lab\n",
    "\n",
    "# start with no predictors\n",
    "included = []\n",
    "# keep track of model and parameters\n",
    "best = {'feature': '', 'r2': 0, 'a_r2': 0}\n",
    "# create a model object to hold the modelling parameters\n",
    "model = LinearRegression() # create a model for Linear Regression\n",
    "# get the number of cases in the training data\n",
    "n = X_train.shape[0]\n",
    "\n",
    "while True:\n",
    "    changed = False\n",
    "    \n",
    "    if show_steps:\n",
    "        print('') \n",
    "\n",
    "    # list the features to be evaluated\n",
    "    excluded = list(set(X.columns) - set(included))\n",
    "    \n",
    "    if show_steps:\n",
    "        print('(Step) Excluded = %s' % ', '.join(excluded))  \n",
    "\n",
    "    # for each remaining feature to be evaluated\n",
    "    for new_column in excluded:\n",
    "        \n",
    "        if show_steps:\n",
    "            print('(Step) Trying %s...' % new_column)\n",
    "            print('(Step) - Features = %s' % ', '.join(included + [new_column]))\n",
    "\n",
    "        # fit the model with the Training data\n",
    "        fit = model.fit(X_train[included + [new_column]], y_train) # fit a model; consider which predictors should be included\n",
    "        # calculate the score (R^2 for Regression)\n",
    "        r2 = fit.score(X_train[included + [new_column]], y_train) # calculate the score\n",
    "        # number of predictors in this model\n",
    "        k = len(included) + 1\n",
    "        # calculate the adjusted R^2\n",
    "        adjusted_r2 = 1 - ( ( (1 - r2) * (n - 1) ) / (n - k - 1) ) # calculate the Adjusted R^2\n",
    "\n",
    "        if show_steps:\n",
    "            print('(Step) - Adjusted R^2: This = %.3f; Best = %.3f' % \n",
    "                  (adjusted_r2, best['a_r2']))\n",
    "\n",
    "        # if model improves\n",
    "        if adjusted_r2 > best['a_r2']:\n",
    "            # record new parameters\n",
    "            best = {'feature': new_column, 'r2': r2, 'a_r2': adjusted_r2}\n",
    "            # flag that found a better model\n",
    "            changed = True\n",
    "            if show_steps:\n",
    "                print('(Step) - New Best!   : Feature = %s; R^2 = %.3f; Adjusted R^2 = %.3f' % \n",
    "                      (best['feature'], best['r2'], best['a_r2']))\n",
    "    # END for\n",
    "\n",
    "    # if found a better model after testing all remaining features\n",
    "    if changed:\n",
    "        # update control details\n",
    "        included.append(best['feature'])\n",
    "        excluded = list(set(excluded) - set(best['feature']))\n",
    "        print('Added feature %-4s with R^2 = %.3f and adjusted R^2 = %.3f' % \n",
    "              (best['feature'], best['r2'], best['a_r2']))\n",
    "    else:\n",
    "        # terminate if no better model\n",
    "        break\n",
    "\n",
    "print('')\n",
    "print('Resulting features:')\n",
    "print(', '.join(included))"
   ]
  },
  {
   "cell_type": "code",
   "execution_count": 272,
   "metadata": {},
   "outputs": [
    {
     "name": "stdout",
     "output_type": "stream",
     "text": [
      "Resulting features: 12\n",
      "alcohol, volatile acidity, sulphates, residual sugar, red_wine, free sulfur dioxide, total sulfur dioxide, density, chlorides, pH, fixed acidity, citric acid\n",
      "Scores: R^2=0.303, adjusted R^2=0.301\n"
     ]
    }
   ],
   "source": [
    "## Use Forward Feature Selection to pick a good model\n",
    "\n",
    "## Code without print statements from Answer Lab\n",
    "\n",
    "# start with no predictors\n",
    "included = []\n",
    "# keep track of model and parameters\n",
    "best = {'feature': '', 'r2': 0, 'a_r2': 0}\n",
    "# create a model object to hold the modelling parameters\n",
    "model = LinearRegression()\n",
    "# get the number of cases in the training data\n",
    "n = X_train.shape[0]\n",
    "\n",
    "while True:\n",
    "    changed = False\n",
    "    \n",
    "    # list the features to be evaluated\n",
    "    excluded = list(set(X.columns) - set(included))\n",
    "    \n",
    "    # for each remaining feature to be evaluated\n",
    "    for new_column in excluded:\n",
    "        \n",
    "        # fit the model with the Training data\n",
    "        fit = model.fit(X_train[included + [new_column]], y_train)\n",
    "        # calculate the score (R^2 for Regression)\n",
    "        r2 = fit.score(X_train[included + [new_column]], y_train)\n",
    "        # number of predictors in this model\n",
    "        k = len(included + [new_column])\n",
    "        # calculate the adjusted R^2\n",
    "        adjusted_r2 = 1 - ( ( (1 - r2) * (n - 1) ) / (n - k - 1) )\n",
    "\n",
    "        # if model improves\n",
    "        if adjusted_r2 > best['a_r2']:\n",
    "            # record new parameters\n",
    "            best = {'feature': new_column, 'r2': r2, 'a_r2': adjusted_r2}\n",
    "            # flag that found a better model\n",
    "            changed = True\n",
    "            \n",
    "    # END for loop\n",
    "\n",
    "    # if found a better model after testing all remaining features\n",
    "    if changed:\n",
    "        # update control details\n",
    "        included.append(best['feature'])\n",
    "        excluded = list(set(excluded) - set(best['feature']))\n",
    "        \n",
    "    else:\n",
    "        # terminate if no better model\n",
    "        break\n",
    "\n",
    "print('Resulting features:', len(included))\n",
    "print(', '.join(included))\n",
    "print(f'Scores: R^2={np.round(best[\"r2\"],3)}, adjusted R^2={np.round(best[\"a_r2\"], 3)}')"
   ]
  },
  {
   "cell_type": "code",
   "execution_count": 291,
   "metadata": {},
   "outputs": [
    {
     "name": "stdout",
     "output_type": "stream",
     "text": [
      "Number of resulting predictors: 12\n",
      "Predictor names: alcohol, volatile acidity, sulphates, residual sugar, red_wine, free sulfur dioxide, total sulfur dioxide, density, chlorides, pH, fixed acidity, citric acid\n",
      "Scores: R^2=0.303, adjusted R^2=0.301\n"
     ]
    }
   ],
   "source": [
    "# Simplify inner for loop (Linear Regression model)\n",
    "\n",
    "include = [] #predictors included in final model\n",
    "best_score = {'feature': '', 'r2': 0, 'adj_r2': 0}\n",
    "\n",
    "while True:\n",
    "    changed = False\n",
    "    \n",
    "    evaluate = list(set(X.columns) - set(include)) #predictors to be evaluated\n",
    "    \n",
    "    for col in evaluate:\n",
    "        r2 = LinearRegression().fit(X_train[include + [col]], y_train).score(X_train[include + [col]], y_train)\n",
    "        adjusted_r2 = 1 - ( ( (1 - r2) * (len(X_train) - 1) ) / (len(X_train) - len(included + [col]) - 1) )\n",
    "\n",
    "        if adjusted_r2 > best_score['adj_r2']:\n",
    "            best_score = {'feature': col, 'r2': r2, 'adj_r2': adjusted_r2}\n",
    "            changed = True\n",
    "            \n",
    "    # END of for loop\n",
    "\n",
    "    # if found a better model after testing all remaining features\n",
    "    if changed:\n",
    "        include.append(best_score['feature'])\n",
    "        evaluate = list(set(evaluate) - set(best_score['feature']))\n",
    "        \n",
    "    else:\n",
    "        break\n",
    "\n",
    "print('Number of resulting predictors:', len(include))\n",
    "print('Predictor names: ' + ', '.join(include))\n",
    "print(f'Scores: R^2={np.round(best_score[\"r2\"],3)}, adjusted R^2={np.round(best_score[\"adj_r2\"], 3)}')"
   ]
  },
  {
   "cell_type": "code",
   "execution_count": null,
   "metadata": {},
   "outputs": [],
   "source": [
    "# different loop options for outer loop\n",
    "\n",
    "tol = 0.001\n",
    "diff = 0\n",
    "\n",
    "while diff < tol:\n",
    "\n",
    "while diff == 0 | diff <0:\n",
    "    \n",
    "while best_r2 >= adjusted_r2:\n",
    "    \n",
    "while True:\n",
    "    "
   ]
  },
  {
   "cell_type": "code",
   "execution_count": null,
   "metadata": {},
   "outputs": [],
   "source": [
    "# break: \n",
    "# The break statement in Python terminates the current loop and resumes execution at the next statement\n",
    "\n",
    "# continue:\n",
    "# The continue statement in Python returns the control to the beginning of the while loop. \n",
    "# The continue statement rejects all the remaining statements in the current iteration of \n",
    "# the loop and moves the control back to the top of the loop.\n",
    "\n",
    "# pass:\n",
    "# The pass statement in Python is used when a statement is required syntactically but you \n",
    "# do not want any command or code to execute.\n",
    "\n",
    "# The else statement used with Loops:\n",
    "# If the else statement is used with a for loop, the else statement is executed when the loop has exhausted iterating the list.\n",
    "# If the else statement is used with a while loop, the else statement is executed when the condition becomes false."
   ]
  },
  {
   "cell_type": "code",
   "execution_count": 292,
   "metadata": {},
   "outputs": [
    {
     "name": "stdout",
     "output_type": "stream",
     "text": [
      "Number of resulting predictors: 12\n",
      "Predictor names: alcohol, volatile acidity, sulphates, residual sugar, red_wine, free sulfur dioxide, total sulfur dioxide, density, chlorides, pH, fixed acidity, citric acid\n",
      "Scores: R^2=0.303, adjusted R^2=0.301\n"
     ]
    }
   ],
   "source": [
    "# Simplify outer while loop\n",
    "\n",
    "include = [] #predictors included in final model\n",
    "inner_score = {'feature': '', 'r2': 0, 'adj_r2': 0}\n",
    "best_score = {'feature': '', 'r2': 0, 'adj_r2': 0}\n",
    "\n",
    "while True:\n",
    "    \n",
    "    evaluate = list(set(X.columns) - set(include)) #predictors to be evaluated\n",
    "           \n",
    "    for col in evaluate:\n",
    "        r2 = LinearRegression().fit(X_train[include + [col]], y_train).score(X_train[include + [col]], y_train)\n",
    "        adjusted_r2 = 1 - ( ( (1 - r2) * (len(X_train) - 1) ) / (len(X_train) - len(included + [col]) - 1) )\n",
    "        \n",
    "        if adjusted_r2 > inner_score['adj_r2']:\n",
    "            inner_score = {'feature': col, 'r2': r2, 'adj_r2': adjusted_r2}\n",
    "                            \n",
    "    if inner_score['adj_r2'] > best_score['adj_r2']:\n",
    "        best_score = inner_score\n",
    "        include.append(best_score['feature'])\n",
    "        evaluate = list(set(evaluate) - set(best_score['feature']))\n",
    "    \n",
    "    else:\n",
    "        break\n",
    "\n",
    "print('Number of resulting predictors:', len(include))\n",
    "print('Predictor names: ' + ', '.join(include))\n",
    "print(f'Scores: R^2={np.round(best_score[\"r2\"],3)}, adjusted R^2={np.round(best_score[\"adj_r2\"], 3)}')"
   ]
  },
  {
   "cell_type": "code",
   "execution_count": 296,
   "metadata": {},
   "outputs": [
    {
     "name": "stdout",
     "output_type": "stream",
     "text": [
      "Number of resulting predictors: 12\n",
      "Predictor names: alcohol, volatile acidity, sulphates, residual sugar, red_wine, free sulfur dioxide, total sulfur dioxide, density, chlorides, pH, fixed acidity, citric acid\n",
      "Scores: R^2=0.303, adjusted R^2=0.301\n"
     ]
    }
   ],
   "source": [
    "# Alternatively\n",
    "\n",
    "include = [] #predictors included in final model\n",
    "best_score = {'feature': '', 'r2': 0, 'adj_r2': 0}\n",
    "\n",
    "while True:\n",
    "    valueChanged = False\n",
    "    evaluate = list(set(X.columns) - set(include)) #predictors to be evaluated\n",
    "           \n",
    "    for col in evaluate:\n",
    "        r2 = LinearRegression().fit(X_train[include + [col]], y_train).score(X_train[include + [col]], y_train)\n",
    "        adjusted_r2 = 1 - ( ( (1 - r2) * (len(X_train) - 1) ) / (len(X_train) - len(included + [col]) - 1) )\n",
    "        \n",
    "        if adjusted_r2 > best_score['adj_r2']:\n",
    "            valueChanged = True\n",
    "            best_score = {'feature': col, 'r2': r2, 'adj_r2': adjusted_r2}\n",
    "                        \n",
    "    if valueChanged:\n",
    "        include.append(best_score['feature'])\n",
    "        evaluate = list(set(evaluate) - set(best_score['feature']))\n",
    "    \n",
    "    else:\n",
    "        break\n",
    "\n",
    "print('Number of resulting predictors:', len(include))\n",
    "print('Predictor names: ' + ', '.join(include))\n",
    "print(f'Scores: R^2={np.round(best_score[\"r2\"],3)}, adjusted R^2={np.round(best_score[\"adj_r2\"], 3)}')"
   ]
  },
  {
   "cell_type": "code",
   "execution_count": null,
   "metadata": {},
   "outputs": [],
   "source": [
    "# Note! The %s token allows me to insert (and potentially format) a string. \n",
    "# Notice that the %s token is replaced by whatever I pass to the string after the % symbol."
   ]
  },
  {
   "cell_type": "code",
   "execution_count": 289,
   "metadata": {},
   "outputs": [
    {
     "name": "stdout",
     "output_type": "stream",
     "text": [
      "\n",
      "(Step) Evaluate = sulphates, volatile acidity, total sulfur dioxide, alcohol, free sulfur dioxide, red_wine, fixed acidity, residual sugar, pH, density, chlorides, citric acid\n",
      "(Step) Trying sulphates...\n",
      "(Step) - Features = sulphates\n",
      "(Step) - Adjusted R^2: This = -0.000; Best = 0.000\n",
      "(Step) Trying volatile acidity...\n",
      "(Step) - Features = volatile acidity\n",
      "(Step) - Adjusted R^2: This = 0.067; Best = 0.000\n",
      "(Step) - New Best!   : Feature = ; R^2 = 0.000; Adjusted R^2 = 0.000\n",
      "(Step) Trying total sulfur dioxide...\n",
      "(Step) - Features = total sulfur dioxide\n",
      "(Step) - Adjusted R^2: This = -0.000; Best = 0.000\n",
      "(Step) Trying alcohol...\n",
      "(Step) - Features = alcohol\n",
      "(Step) - Adjusted R^2: This = 0.199; Best = 0.000\n",
      "(Step) - New Best!   : Feature = ; R^2 = 0.000; Adjusted R^2 = 0.000\n",
      "(Step) Trying free sulfur dioxide...\n",
      "(Step) - Features = free sulfur dioxide\n",
      "(Step) - Adjusted R^2: This = 0.001; Best = 0.000\n",
      "(Step) Trying red_wine...\n",
      "(Step) - Features = red_wine\n",
      "(Step) - Adjusted R^2: This = 0.010; Best = 0.000\n",
      "(Step) Trying fixed acidity...\n",
      "(Step) - Features = fixed acidity\n",
      "(Step) - Adjusted R^2: This = 0.002; Best = 0.000\n",
      "(Step) Trying residual sugar...\n",
      "(Step) - Features = residual sugar\n",
      "(Step) - Adjusted R^2: This = -0.001; Best = 0.000\n",
      "(Step) Trying pH...\n",
      "(Step) - Features = pH\n",
      "(Step) - Adjusted R^2: This = -0.002; Best = 0.000\n",
      "(Step) Trying density...\n",
      "(Step) - Features = density\n",
      "(Step) - Adjusted R^2: This = 0.089; Best = 0.000\n",
      "(Step) Trying chlorides...\n",
      "(Step) - Features = chlorides\n",
      "(Step) - Adjusted R^2: This = 0.035; Best = 0.000\n",
      "(Step) Trying citric acid...\n",
      "(Step) - Features = citric acid\n",
      "(Step) - Adjusted R^2: This = 0.005; Best = 0.000\n",
      "Added feature alcohol with R^2 = 0.201 and adjusted R^2 = 0.199\n",
      "\n",
      "(Step) Evaluate = sulphates, volatile acidity, total sulfur dioxide, free sulfur dioxide, red_wine, fixed acidity, residual sugar, pH, density, chlorides, citric acid\n",
      "(Step) Trying sulphates...\n",
      "(Step) - Features = alcohol, sulphates\n",
      "(Step) - Adjusted R^2: This = 0.201; Best = 0.199\n",
      "(Step) - New Best!   : Feature = alcohol; R^2 = 0.201; Adjusted R^2 = 0.199\n",
      "(Step) Trying volatile acidity...\n",
      "(Step) - Features = alcohol, volatile acidity\n",
      "(Step) - Adjusted R^2: This = 0.260; Best = 0.199\n",
      "(Step) - New Best!   : Feature = alcohol; R^2 = 0.201; Adjusted R^2 = 0.199\n",
      "(Step) Trying total sulfur dioxide...\n",
      "(Step) - Features = alcohol, total sulfur dioxide\n",
      "(Step) - Adjusted R^2: This = 0.205; Best = 0.199\n",
      "(Step) Trying free sulfur dioxide...\n",
      "(Step) - Features = alcohol, free sulfur dioxide\n",
      "(Step) - Adjusted R^2: This = 0.220; Best = 0.199\n",
      "(Step) Trying red_wine...\n",
      "(Step) - Features = alcohol, red_wine\n",
      "(Step) - Adjusted R^2: This = 0.209; Best = 0.199\n",
      "(Step) Trying fixed acidity...\n",
      "(Step) - Features = alcohol, fixed acidity\n",
      "(Step) - Adjusted R^2: This = 0.200; Best = 0.199\n",
      "(Step) Trying residual sugar...\n",
      "(Step) - Features = alcohol, residual sugar\n",
      "(Step) - Adjusted R^2: This = 0.216; Best = 0.199\n",
      "(Step) Trying pH...\n",
      "(Step) - Features = alcohol, pH\n",
      "(Step) - Adjusted R^2: This = 0.200; Best = 0.199\n",
      "(Step) Trying density...\n",
      "(Step) - Features = alcohol, density\n",
      "(Step) - Adjusted R^2: This = 0.199; Best = 0.199\n",
      "(Step) Trying chlorides...\n",
      "(Step) - Features = alcohol, chlorides\n",
      "(Step) - Adjusted R^2: This = 0.206; Best = 0.199\n",
      "(Step) Trying citric acid...\n",
      "(Step) - Features = alcohol, citric acid\n",
      "(Step) - Adjusted R^2: This = 0.207; Best = 0.199\n",
      "Added feature volatile acidity with R^2 = 0.262 and adjusted R^2 = 0.260\n",
      "\n",
      "(Step) Evaluate = sulphates, total sulfur dioxide, free sulfur dioxide, red_wine, fixed acidity, residual sugar, pH, density, chlorides, citric acid\n",
      "(Step) Trying sulphates...\n",
      "(Step) - Features = alcohol, volatile acidity, sulphates\n",
      "(Step) - Adjusted R^2: This = 0.271; Best = 0.260\n",
      "(Step) - New Best!   : Feature = volatile acidity; R^2 = 0.262; Adjusted R^2 = 0.260\n",
      "(Step) Trying total sulfur dioxide...\n",
      "(Step) - Features = alcohol, volatile acidity, total sulfur dioxide\n",
      "(Step) - Adjusted R^2: This = 0.261; Best = 0.260\n",
      "(Step) Trying free sulfur dioxide...\n",
      "(Step) - Features = alcohol, volatile acidity, free sulfur dioxide\n",
      "(Step) - Adjusted R^2: This = 0.263; Best = 0.260\n",
      "(Step) Trying red_wine...\n",
      "(Step) - Features = alcohol, volatile acidity, red_wine\n",
      "(Step) - Adjusted R^2: This = 0.266; Best = 0.260\n",
      "(Step) Trying fixed acidity...\n",
      "(Step) - Features = alcohol, volatile acidity, fixed acidity\n",
      "(Step) - Adjusted R^2: This = 0.261; Best = 0.260\n",
      "(Step) Trying residual sugar...\n",
      "(Step) - Features = alcohol, volatile acidity, residual sugar\n",
      "(Step) - Adjusted R^2: This = 0.266; Best = 0.260\n",
      "(Step) Trying pH...\n",
      "(Step) - Features = alcohol, volatile acidity, pH\n",
      "(Step) - Adjusted R^2: This = 0.261; Best = 0.260\n",
      "(Step) Trying density...\n",
      "(Step) - Features = alcohol, volatile acidity, density\n",
      "(Step) - Adjusted R^2: This = 0.269; Best = 0.260\n",
      "(Step) Trying chlorides...\n",
      "(Step) - Features = alcohol, volatile acidity, chlorides\n",
      "(Step) - Adjusted R^2: This = 0.260; Best = 0.260\n",
      "(Step) Trying citric acid...\n",
      "(Step) - Features = alcohol, volatile acidity, citric acid\n",
      "(Step) - Adjusted R^2: This = 0.260; Best = 0.260\n",
      "Added feature sulphates with R^2 = 0.273 and adjusted R^2 = 0.271\n",
      "\n",
      "(Step) Evaluate = total sulfur dioxide, free sulfur dioxide, red_wine, fixed acidity, residual sugar, pH, density, chlorides, citric acid\n",
      "(Step) Trying total sulfur dioxide...\n",
      "(Step) - Features = alcohol, volatile acidity, sulphates, total sulfur dioxide\n",
      "(Step) - Adjusted R^2: This = 0.271; Best = 0.271\n",
      "(Step) - New Best!   : Feature = sulphates; R^2 = 0.273; Adjusted R^2 = 0.271\n",
      "(Step) Trying free sulfur dioxide...\n",
      "(Step) - Features = alcohol, volatile acidity, sulphates, free sulfur dioxide\n",
      "(Step) - Adjusted R^2: This = 0.276; Best = 0.271\n",
      "(Step) - New Best!   : Feature = sulphates; R^2 = 0.273; Adjusted R^2 = 0.271\n",
      "(Step) Trying red_wine...\n",
      "(Step) - Features = alcohol, volatile acidity, sulphates, red_wine\n",
      "(Step) - Adjusted R^2: This = 0.272; Best = 0.271\n",
      "(Step) Trying fixed acidity...\n",
      "(Step) - Features = alcohol, volatile acidity, sulphates, fixed acidity\n",
      "(Step) - Adjusted R^2: This = 0.271; Best = 0.271\n",
      "(Step) Trying residual sugar...\n",
      "(Step) - Features = alcohol, volatile acidity, sulphates, residual sugar\n",
      "(Step) - Adjusted R^2: This = 0.281; Best = 0.271\n",
      "(Step) - New Best!   : Feature = sulphates; R^2 = 0.273; Adjusted R^2 = 0.271\n",
      "(Step) Trying pH...\n",
      "(Step) - Features = alcohol, volatile acidity, sulphates, pH\n",
      "(Step) - Adjusted R^2: This = 0.271; Best = 0.271\n",
      "(Step) Trying density...\n",
      "(Step) - Features = alcohol, volatile acidity, sulphates, density\n",
      "(Step) - Adjusted R^2: This = 0.276; Best = 0.271\n",
      "(Step) Trying chlorides...\n",
      "(Step) - Features = alcohol, volatile acidity, sulphates, chlorides\n",
      "(Step) - Adjusted R^2: This = 0.272; Best = 0.271\n",
      "(Step) Trying citric acid...\n",
      "(Step) - Features = alcohol, volatile acidity, sulphates, citric acid\n",
      "(Step) - Adjusted R^2: This = 0.271; Best = 0.271\n",
      "Added feature residual sugar with R^2 = 0.282 and adjusted R^2 = 0.281\n",
      "\n",
      "(Step) Evaluate = total sulfur dioxide, free sulfur dioxide, red_wine, fixed acidity, pH, density, chlorides, citric acid\n",
      "(Step) Trying total sulfur dioxide...\n",
      "(Step) - Features = alcohol, volatile acidity, sulphates, residual sugar, total sulfur dioxide\n",
      "(Step) - Adjusted R^2: This = 0.283; Best = 0.281\n",
      "(Step) - New Best!   : Feature = residual sugar; R^2 = 0.282; Adjusted R^2 = 0.281\n",
      "(Step) Trying free sulfur dioxide...\n",
      "(Step) - Features = alcohol, volatile acidity, sulphates, residual sugar, free sulfur dioxide\n",
      "(Step) - Adjusted R^2: This = 0.283; Best = 0.281\n",
      "(Step) Trying red_wine...\n",
      "(Step) - Features = alcohol, volatile acidity, sulphates, residual sugar, red_wine\n",
      "(Step) - Adjusted R^2: This = 0.285; Best = 0.281\n",
      "(Step) - New Best!   : Feature = residual sugar; R^2 = 0.282; Adjusted R^2 = 0.281\n",
      "(Step) Trying fixed acidity...\n",
      "(Step) - Features = alcohol, volatile acidity, sulphates, residual sugar, fixed acidity\n",
      "(Step) - Adjusted R^2: This = 0.281; Best = 0.281\n",
      "(Step) Trying pH...\n",
      "(Step) - Features = alcohol, volatile acidity, sulphates, residual sugar, pH\n",
      "(Step) - Adjusted R^2: This = 0.282; Best = 0.281\n",
      "(Step) Trying density...\n",
      "(Step) - Features = alcohol, volatile acidity, sulphates, residual sugar, density\n",
      "(Step) - Adjusted R^2: This = 0.281; Best = 0.281\n",
      "(Step) Trying chlorides...\n",
      "(Step) - Features = alcohol, volatile acidity, sulphates, residual sugar, chlorides\n",
      "(Step) - Adjusted R^2: This = 0.281; Best = 0.281\n",
      "(Step) Trying citric acid...\n",
      "(Step) - Features = alcohol, volatile acidity, sulphates, residual sugar, citric acid\n",
      "(Step) - Adjusted R^2: This = 0.282; Best = 0.281\n",
      "Added feature red_wine with R^2 = 0.287 and adjusted R^2 = 0.285\n",
      "\n",
      "(Step) Evaluate = total sulfur dioxide, free sulfur dioxide, fixed acidity, pH, density, chlorides, citric acid\n",
      "(Step) Trying total sulfur dioxide...\n",
      "(Step) - Features = alcohol, volatile acidity, sulphates, residual sugar, red_wine, total sulfur dioxide\n",
      "(Step) - Adjusted R^2: This = 0.285; Best = 0.285\n",
      "(Step) - New Best!   : Feature = red_wine; R^2 = 0.287; Adjusted R^2 = 0.285\n",
      "(Step) Trying free sulfur dioxide...\n",
      "(Step) - Features = alcohol, volatile acidity, sulphates, residual sugar, red_wine, free sulfur dioxide\n",
      "(Step) - Adjusted R^2: This = 0.289; Best = 0.285\n",
      "(Step) - New Best!   : Feature = red_wine; R^2 = 0.287; Adjusted R^2 = 0.285\n",
      "(Step) Trying fixed acidity...\n",
      "(Step) - Features = alcohol, volatile acidity, sulphates, residual sugar, red_wine, fixed acidity\n",
      "(Step) - Adjusted R^2: This = 0.286; Best = 0.285\n",
      "(Step) Trying pH...\n",
      "(Step) - Features = alcohol, volatile acidity, sulphates, residual sugar, red_wine, pH\n",
      "(Step) - Adjusted R^2: This = 0.286; Best = 0.285\n",
      "(Step) Trying density...\n",
      "(Step) - Features = alcohol, volatile acidity, sulphates, residual sugar, red_wine, density\n",
      "(Step) - Adjusted R^2: This = 0.289; Best = 0.285\n",
      "(Step) Trying chlorides...\n",
      "(Step) - Features = alcohol, volatile acidity, sulphates, residual sugar, red_wine, chlorides\n",
      "(Step) - Adjusted R^2: This = 0.286; Best = 0.285\n",
      "(Step) Trying citric acid...\n",
      "(Step) - Features = alcohol, volatile acidity, sulphates, residual sugar, red_wine, citric acid\n",
      "(Step) - Adjusted R^2: This = 0.286; Best = 0.285\n",
      "Added feature free sulfur dioxide with R^2 = 0.291 and adjusted R^2 = 0.289\n",
      "\n",
      "(Step) Evaluate = total sulfur dioxide, fixed acidity, pH, density, chlorides, citric acid\n",
      "(Step) Trying total sulfur dioxide...\n",
      "(Step) - Features = alcohol, volatile acidity, sulphates, residual sugar, red_wine, free sulfur dioxide, total sulfur dioxide\n",
      "(Step) - Adjusted R^2: This = 0.293; Best = 0.289\n",
      "(Step) - New Best!   : Feature = free sulfur dioxide; R^2 = 0.291; Adjusted R^2 = 0.289\n",
      "(Step) Trying fixed acidity...\n",
      "(Step) - Features = alcohol, volatile acidity, sulphates, residual sugar, red_wine, free sulfur dioxide, fixed acidity\n",
      "(Step) - Adjusted R^2: This = 0.290; Best = 0.289\n",
      "(Step) Trying pH...\n",
      "(Step) - Features = alcohol, volatile acidity, sulphates, residual sugar, red_wine, free sulfur dioxide, pH\n",
      "(Step) - Adjusted R^2: This = 0.290; Best = 0.289\n",
      "(Step) Trying density...\n",
      "(Step) - Features = alcohol, volatile acidity, sulphates, residual sugar, red_wine, free sulfur dioxide, density\n",
      "(Step) - Adjusted R^2: This = 0.292; Best = 0.289\n",
      "(Step) Trying chlorides...\n",
      "(Step) - Features = alcohol, volatile acidity, sulphates, residual sugar, red_wine, free sulfur dioxide, chlorides\n",
      "(Step) - Adjusted R^2: This = 0.290; Best = 0.289\n",
      "(Step) Trying citric acid...\n",
      "(Step) - Features = alcohol, volatile acidity, sulphates, residual sugar, red_wine, free sulfur dioxide, citric acid\n",
      "(Step) - Adjusted R^2: This = 0.290; Best = 0.289\n",
      "Added feature total sulfur dioxide with R^2 = 0.295 and adjusted R^2 = 0.293\n",
      "\n",
      "(Step) Evaluate = fixed acidity, pH, density, chlorides, citric acid\n",
      "(Step) Trying fixed acidity...\n",
      "(Step) - Features = alcohol, volatile acidity, sulphates, residual sugar, red_wine, free sulfur dioxide, total sulfur dioxide, fixed acidity\n",
      "(Step) - Adjusted R^2: This = 0.294; Best = 0.293\n",
      "(Step) - New Best!   : Feature = total sulfur dioxide; R^2 = 0.295; Adjusted R^2 = 0.293\n",
      "(Step) Trying pH...\n",
      "(Step) - Features = alcohol, volatile acidity, sulphates, residual sugar, red_wine, free sulfur dioxide, total sulfur dioxide, pH\n",
      "(Step) - Adjusted R^2: This = 0.294; Best = 0.293\n",
      "(Step) - New Best!   : Feature = total sulfur dioxide; R^2 = 0.295; Adjusted R^2 = 0.293\n",
      "(Step) Trying density...\n",
      "(Step) - Features = alcohol, volatile acidity, sulphates, residual sugar, red_wine, free sulfur dioxide, total sulfur dioxide, density\n",
      "(Step) - Adjusted R^2: This = 0.296; Best = 0.293\n",
      "(Step) - New Best!   : Feature = total sulfur dioxide; R^2 = 0.295; Adjusted R^2 = 0.293\n",
      "(Step) Trying chlorides...\n",
      "(Step) - Features = alcohol, volatile acidity, sulphates, residual sugar, red_wine, free sulfur dioxide, total sulfur dioxide, chlorides\n",
      "(Step) - Adjusted R^2: This = 0.295; Best = 0.293\n",
      "(Step) Trying citric acid...\n",
      "(Step) - Features = alcohol, volatile acidity, sulphates, residual sugar, red_wine, free sulfur dioxide, total sulfur dioxide, citric acid\n",
      "(Step) - Adjusted R^2: This = 0.294; Best = 0.293\n",
      "Added feature density with R^2 = 0.297 and adjusted R^2 = 0.296\n",
      "\n",
      "(Step) Evaluate = chlorides, pH, citric acid, fixed acidity\n",
      "(Step) Trying chlorides...\n",
      "(Step) - Features = alcohol, volatile acidity, sulphates, residual sugar, red_wine, free sulfur dioxide, total sulfur dioxide, density, chlorides\n",
      "(Step) - Adjusted R^2: This = 0.297; Best = 0.296\n",
      "(Step) - New Best!   : Feature = density; R^2 = 0.297; Adjusted R^2 = 0.296\n",
      "(Step) Trying pH...\n",
      "(Step) - Features = alcohol, volatile acidity, sulphates, residual sugar, red_wine, free sulfur dioxide, total sulfur dioxide, density, pH\n",
      "(Step) - Adjusted R^2: This = 0.297; Best = 0.296\n",
      "(Step) Trying citric acid...\n",
      "(Step) - Features = alcohol, volatile acidity, sulphates, residual sugar, red_wine, free sulfur dioxide, total sulfur dioxide, density, citric acid\n",
      "(Step) - Adjusted R^2: This = 0.296; Best = 0.296\n",
      "(Step) Trying fixed acidity...\n",
      "(Step) - Features = alcohol, volatile acidity, sulphates, residual sugar, red_wine, free sulfur dioxide, total sulfur dioxide, density, fixed acidity\n",
      "(Step) - Adjusted R^2: This = 0.296; Best = 0.296\n",
      "Added feature chlorides with R^2 = 0.298 and adjusted R^2 = 0.297\n",
      "\n",
      "(Step) Evaluate = pH, citric acid, fixed acidity\n",
      "(Step) Trying pH...\n",
      "(Step) - Features = alcohol, volatile acidity, sulphates, residual sugar, red_wine, free sulfur dioxide, total sulfur dioxide, density, chlorides, pH\n",
      "(Step) - Adjusted R^2: This = 0.297; Best = 0.297\n",
      "(Step) - New Best!   : Feature = chlorides; R^2 = 0.298; Adjusted R^2 = 0.297\n",
      "(Step) Trying citric acid...\n",
      "(Step) - Features = alcohol, volatile acidity, sulphates, residual sugar, red_wine, free sulfur dioxide, total sulfur dioxide, density, chlorides, citric acid\n",
      "(Step) - Adjusted R^2: This = 0.297; Best = 0.297\n",
      "(Step) Trying fixed acidity...\n",
      "(Step) - Features = alcohol, volatile acidity, sulphates, residual sugar, red_wine, free sulfur dioxide, total sulfur dioxide, density, chlorides, fixed acidity\n",
      "(Step) - Adjusted R^2: This = 0.297; Best = 0.297\n",
      "Added feature pH   with R^2 = 0.299 and adjusted R^2 = 0.297\n",
      "\n",
      "(Step) Evaluate = citric acid, fixed acidity\n",
      "(Step) Trying citric acid...\n",
      "(Step) - Features = alcohol, volatile acidity, sulphates, residual sugar, red_wine, free sulfur dioxide, total sulfur dioxide, density, chlorides, pH, citric acid\n",
      "(Step) - Adjusted R^2: This = 0.297; Best = 0.297\n",
      "(Step) - New Best!   : Feature = pH; R^2 = 0.299; Adjusted R^2 = 0.297\n",
      "(Step) Trying fixed acidity...\n",
      "(Step) - Features = alcohol, volatile acidity, sulphates, residual sugar, red_wine, free sulfur dioxide, total sulfur dioxide, density, chlorides, pH, fixed acidity\n",
      "(Step) - Adjusted R^2: This = 0.301; Best = 0.297\n",
      "(Step) - New Best!   : Feature = pH; R^2 = 0.299; Adjusted R^2 = 0.297\n",
      "Added feature fixed acidity with R^2 = 0.303 and adjusted R^2 = 0.301\n",
      "\n",
      "(Step) Evaluate = citric acid\n",
      "(Step) Trying citric acid...\n",
      "(Step) - Features = alcohol, volatile acidity, sulphates, residual sugar, red_wine, free sulfur dioxide, total sulfur dioxide, density, chlorides, pH, fixed acidity, citric acid\n",
      "(Step) - Adjusted R^2: This = 0.301; Best = 0.301\n",
      "(Step) - New Best!   : Feature = fixed acidity; R^2 = 0.303; Adjusted R^2 = 0.301\n",
      "Added feature citric acid with R^2 = 0.303 and adjusted R^2 = 0.301\n",
      "\n",
      "(Step) Evaluate = \n",
      "**************************************************\n",
      "\n",
      "Number of resulting predictors: 12\n",
      "Predictor names: alcohol, volatile acidity, sulphates, residual sugar, red_wine, free sulfur dioxide, total sulfur dioxide, density, chlorides, pH, fixed acidity, citric acid\n",
      "Scores: R^2=0.303, adjusted R^2=0.301\n"
     ]
    }
   ],
   "source": [
    "# Simplify outer while loop (add step comments back)\n",
    "\n",
    "show_steps = True # for testing/debugging, set to False to not display steps\n",
    "\n",
    "include = [] #predictors included in final model\n",
    "inner_score = {'feature': '', 'r2': 0, 'adj_r2': 0}\n",
    "best_score = {'feature': '', 'r2': 0, 'adj_r2': 0}\n",
    "\n",
    "while True:\n",
    "    \n",
    "    evaluate = list(set(X.columns) - set(include)) #predictors to be evaluated\n",
    "    \n",
    "    if show_steps:\n",
    "        print('')\n",
    "        print('(Step) Evaluate = %s' % ', '.join(evaluate))  \n",
    "           \n",
    "    for col in evaluate:\n",
    "        \n",
    "        if show_steps:\n",
    "            print('(Step) Trying %s...' % col)\n",
    "            print('(Step) - Features = %s' % ', '.join(include + [col]))\n",
    "\n",
    "        r2 = LinearRegression().fit(X_train[include + [col]], y_train).score(X_train[include + [col]], y_train)\n",
    "        adjusted_r2 = 1 - ( ( (1 - r2) * (len(X_train) - 1) ) / (len(X_train) - len(included + [col]) - 1) )\n",
    "        \n",
    "        if show_steps:\n",
    "            print('(Step) - Adjusted R^2: This = %.3f; Best = %.3f' % \n",
    "                  (adjusted_r2, best_score['adj_r2']))\n",
    "\n",
    "        if adjusted_r2 > inner_score['adj_r2']:\n",
    "            inner_score = {'feature': col, 'r2': r2, 'adj_r2': adjusted_r2}\n",
    "            if show_steps:\n",
    "                print('(Step) - New Best!   : Feature = %s; R^2 = %.3f; Adjusted R^2 = %.3f' % \n",
    "                      (best_score['feature'], best_score['r2'], best_score['adj_r2']))\n",
    "                            \n",
    "    if inner_score['adj_r2'] > best_score['adj_r2']:\n",
    "        best_score = inner_score\n",
    "        include.append(best_score['feature'])\n",
    "        evaluate = list(set(evaluate) - set(best_score['feature']))\n",
    "        if show_steps:\n",
    "            print('Added feature %-4s with R^2 = %.3f and adjusted R^2 = %.3f' %\n",
    "                  (best_score['feature'], best_score['r2'], best_score['adj_r2']))\n",
    "    else:\n",
    "        print('*'*50)\n",
    "        break\n",
    "\n",
    "print('')\n",
    "print('Number of resulting predictors:', len(include))\n",
    "print('Predictor names: ' + ', '.join(include))\n",
    "print(f'Scores: R^2={np.round(best_score[\"r2\"],3)}, adjusted R^2={np.round(best_score[\"adj_r2\"], 3)}')"
   ]
  },
  {
   "cell_type": "code",
   "execution_count": 309,
   "metadata": {},
   "outputs": [],
   "source": [
    "def ffs(X=X, y=y, model=LinearRegression(), ttsplit=0.2):\n",
    "    \"\"\"\n",
    "    Function to select best features \n",
    "    by forward feature selection\n",
    "    \"\"\"\n",
    "    \n",
    "    include = [] #predictors included in final model\n",
    "    inner_score = {'feature': '', 'r2': 0, 'adj_r2': 0}\n",
    "    best_score = {'feature': '', 'r2': 0, 'adj_r2': 0}\n",
    "    \n",
    "    X_train, X_test, y_train, y_test = train_test_split(X, y, test_size = ttsplit, random_state=42)\n",
    "\n",
    "    while True:\n",
    "\n",
    "        evaluate = list(set(X.columns) - set(include)) #predictors to be evaluated\n",
    "\n",
    "        for col in evaluate:\n",
    "            r2 = model.fit(X_train[include + [col]], y_train).score(X_train[include + [col]], y_train)\n",
    "            adjusted_r2 = 1 - ( ( (1 - r2) * (len(X_train) - 1) ) / (len(X_train) - len(included + [col]) - 1) )\n",
    "\n",
    "            if adjusted_r2 > inner_score['adj_r2']:\n",
    "                inner_score = {'feature': col, 'r2': r2, 'adj_r2': adjusted_r2}\n",
    "\n",
    "        if inner_score['adj_r2'] > best_score['adj_r2']:\n",
    "            best_score = inner_score\n",
    "            include.append(best_score['feature'])\n",
    "            evaluate = list(set(evaluate) - set(best_score['feature']))\n",
    "\n",
    "        else:\n",
    "            break\n",
    "    \n",
    "    return (print('Number of resulting predictors:', len(include)), \n",
    "            print('Predictor names: ' + ', '.join(include)), \n",
    "            print(f'Scores: R^2={np.round(best_score[\"r2\"],3)}, adjusted R^2={np.round(best_score[\"adj_r2\"], 3)}'))"
   ]
  },
  {
   "cell_type": "code",
   "execution_count": 310,
   "metadata": {},
   "outputs": [
    {
     "name": "stdout",
     "output_type": "stream",
     "text": [
      "Number of resulting predictors: 12\n",
      "Predictor names: alcohol, volatile acidity, sulphates, residual sugar, red_wine, free sulfur dioxide, total sulfur dioxide, density, chlorides, pH, fixed acidity, citric acid\n",
      "Scores: R^2=0.303, adjusted R^2=0.301\n"
     ]
    },
    {
     "data": {
      "text/plain": [
       "(None, None, None)"
      ]
     },
     "execution_count": 310,
     "metadata": {},
     "output_type": "execute_result"
    }
   ],
   "source": [
    "ffs()"
   ]
  },
  {
   "cell_type": "markdown",
   "metadata": {},
   "source": [
    "## Feature selection the lazy way "
   ]
  },
  {
   "cell_type": "code",
   "execution_count": 237,
   "metadata": {},
   "outputs": [
    {
     "name": "stdout",
     "output_type": "stream",
     "text": [
      "Number of selected features: 11\n",
      "Selected features: ('fixed acidity', 'volatile acidity', 'residual sugar', 'chlorides', 'free sulfur dioxide', 'total sulfur dioxide', 'density', 'pH', 'sulphates', 'alcohol', 'red_wine')\n",
      "Cross validation average score: 0.2983779201525915\n"
     ]
    }
   ],
   "source": [
    "# Forward feature selection (the lazy way) using mlxtend\n",
    "\n",
    "from mlxtend.feature_selection import SequentialFeatureSelector as SFS\n",
    "\n",
    "X_train, X_test, y_train, y_test = train_test_split(X, y, test_size=0.20, random_state=42)\n",
    "\n",
    "lreg = LinearRegression()\n",
    "sfs = SFS(lreg, k_features='best', forward=True, verbose=0, scoring='r2', cv=5) #verbose: level of output details (0, 1 or 2)\n",
    "sfs.fit(X_train, y_train)\n",
    "\n",
    "print('Number of selected features:', len(sfs.k_feature_names_))\n",
    "print('Selected features:', sfs.k_feature_names_)\n",
    "print('Cross validation average score:', sfs.k_score_)"
   ]
  },
  {
   "cell_type": "code",
   "execution_count": 238,
   "metadata": {},
   "outputs": [
    {
     "name": "stdout",
     "output_type": "stream",
     "text": [
      "Number of selected features: 11\n",
      "Selected features: ('fixed acidity', 'volatile acidity', 'residual sugar', 'chlorides', 'free sulfur dioxide', 'total sulfur dioxide', 'density', 'pH', 'sulphates', 'alcohol', 'red_wine')\n",
      "Cross validation average score: 0.2983779201525915\n"
     ]
    }
   ],
   "source": [
    "# Backward feature selection (the lazy way) using mlxtend\n",
    "\n",
    "from mlxtend.feature_selection import SequentialFeatureSelector as SFS\n",
    "\n",
    "X_train, X_test, y_train, y_test = train_test_split(X, y, test_size=0.20, random_state=42)\n",
    "\n",
    "lreg = LinearRegression()\n",
    "sfs = SFS(lreg, k_features='best', forward=False, verbose=0, scoring='r2', cv=5) #verbose: level of output details (0, 1 or 2)\n",
    "sfs.fit(X_train, y_train)\n",
    "\n",
    "print('Number of selected features:', len(sfs.k_feature_names_))\n",
    "print('Selected features:', sfs.k_feature_names_)\n",
    "print('Cross validation average score:', sfs.k_score_)"
   ]
  },
  {
   "cell_type": "code",
   "execution_count": 239,
   "metadata": {},
   "outputs": [
    {
     "name": "stdout",
     "output_type": "stream",
     "text": [
      "Number of selected features: 8\n",
      "Selected features: ['volatile acidity' 'residual sugar' 'free sulfur dioxide'\n",
      " 'total sulfur dioxide' 'density' 'sulphates' 'alcohol' 'red_wine']\n"
     ]
    }
   ],
   "source": [
    "# FORWARD feature selection (the lazy way) with sklearn\n",
    "\n",
    "from sklearn.feature_selection import SequentialFeatureSelector as sfs\n",
    "\n",
    "X_train, X_test, y_train, y_test = train_test_split(X, y, test_size=0.20, random_state=42)\n",
    "\n",
    "lreg = LinearRegression()\n",
    "sfs = sfs(lreg, n_features_to_select='auto', tol=0.001, direction='forward', scoring='r2' ,cv=5)\n",
    "sfs.fit(X_train, y_train)\n",
    "\n",
    "forward = sfs.get_feature_names_out()\n",
    "print('Number of selected features:', len(forward))\n",
    "print('Selected features:', forward)"
   ]
  },
  {
   "cell_type": "code",
   "execution_count": 240,
   "metadata": {},
   "outputs": [
    {
     "name": "stdout",
     "output_type": "stream",
     "text": [
      "Number of selected features: 11\n",
      "Selected features: ['fixed acidity' 'volatile acidity' 'residual sugar' 'chlorides'\n",
      " 'free sulfur dioxide' 'total sulfur dioxide' 'density' 'pH' 'sulphates'\n",
      " 'alcohol' 'red_wine']\n"
     ]
    }
   ],
   "source": [
    "# BACKWARD feature selection (the lazy way) with sklearn\n",
    "\n",
    "from sklearn.feature_selection import SequentialFeatureSelector as sfs\n",
    "\n",
    "X_train, X_test, y_train, y_test = train_test_split(X, y, test_size=0.20, random_state=42)\n",
    "\n",
    "lreg = LinearRegression()\n",
    "sfs = sfs(lreg, n_features_to_select='auto', tol=0.001, direction='backward', scoring='r2' ,cv=5)\n",
    "sfs.fit(X_train, y_train)\n",
    "\n",
    "backward = sfs.get_feature_names_out()\n",
    "print('Number of selected features:', len(backward))\n",
    "print('Selected features:', backward)"
   ]
  },
  {
   "cell_type": "code",
   "execution_count": 241,
   "metadata": {},
   "outputs": [
    {
     "data": {
      "text/plain": [
       "['chlorides', 'pH', 'fixed acidity']"
      ]
     },
     "execution_count": 241,
     "metadata": {},
     "output_type": "execute_result"
    }
   ],
   "source": [
    "list(set(backward) - set(forward))"
   ]
  },
  {
   "cell_type": "markdown",
   "metadata": {
    "id": "3LCpYCPXl1XK"
   },
   "source": [
    "\n",
    "\n",
    "---\n",
    "\n",
    "\n",
    "\n",
    "---\n",
    "\n",
    "\n",
    "\n",
    "> > > > > > > > > © 2022 Institute of Data\n",
    "\n",
    "\n",
    "---\n",
    "\n",
    "\n",
    "\n",
    "---\n",
    "\n",
    "\n",
    "\n"
   ]
  }
 ],
 "metadata": {
  "colab": {
   "collapsed_sections": [],
   "name": "IOD_Lab 4.2.2.ipynb",
   "provenance": []
  },
  "kernelspec": {
   "display_name": "Python 3 (ipykernel)",
   "language": "python",
   "name": "python3"
  },
  "language_info": {
   "codemirror_mode": {
    "name": "ipython",
    "version": 3
   },
   "file_extension": ".py",
   "mimetype": "text/x-python",
   "name": "python",
   "nbconvert_exporter": "python",
   "pygments_lexer": "ipython3",
   "version": "3.9.13"
  }
 },
 "nbformat": 4,
 "nbformat_minor": 4
}
