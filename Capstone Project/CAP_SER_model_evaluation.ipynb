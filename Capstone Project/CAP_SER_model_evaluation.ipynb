{
 "cells": [
  {
   "cell_type": "markdown",
   "id": "d068962a-df6f-4894-8bff-d0dc69f72fce",
   "metadata": {},
   "source": [
    "## Model evaluation"
   ]
  },
  {
   "cell_type": "code",
   "execution_count": 1,
   "id": "65c35ab2-714c-4c1e-adde-fe4f26e91f44",
   "metadata": {
    "_cell_guid": "79c7e3d0-c299-4dcb-8224-4455121ee9b0",
    "_uuid": "d629ff2d2480ee46fbb7e2d37f6b5fab8052498a",
    "executionInfo": {
     "elapsed": 9084,
     "status": "ok",
     "timestamp": 1681306090098,
     "user": {
      "displayName": "Thomas Stoll",
      "userId": "02821182997389909828"
     },
     "user_tz": -600
    },
    "id": "b160f2e4-a0d0-4f72-a2cb-b1aca6e86155"
   },
   "outputs": [],
   "source": [
    "import pandas as pd\n",
    "import numpy as np\n",
    "import seaborn as sns\n",
    "import matplotlib.pyplot as plt\n",
    "import joblib\n",
    "\n",
    "from sklearn.preprocessing import MinMaxScaler\n",
    "from sklearn.model_selection import train_test_split\n",
    "from sklearn.metrics import confusion_matrix, classification_report\n",
    "\n",
    "from tensorflow.keras.utils import to_categorical\n",
    "from tensorflow.keras import layers, models\n",
    "\n",
    "%matplotlib inline"
   ]
  },
  {
   "cell_type": "code",
   "execution_count": 2,
   "id": "4747b53f-78f7-4357-912c-2309d8e9cfdb",
   "metadata": {
    "executionInfo": {
     "elapsed": 393,
     "status": "ok",
     "timestamp": 1681306101026,
     "user": {
      "displayName": "Thomas Stoll",
      "userId": "02821182997389909828"
     },
     "user_tz": -600
    },
    "id": "f5b3b695-325f-476e-ba6e-727b0d07d3f7"
   },
   "outputs": [],
   "source": [
    "plt.style.use('ggplot')"
   ]
  },
  {
   "cell_type": "markdown",
   "id": "0523ecee-0761-4d8e-8793-324d4b7b30c7",
   "metadata": {},
   "source": [
    "### Helper functions"
   ]
  },
  {
   "cell_type": "code",
   "execution_count": 3,
   "id": "7c2d8fe7-f270-499a-a6fb-b92982ef5645",
   "metadata": {
    "executionInfo": {
     "elapsed": 9,
     "status": "ok",
     "timestamp": 1681306135106,
     "user": {
      "displayName": "Thomas Stoll",
      "userId": "02821182997389909828"
     },
     "user_tz": -600
    },
    "id": "93be5dca-5365-480f-9b31-f95aa63e66c1"
   },
   "outputs": [],
   "source": [
    "def pred_vs_actual_df(y_test, y_pred):\n",
    "    \"\"\"\n",
    "    Function to plot predicted vs. actual emotion labels\n",
    "    \"\"\"\n",
    "    # Emotion map\n",
    "    label2name = {0:'neutral', 1:'calm', 2:'happy', 3:'sad',\n",
    "                  4:'angry', 5:'fear', 6:'disgust', 7:'surprise'}\n",
    "    \n",
    "    df_pred = pd.DataFrame(columns=['predicted_label', 'actual_label'])\n",
    "    df_pred['predicted_label'] = y_pred.flatten()\n",
    "    df_pred['actual_label'] = y_test.flatten()\n",
    "    df_pred['predicted_label'] = df_pred['predicted_label'].map(label2name)\n",
    "    df_pred['actual_label'] = df_pred['actual_label'].map(label2name)\n",
    "    \n",
    "    return df_pred"
   ]
  },
  {
   "cell_type": "code",
   "execution_count": 4,
   "id": "f3ab5b79-ac0b-41e1-9c1c-f6bf5dc326b8",
   "metadata": {
    "executionInfo": {
     "elapsed": 9,
     "status": "ok",
     "timestamp": 1681306135107,
     "user": {
      "displayName": "Thomas Stoll",
      "userId": "02821182997389909828"
     },
     "user_tz": -600
    },
    "id": "7be8703b-03e6-4ace-8519-b33c434c6733"
   },
   "outputs": [],
   "source": [
    "def plot_confusion_matrix(y_test, y_pred):\n",
    "    \"\"\"\n",
    "    Function to plot confusion matrix\n",
    "    \"\"\"\n",
    "    cm = confusion_matrix(y_test, y_pred)\n",
    "   \n",
    "    # Emotion map\n",
    "    label2name = {0:'neutral', 1:'calm', 2:'happy', 3:'sad',\n",
    "                  4:'angry', 5:'fear', 6:'disgust', 7:'surprise'}\n",
    "    \n",
    "    # Add emotion annotation\n",
    "    emotion_names = [emotion for emotion in label2name.values()]\n",
    "    cm_df = pd.DataFrame(cm, index=emotion_names, columns=emotion_names)\n",
    "\n",
    "    plt.figure(figsize=(6,5))\n",
    "    sns.heatmap(cm_df, annot=True, cmap='Blues', linewidth=1, fmt='')\n",
    "    plt.title('Confusion Matrix')\n",
    "    plt.xlabel('Predicted label')\n",
    "    plt.ylabel('True label'); "
   ]
  },
  {
   "cell_type": "markdown",
   "id": "e7747a4b-44e0-4a8a-936f-b8a91b14a015",
   "metadata": {
    "id": "cfdc998a-39f2-4b51-b9f1-f7baf6694807"
   },
   "source": [
    "### Load model and weights"
   ]
  },
  {
   "cell_type": "code",
   "execution_count": 5,
   "id": "4e162d9b-0d4d-4095-9fce-a6f36a07ff05",
   "metadata": {
    "id": "4e162d9b-0d4d-4095-9fce-a6f36a07ff05"
   },
   "outputs": [],
   "source": [
    "# Create a new model\n",
    "new_model = models.Sequential()"
   ]
  },
  {
   "cell_type": "code",
   "execution_count": 6,
   "id": "2a423e43-0a7c-4cff-b72d-74e38759e7f3",
   "metadata": {
    "id": "2a423e43-0a7c-4cff-b72d-74e38759e7f3"
   },
   "outputs": [],
   "source": [
    "# Load model and weights\n",
    "with open('CNN_multfeat40_1d_model_01.json', 'r') as json_file:\n",
    "    model_json = json_file.read()\n",
    "new_model = models.model_from_json(model_json)\n",
    "\n",
    "new_model.load_weights('CNN_multfeat40_1d_model_01.h5')"
   ]
  },
  {
   "cell_type": "code",
   "execution_count": 7,
   "id": "3a5b82ad-0ccb-4c76-84cd-0e57b5bc64de",
   "metadata": {
    "id": "3a5b82ad-0ccb-4c76-84cd-0e57b5bc64de"
   },
   "outputs": [],
   "source": [
    "# Compile the new model\n",
    "new_model.compile(optimizer='adam', loss='categorical_crossentropy', metrics=['accuracy'])"
   ]
  },
  {
   "cell_type": "markdown",
   "id": "358482b3-bc8c-4933-bf52-ffdddb152d8a",
   "metadata": {},
   "source": [
    "### Load feature data"
   ]
  },
  {
   "cell_type": "markdown",
   "id": "48f92360-eb77-4475-9562-21ad59134d1a",
   "metadata": {},
   "source": [
    "Download feature data via the following links:\n",
    "\n",
    "[X_multfeat_40.joblib (1.2GB)](https://drive.google.com/file/d/1okOZjWxMr5dmt3OFHxmH6K3Yt-gBAj5I/view?usp=sharing)\n",
    "\n",
    "[y_multfeat_40.joblib](https://drive.google.com/file/d/1izMdMGPi2vpGFIJescuVLqZw-UuKRKZ5/view?usp=sharing)"
   ]
  },
  {
   "cell_type": "code",
   "execution_count": 8,
   "id": "cf6678d7-c391-406d-88b3-ceeded814c4f",
   "metadata": {
    "colab": {
     "base_uri": "https://localhost:8080/"
    },
    "executionInfo": {
     "elapsed": 15634,
     "status": "ok",
     "timestamp": 1681289605116,
     "user": {
      "displayName": "Thomas Stoll",
      "userId": "02821182997389909828"
     },
     "user_tz": -600
    },
    "id": "dd272b34-43c9-4171-bb99-f28696c2e4d3",
    "outputId": "f94ccec2-8026-4254-ac67-d5e456c4ebea"
   },
   "outputs": [
    {
     "data": {
      "text/plain": [
       "(16960, 9072)"
      ]
     },
     "execution_count": 8,
     "metadata": {},
     "output_type": "execute_result"
    }
   ],
   "source": [
    "# Load joblib files\n",
    "X_name, y_name = 'X_multfeat_40.joblib', 'y_multfeat_40.joblib'\n",
    "\n",
    "X = joblib.load(X_name)\n",
    "y = joblib.load(y_name)\n",
    "\n",
    "# Check shape\n",
    "X.shape"
   ]
  },
  {
   "cell_type": "markdown",
   "id": "bb51bc28-219b-48bc-b80d-c65af114c3cf",
   "metadata": {
    "id": "496e5b9c-a24f-4325-9ca2-b40b8e6c209e"
   },
   "source": [
    "### Split data"
   ]
  },
  {
   "cell_type": "code",
   "execution_count": 9,
   "id": "459b4f8e-91f9-4749-943c-76cba6977b00",
   "metadata": {
    "colab": {
     "base_uri": "https://localhost:8080/"
    },
    "executionInfo": {
     "elapsed": 1381,
     "status": "ok",
     "timestamp": 1681289609635,
     "user": {
      "displayName": "Thomas Stoll",
      "userId": "02821182997389909828"
     },
     "user_tz": -600
    },
    "id": "3ea086a9-08a4-4b59-8a8f-6a0f50468e3e",
    "outputId": "38a6643e-5946-4220-aca4-b0b3eb05f514"
   },
   "outputs": [
    {
     "data": {
      "text/plain": [
       "((13568, 9072), (13568,), (3392, 9072), (3392,))"
      ]
     },
     "execution_count": 9,
     "metadata": {},
     "output_type": "execute_result"
    }
   ],
   "source": [
    "# Split data\n",
    "X_train, X_test, y_train, y_test = train_test_split(X, y, test_size=0.2, stratify=y, random_state=42)\n",
    "X_train.shape, y_train.shape, X_test.shape, y_test.shape"
   ]
  },
  {
   "cell_type": "markdown",
   "id": "52a9637a-ac00-4d58-aeea-035921e70112",
   "metadata": {
    "id": "0d7e8f74-06a2-49ce-87a1-f38fd20660ae"
   },
   "source": [
    "### Scale data"
   ]
  },
  {
   "cell_type": "code",
   "execution_count": 10,
   "id": "79747093-33d0-4155-9d9c-3eaf87bef006",
   "metadata": {
    "id": "b1b8b35b-4f4c-46d3-bae1-10ee94f0c819"
   },
   "outputs": [],
   "source": [
    "# Scale data\n",
    "scaler = MinMaxScaler()\n",
    "X_train = scaler.fit_transform(X_train)\n",
    "X_test = scaler.transform(X_test)"
   ]
  },
  {
   "cell_type": "markdown",
   "id": "046c3fd1-021a-48d6-b01b-5ff02a4fa41d",
   "metadata": {
    "id": "0a0b9039-ee94-42b0-b6af-b5047d144fb9"
   },
   "source": [
    "### Reshape data"
   ]
  },
  {
   "cell_type": "code",
   "execution_count": 11,
   "id": "40a568b6-1dcd-4d8e-883e-e31a1f056a12",
   "metadata": {
    "colab": {
     "base_uri": "https://localhost:8080/"
    },
    "executionInfo": {
     "elapsed": 1459,
     "status": "ok",
     "timestamp": 1681289624991,
     "user": {
      "displayName": "Thomas Stoll",
      "userId": "02821182997389909828"
     },
     "user_tz": -600
    },
    "id": "ecc64d92-27e7-4bac-8bec-ab1b0835b2dc",
    "outputId": "692dd302-0944-4903-bf5f-d60644106860"
   },
   "outputs": [
    {
     "data": {
      "text/plain": [
       "((13568, 9072, 1), (3392, 9072, 1))"
      ]
     },
     "execution_count": 11,
     "metadata": {},
     "output_type": "execute_result"
    }
   ],
   "source": [
    "# Create a dummy channel dim to expand features into a 3D tensor format\n",
    "X_traincnn = np.expand_dims(X_train, axis=2)\n",
    "X_testcnn = np.expand_dims(X_test, axis=2)\n",
    "X_traincnn.shape, X_testcnn.shape"
   ]
  },
  {
   "cell_type": "code",
   "execution_count": 12,
   "id": "033463b8-e7b9-4e87-a922-ad40a0e05db0",
   "metadata": {
    "colab": {
     "base_uri": "https://localhost:8080/"
    },
    "executionInfo": {
     "elapsed": 4,
     "status": "ok",
     "timestamp": 1681289625599,
     "user": {
      "displayName": "Thomas Stoll",
      "userId": "02821182997389909828"
     },
     "user_tz": -600
    },
    "id": "403daba5-b74b-455f-885a-de9fde79ad90",
    "outputId": "4e9687a2-bc66-42c1-972c-97de307e30de"
   },
   "outputs": [
    {
     "data": {
      "text/plain": [
       "array([6, 4, 7, ..., 5, 0, 3])"
      ]
     },
     "execution_count": 12,
     "metadata": {},
     "output_type": "execute_result"
    }
   ],
   "source": [
    "y_train"
   ]
  },
  {
   "cell_type": "markdown",
   "id": "18fa4912-be63-479d-8f27-917266fb7d4d",
   "metadata": {
    "id": "4da37829-5b8a-4d08-98ff-fda0f1a4a786"
   },
   "source": [
    "### Encode variable"
   ]
  },
  {
   "cell_type": "code",
   "execution_count": 13,
   "id": "d187f39b-a377-402b-9d9f-159e5b1c817a",
   "metadata": {
    "id": "5455198f-b738-489f-a3ef-5b1c3818f072"
   },
   "outputs": [],
   "source": [
    "# Encode target values to binary class matrix\n",
    "enc_y_train = to_categorical(y_train, dtype = 'uint8')\n",
    "enc_y_test = to_categorical(y_test, dtype = 'uint8')"
   ]
  },
  {
   "cell_type": "code",
   "execution_count": 14,
   "id": "7289900c-45f7-4c8e-9a75-4829c80c094c",
   "metadata": {
    "colab": {
     "base_uri": "https://localhost:8080/"
    },
    "executionInfo": {
     "elapsed": 4,
     "status": "ok",
     "timestamp": 1681289626141,
     "user": {
      "displayName": "Thomas Stoll",
      "userId": "02821182997389909828"
     },
     "user_tz": -600
    },
    "id": "75cd8d68-5524-43b8-b67f-bc2979a97075",
    "outputId": "957775d4-86c7-4f73-dbfa-01515bb9dc28"
   },
   "outputs": [
    {
     "data": {
      "text/plain": [
       "((13568, 8), (3392, 8))"
      ]
     },
     "execution_count": 14,
     "metadata": {},
     "output_type": "execute_result"
    }
   ],
   "source": [
    "enc_y_train.shape, enc_y_test.shape"
   ]
  },
  {
   "cell_type": "code",
   "execution_count": 15,
   "id": "97ae0c9f-ded7-4988-9bd5-11bda1d25020",
   "metadata": {
    "colab": {
     "base_uri": "https://localhost:8080/"
    },
    "executionInfo": {
     "elapsed": 3,
     "status": "ok",
     "timestamp": 1681289627278,
     "user": {
      "displayName": "Thomas Stoll",
      "userId": "02821182997389909828"
     },
     "user_tz": -600
    },
    "id": "60a97c95-506d-4807-90f8-7fcccbb46093",
    "outputId": "16658582-672e-40c2-ea02-0a6ba055b80b"
   },
   "outputs": [
    {
     "data": {
      "text/plain": [
       "array([0, 0, 0, 0, 0, 0, 1, 0], dtype=uint8)"
      ]
     },
     "execution_count": 15,
     "metadata": {},
     "output_type": "execute_result"
    }
   ],
   "source": [
    "enc_y_train[0]"
   ]
  },
  {
   "cell_type": "markdown",
   "id": "95a07432-2f6b-4961-9868-49268a8b9bf9",
   "metadata": {
    "id": "d10d9a05-08ee-4c7b-8432-41ea49c9fba1"
   },
   "source": [
    "### Create predictions "
   ]
  },
  {
   "cell_type": "code",
   "execution_count": 16,
   "id": "f6624d3a-c5fe-4ea8-8322-37fb992be7f6",
   "metadata": {
    "colab": {
     "base_uri": "https://localhost:8080/"
    },
    "executionInfo": {
     "elapsed": 3,
     "status": "ok",
     "timestamp": 1681292412838,
     "user": {
      "displayName": "Thomas Stoll",
      "userId": "02821182997389909828"
     },
     "user_tz": -600
    },
    "id": "0047e23e-b9f8-4c80-9db7-b220872c3d0d",
    "outputId": "a45b73d1-aa79-45e9-e6cb-21e6cf99b069"
   },
   "outputs": [
    {
     "data": {
      "text/plain": [
       "((3392, 9072, 1), (3392, 8))"
      ]
     },
     "execution_count": 16,
     "metadata": {},
     "output_type": "execute_result"
    }
   ],
   "source": [
    "X_testcnn.shape, enc_y_test.shape"
   ]
  },
  {
   "cell_type": "code",
   "execution_count": 17,
   "id": "673b7009-e385-42a7-80b9-fd189066ee9b",
   "metadata": {
    "colab": {
     "base_uri": "https://localhost:8080/"
    },
    "executionInfo": {
     "elapsed": 572,
     "status": "ok",
     "timestamp": 1681292416032,
     "user": {
      "displayName": "Thomas Stoll",
      "userId": "02821182997389909828"
     },
     "user_tz": -600
    },
    "id": "fbf063c4-befc-4508-a145-3cdbbe3ff43a",
    "outputId": "cf8f07b9-ad89-4b9f-9da9-46284488de2c"
   },
   "outputs": [
    {
     "name": "stdout",
     "output_type": "stream",
     "text": [
      "106/106 [==============================] - 32s 302ms/step\n",
      "(3392, 8)\n"
     ]
    },
    {
     "data": {
      "text/plain": [
       "array([0.0000000e+00, 0.0000000e+00, 0.0000000e+00, 0.0000000e+00,\n",
       "       1.0000000e+00, 1.1435976e-28, 0.0000000e+00, 0.0000000e+00],\n",
       "      dtype=float32)"
      ]
     },
     "execution_count": 17,
     "metadata": {},
     "output_type": "execute_result"
    }
   ],
   "source": [
    "# Predict returns array of predictions\n",
    "y_pred = new_model.predict(X_testcnn)\n",
    "\n",
    "print(y_pred.shape)\n",
    "y_pred[0]"
   ]
  },
  {
   "cell_type": "code",
   "execution_count": 18,
   "id": "a98c99d6-fa7b-445c-8997-228c8744af1b",
   "metadata": {
    "colab": {
     "base_uri": "https://localhost:8080/"
    },
    "executionInfo": {
     "elapsed": 680,
     "status": "ok",
     "timestamp": 1681292416700,
     "user": {
      "displayName": "Thomas Stoll",
      "userId": "02821182997389909828"
     },
     "user_tz": -600
    },
    "id": "e033ce83-84c2-425e-9756-f45e0ce2fb68",
    "outputId": "f75b3c28-c4f2-47c0-8c7f-f3647061f2f1"
   },
   "outputs": [
    {
     "name": "stdout",
     "output_type": "stream",
     "text": [
      "106/106 [==============================] - 32s 300ms/step\n",
      "(3392,)\n"
     ]
    },
    {
     "data": {
      "text/plain": [
       "array([4, 0, 0, 4, 4, 5, 5, 2, 2, 4], dtype=int64)"
      ]
     },
     "execution_count": 18,
     "metadata": {},
     "output_type": "execute_result"
    }
   ],
   "source": [
    "# Predict and return index of best prediction value\n",
    "y_pred = np.argmax(new_model.predict(X_testcnn), axis=-1) \n",
    "\n",
    "print(y_pred.shape)\n",
    "y_pred[:10]"
   ]
  },
  {
   "cell_type": "code",
   "execution_count": 19,
   "id": "69ec83c3-f904-4e49-8f7d-88480ce9181c",
   "metadata": {
    "colab": {
     "base_uri": "https://localhost:8080/"
    },
    "executionInfo": {
     "elapsed": 19,
     "status": "ok",
     "timestamp": 1681292416701,
     "user": {
      "displayName": "Thomas Stoll",
      "userId": "02821182997389909828"
     },
     "user_tz": -600
    },
    "id": "a36eb861-9d47-429f-8322-d9085056266a",
    "outputId": "f4963b28-e0f2-4809-d774-8bfa60865818"
   },
   "outputs": [
    {
     "name": "stdout",
     "output_type": "stream",
     "text": [
      "(3392,)\n"
     ]
    },
    {
     "data": {
      "text/plain": [
       "array([4, 0, 5, 4, 4, 5, 5, 2, 2, 4], dtype=int64)"
      ]
     },
     "execution_count": 19,
     "metadata": {},
     "output_type": "execute_result"
    }
   ],
   "source": [
    "# Undo variable encoding\n",
    "y_test = np.argmax(enc_y_test, axis=-1)\n",
    "\n",
    "print(y_test.shape)\n",
    "y_test[:10]"
   ]
  },
  {
   "cell_type": "code",
   "execution_count": 20,
   "id": "75f7300c-1fdb-430e-801d-f675782f043f",
   "metadata": {
    "colab": {
     "base_uri": "https://localhost:8080/",
     "height": 237
    },
    "executionInfo": {
     "elapsed": 8,
     "status": "ok",
     "timestamp": 1681292416701,
     "user": {
      "displayName": "Thomas Stoll",
      "userId": "02821182997389909828"
     },
     "user_tz": -600
    },
    "id": "67e685d2-3364-4eda-ae91-81c31417ff63",
    "outputId": "b6b9c5b2-df8b-4e63-fa94-a4d490be777e"
   },
   "outputs": [
    {
     "data": {
      "text/html": [
       "<div>\n",
       "<style scoped>\n",
       "    .dataframe tbody tr th:only-of-type {\n",
       "        vertical-align: middle;\n",
       "    }\n",
       "\n",
       "    .dataframe tbody tr th {\n",
       "        vertical-align: top;\n",
       "    }\n",
       "\n",
       "    .dataframe thead th {\n",
       "        text-align: right;\n",
       "    }\n",
       "</style>\n",
       "<table border=\"1\" class=\"dataframe\">\n",
       "  <thead>\n",
       "    <tr style=\"text-align: right;\">\n",
       "      <th></th>\n",
       "      <th>predicted_label</th>\n",
       "      <th>actual_label</th>\n",
       "    </tr>\n",
       "  </thead>\n",
       "  <tbody>\n",
       "    <tr>\n",
       "      <th>0</th>\n",
       "      <td>angry</td>\n",
       "      <td>angry</td>\n",
       "    </tr>\n",
       "    <tr>\n",
       "      <th>1</th>\n",
       "      <td>neutral</td>\n",
       "      <td>neutral</td>\n",
       "    </tr>\n",
       "    <tr>\n",
       "      <th>2</th>\n",
       "      <td>neutral</td>\n",
       "      <td>fear</td>\n",
       "    </tr>\n",
       "    <tr>\n",
       "      <th>3</th>\n",
       "      <td>angry</td>\n",
       "      <td>angry</td>\n",
       "    </tr>\n",
       "    <tr>\n",
       "      <th>4</th>\n",
       "      <td>angry</td>\n",
       "      <td>angry</td>\n",
       "    </tr>\n",
       "    <tr>\n",
       "      <th>5</th>\n",
       "      <td>fear</td>\n",
       "      <td>fear</td>\n",
       "    </tr>\n",
       "  </tbody>\n",
       "</table>\n",
       "</div>"
      ],
      "text/plain": [
       "  predicted_label actual_label\n",
       "0           angry        angry\n",
       "1         neutral      neutral\n",
       "2         neutral         fear\n",
       "3           angry        angry\n",
       "4           angry        angry\n",
       "5            fear         fear"
      ]
     },
     "execution_count": 20,
     "metadata": {},
     "output_type": "execute_result"
    }
   ],
   "source": [
    "# Compile df actual vs predicted emotion\n",
    "pred_vs_actual_df(y_test, y_pred).head(6)"
   ]
  },
  {
   "cell_type": "markdown",
   "id": "e67309a2-81c5-4c9e-9cd5-72a9cc23488d",
   "metadata": {
    "id": "1811e78c-ef2d-4c99-8f84-172989526026"
   },
   "source": [
    "### Confusion matrix"
   ]
  },
  {
   "cell_type": "code",
   "execution_count": 21,
   "id": "fa086efb-a1d5-4840-9dab-e911dbe4fe9b",
   "metadata": {
    "colab": {
     "base_uri": "https://localhost:8080/",
     "height": 534
    },
    "executionInfo": {
     "elapsed": 7,
     "status": "ok",
     "timestamp": 1681292418142,
     "user": {
      "displayName": "Thomas Stoll",
      "userId": "02821182997389909828"
     },
     "user_tz": -600
    },
    "id": "e3b26441-fbe9-4516-bd09-39feb08b7e6b",
    "outputId": "8c2e4839-f7f8-4284-8d5e-44f8b574bf1b"
   },
   "outputs": [
    {
     "data": {
      "image/png": "[encoded data removed]",
      "text/plain": [
       "<Figure size 600x500 with 2 Axes>"
      ]
     },
     "metadata": {},
     "output_type": "display_data"
    }
   ],
   "source": [
    "plot_confusion_matrix(y_test, y_pred)"
   ]
  },
  {
   "cell_type": "markdown",
   "id": "7fb77c8b-1864-4e7c-b166-182c109488f3",
   "metadata": {
    "id": "cc52b8ac-2b97-4cb2-b3a6-500e69d94bf8"
   },
   "source": [
    "### Classification report"
   ]
  },
  {
   "cell_type": "code",
   "execution_count": 22,
   "id": "8e79af7c-3660-4407-a82d-0f82c17952e9",
   "metadata": {
    "colab": {
     "base_uri": "https://localhost:8080/"
    },
    "executionInfo": {
     "elapsed": 7,
     "status": "ok",
     "timestamp": 1681292418679,
     "user": {
      "displayName": "Thomas Stoll",
      "userId": "02821182997389909828"
     },
     "user_tz": -600
    },
    "id": "c7aacd39-41c2-4384-a053-33e7fd611acd",
    "outputId": "ac228624-abc2-4bba-982b-2c2e8002386e"
   },
   "outputs": [
    {
     "name": "stdout",
     "output_type": "stream",
     "text": [
      "              precision    recall  f1-score   support\n",
      "\n",
      "           0       0.90      0.97      0.94       397\n",
      "           1       0.79      0.82      0.81       153\n",
      "           2       0.96      0.93      0.95       473\n",
      "           3       0.96      0.93      0.95       473\n",
      "           4       0.96      0.96      0.96       474\n",
      "           5       0.98      0.94      0.96       474\n",
      "           6       0.97      0.95      0.96       474\n",
      "           7       0.97      0.98      0.97       474\n",
      "\n",
      "    accuracy                           0.95      3392\n",
      "   macro avg       0.93      0.94      0.94      3392\n",
      "weighted avg       0.95      0.95      0.95      3392\n",
      "\n"
     ]
    }
   ],
   "source": [
    "print(classification_report(y_test, y_pred))"
   ]
  },
  {
   "cell_type": "code",
   "execution_count": null,
   "id": "c4054780-e250-4501-9d54-b3739fb31738",
   "metadata": {},
   "outputs": [],
   "source": []
  }
 ],
 "metadata": {
  "kernelspec": {
   "display_name": "Python 3 (ipykernel)",
   "language": "python",
   "name": "python3"
  },
  "language_info": {
   "codemirror_mode": {
    "name": "ipython",
    "version": 3
   },
   "file_extension": ".py",
   "mimetype": "text/x-python",
   "name": "python",
   "nbconvert_exporter": "python",
   "pygments_lexer": "ipython3",
   "version": "3.9.13"
  }
 },
 "nbformat": 4,
 "nbformat_minor": 5
}
