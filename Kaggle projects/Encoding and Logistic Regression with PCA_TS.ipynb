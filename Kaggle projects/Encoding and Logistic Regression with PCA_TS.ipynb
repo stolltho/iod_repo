{
 "cells": [
  {
   "cell_type": "markdown",
   "metadata": {},
   "source": [
    "# Logistic Regression and PCA"
   ]
  },
  {
   "cell_type": "markdown",
   "metadata": {},
   "source": [
    "Adjusted from [Kaggle notebook](https://www.kaggle.com/code/prashant111/eda-logistic-regression-pca) "
   ]
  },
  {
   "cell_type": "code",
   "execution_count": 194,
   "metadata": {
    "_cell_guid": "b1076dfc-b9ad-4769-8c92-a6c4dae69d19",
    "_uuid": "8f2839f25d086af736a60e9eeb907d3b93b6e0e5"
   },
   "outputs": [],
   "source": [
    "import numpy as np \n",
    "import pandas as pd \n",
    "import matplotlib.pyplot as plt\n",
    "import seaborn as sns\n",
    "sns.set()\n",
    "\n",
    "from sklearn.model_selection import train_test_split\n",
    "from sklearn import preprocessing\n",
    "from sklearn.preprocessing import StandardScaler, OneHotEncoder, OrdinalEncoder, LabelEncoder\n",
    "from sklearn.pipeline import Pipeline\n",
    "from sklearn.linear_model import LogisticRegression\n",
    "from sklearn.metrics import accuracy_score\n",
    "from sklearn.decomposition import PCA\n",
    "\n",
    "%matplotlib inline"
   ]
  },
  {
   "cell_type": "markdown",
   "metadata": {},
   "source": [
    "## Import dataset"
   ]
  },
  {
   "cell_type": "code",
   "execution_count": 4,
   "metadata": {},
   "outputs": [
    {
     "name": "stdout",
     "output_type": "stream",
     "text": [
      "Wall time: 78.9 ms\n"
     ]
    }
   ],
   "source": [
    "%%time\n",
    "\n",
    "file = ('adult.csv')\n",
    "df = pd.read_csv(file, encoding='latin-1')"
   ]
  },
  {
   "cell_type": "markdown",
   "metadata": {},
   "source": [
    "## Exploratory Data Analysis"
   ]
  },
  {
   "cell_type": "markdown",
   "metadata": {},
   "source": [
    "### Check shape of dataset"
   ]
  },
  {
   "cell_type": "code",
   "execution_count": 5,
   "metadata": {},
   "outputs": [
    {
     "data": {
      "text/plain": [
       "(32561, 15)"
      ]
     },
     "execution_count": 5,
     "metadata": {},
     "output_type": "execute_result"
    }
   ],
   "source": [
    "df.shape"
   ]
  },
  {
   "cell_type": "markdown",
   "metadata": {},
   "source": [
    "We can see that there are 32561 instances and 15 attributes in the data set."
   ]
  },
  {
   "cell_type": "markdown",
   "metadata": {},
   "source": [
    "### Preview dataset"
   ]
  },
  {
   "cell_type": "code",
   "execution_count": 6,
   "metadata": {},
   "outputs": [
    {
     "data": {
      "text/html": [
       "<div>\n",
       "<style scoped>\n",
       "    .dataframe tbody tr th:only-of-type {\n",
       "        vertical-align: middle;\n",
       "    }\n",
       "\n",
       "    .dataframe tbody tr th {\n",
       "        vertical-align: top;\n",
       "    }\n",
       "\n",
       "    .dataframe thead th {\n",
       "        text-align: right;\n",
       "    }\n",
       "</style>\n",
       "<table border=\"1\" class=\"dataframe\">\n",
       "  <thead>\n",
       "    <tr style=\"text-align: right;\">\n",
       "      <th></th>\n",
       "      <th>age</th>\n",
       "      <th>workclass</th>\n",
       "      <th>fnlwgt</th>\n",
       "      <th>education</th>\n",
       "      <th>education.num</th>\n",
       "      <th>marital.status</th>\n",
       "      <th>occupation</th>\n",
       "      <th>relationship</th>\n",
       "      <th>race</th>\n",
       "      <th>sex</th>\n",
       "      <th>capital.gain</th>\n",
       "      <th>capital.loss</th>\n",
       "      <th>hours.per.week</th>\n",
       "      <th>native.country</th>\n",
       "      <th>income</th>\n",
       "    </tr>\n",
       "  </thead>\n",
       "  <tbody>\n",
       "    <tr>\n",
       "      <th>0</th>\n",
       "      <td>90</td>\n",
       "      <td>?</td>\n",
       "      <td>77053</td>\n",
       "      <td>HS-grad</td>\n",
       "      <td>9</td>\n",
       "      <td>Widowed</td>\n",
       "      <td>?</td>\n",
       "      <td>Not-in-family</td>\n",
       "      <td>White</td>\n",
       "      <td>Female</td>\n",
       "      <td>0</td>\n",
       "      <td>4356</td>\n",
       "      <td>40</td>\n",
       "      <td>United-States</td>\n",
       "      <td>&lt;=50K</td>\n",
       "    </tr>\n",
       "    <tr>\n",
       "      <th>1</th>\n",
       "      <td>82</td>\n",
       "      <td>Private</td>\n",
       "      <td>132870</td>\n",
       "      <td>HS-grad</td>\n",
       "      <td>9</td>\n",
       "      <td>Widowed</td>\n",
       "      <td>Exec-managerial</td>\n",
       "      <td>Not-in-family</td>\n",
       "      <td>White</td>\n",
       "      <td>Female</td>\n",
       "      <td>0</td>\n",
       "      <td>4356</td>\n",
       "      <td>18</td>\n",
       "      <td>United-States</td>\n",
       "      <td>&lt;=50K</td>\n",
       "    </tr>\n",
       "    <tr>\n",
       "      <th>2</th>\n",
       "      <td>66</td>\n",
       "      <td>?</td>\n",
       "      <td>186061</td>\n",
       "      <td>Some-college</td>\n",
       "      <td>10</td>\n",
       "      <td>Widowed</td>\n",
       "      <td>?</td>\n",
       "      <td>Unmarried</td>\n",
       "      <td>Black</td>\n",
       "      <td>Female</td>\n",
       "      <td>0</td>\n",
       "      <td>4356</td>\n",
       "      <td>40</td>\n",
       "      <td>United-States</td>\n",
       "      <td>&lt;=50K</td>\n",
       "    </tr>\n",
       "    <tr>\n",
       "      <th>3</th>\n",
       "      <td>54</td>\n",
       "      <td>Private</td>\n",
       "      <td>140359</td>\n",
       "      <td>7th-8th</td>\n",
       "      <td>4</td>\n",
       "      <td>Divorced</td>\n",
       "      <td>Machine-op-inspct</td>\n",
       "      <td>Unmarried</td>\n",
       "      <td>White</td>\n",
       "      <td>Female</td>\n",
       "      <td>0</td>\n",
       "      <td>3900</td>\n",
       "      <td>40</td>\n",
       "      <td>United-States</td>\n",
       "      <td>&lt;=50K</td>\n",
       "    </tr>\n",
       "    <tr>\n",
       "      <th>4</th>\n",
       "      <td>41</td>\n",
       "      <td>Private</td>\n",
       "      <td>264663</td>\n",
       "      <td>Some-college</td>\n",
       "      <td>10</td>\n",
       "      <td>Separated</td>\n",
       "      <td>Prof-specialty</td>\n",
       "      <td>Own-child</td>\n",
       "      <td>White</td>\n",
       "      <td>Female</td>\n",
       "      <td>0</td>\n",
       "      <td>3900</td>\n",
       "      <td>40</td>\n",
       "      <td>United-States</td>\n",
       "      <td>&lt;=50K</td>\n",
       "    </tr>\n",
       "  </tbody>\n",
       "</table>\n",
       "</div>"
      ],
      "text/plain": [
       "   age workclass  fnlwgt     education  education.num marital.status  \\\n",
       "0   90         ?   77053       HS-grad              9        Widowed   \n",
       "1   82   Private  132870       HS-grad              9        Widowed   \n",
       "2   66         ?  186061  Some-college             10        Widowed   \n",
       "3   54   Private  140359       7th-8th              4       Divorced   \n",
       "4   41   Private  264663  Some-college             10      Separated   \n",
       "\n",
       "          occupation   relationship   race     sex  capital.gain  \\\n",
       "0                  ?  Not-in-family  White  Female             0   \n",
       "1    Exec-managerial  Not-in-family  White  Female             0   \n",
       "2                  ?      Unmarried  Black  Female             0   \n",
       "3  Machine-op-inspct      Unmarried  White  Female             0   \n",
       "4     Prof-specialty      Own-child  White  Female             0   \n",
       "\n",
       "   capital.loss  hours.per.week native.country income  \n",
       "0          4356              40  United-States  <=50K  \n",
       "1          4356              18  United-States  <=50K  \n",
       "2          4356              40  United-States  <=50K  \n",
       "3          3900              40  United-States  <=50K  \n",
       "4          3900              40  United-States  <=50K  "
      ]
     },
     "execution_count": 6,
     "metadata": {},
     "output_type": "execute_result"
    }
   ],
   "source": [
    "df.head()"
   ]
  },
  {
   "cell_type": "markdown",
   "metadata": {},
   "source": [
    "### View summary of dataframe"
   ]
  },
  {
   "cell_type": "code",
   "execution_count": 7,
   "metadata": {},
   "outputs": [
    {
     "name": "stdout",
     "output_type": "stream",
     "text": [
      "<class 'pandas.core.frame.DataFrame'>\n",
      "RangeIndex: 32561 entries, 0 to 32560\n",
      "Data columns (total 15 columns):\n",
      " #   Column          Non-Null Count  Dtype \n",
      "---  ------          --------------  ----- \n",
      " 0   age             32561 non-null  int64 \n",
      " 1   workclass       32561 non-null  object\n",
      " 2   fnlwgt          32561 non-null  int64 \n",
      " 3   education       32561 non-null  object\n",
      " 4   education.num   32561 non-null  int64 \n",
      " 5   marital.status  32561 non-null  object\n",
      " 6   occupation      32561 non-null  object\n",
      " 7   relationship    32561 non-null  object\n",
      " 8   race            32561 non-null  object\n",
      " 9   sex             32561 non-null  object\n",
      " 10  capital.gain    32561 non-null  int64 \n",
      " 11  capital.loss    32561 non-null  int64 \n",
      " 12  hours.per.week  32561 non-null  int64 \n",
      " 13  native.country  32561 non-null  object\n",
      " 14  income          32561 non-null  object\n",
      "dtypes: int64(6), object(9)\n",
      "memory usage: 3.7+ MB\n"
     ]
    }
   ],
   "source": [
    "df.info()"
   ]
  },
  {
   "cell_type": "markdown",
   "metadata": {},
   "source": [
    "Summary of the dataset shows that there are no missing values. But the preview shows that the dataset contains values coded as `?`. So, I will encode `?` as NaN values."
   ]
  },
  {
   "cell_type": "markdown",
   "metadata": {},
   "source": [
    "### Encode `?` as `NaNs`"
   ]
  },
  {
   "cell_type": "code",
   "execution_count": 8,
   "metadata": {},
   "outputs": [],
   "source": [
    "df[df == '?'] = np.nan"
   ]
  },
  {
   "cell_type": "markdown",
   "metadata": {},
   "source": [
    "### Again check the summary of dataframe"
   ]
  },
  {
   "cell_type": "code",
   "execution_count": 9,
   "metadata": {},
   "outputs": [
    {
     "name": "stdout",
     "output_type": "stream",
     "text": [
      "<class 'pandas.core.frame.DataFrame'>\n",
      "RangeIndex: 32561 entries, 0 to 32560\n",
      "Data columns (total 15 columns):\n",
      " #   Column          Non-Null Count  Dtype \n",
      "---  ------          --------------  ----- \n",
      " 0   age             32561 non-null  int64 \n",
      " 1   workclass       30725 non-null  object\n",
      " 2   fnlwgt          32561 non-null  int64 \n",
      " 3   education       32561 non-null  object\n",
      " 4   education.num   32561 non-null  int64 \n",
      " 5   marital.status  32561 non-null  object\n",
      " 6   occupation      30718 non-null  object\n",
      " 7   relationship    32561 non-null  object\n",
      " 8   race            32561 non-null  object\n",
      " 9   sex             32561 non-null  object\n",
      " 10  capital.gain    32561 non-null  int64 \n",
      " 11  capital.loss    32561 non-null  int64 \n",
      " 12  hours.per.week  32561 non-null  int64 \n",
      " 13  native.country  31978 non-null  object\n",
      " 14  income          32561 non-null  object\n",
      "dtypes: int64(6), object(9)\n",
      "memory usage: 3.7+ MB\n"
     ]
    }
   ],
   "source": [
    "df.info()"
   ]
  },
  {
   "cell_type": "code",
   "execution_count": 10,
   "metadata": {},
   "outputs": [
    {
     "data": {
      "text/plain": [
       "age                  0\n",
       "workclass         1836\n",
       "fnlwgt               0\n",
       "education            0\n",
       "education.num        0\n",
       "marital.status       0\n",
       "occupation        1843\n",
       "relationship         0\n",
       "race                 0\n",
       "sex                  0\n",
       "capital.gain         0\n",
       "capital.loss         0\n",
       "hours.per.week       0\n",
       "native.country     583\n",
       "income               0\n",
       "dtype: int64"
      ]
     },
     "execution_count": 10,
     "metadata": {},
     "output_type": "execute_result"
    }
   ],
   "source": [
    "df.isnull().sum()"
   ]
  },
  {
   "cell_type": "markdown",
   "metadata": {},
   "source": [
    "Now, the summary shows that the variables - `workclass`, `occupation` and `native.country` contain missing values. All of these variables are categorical data type. So, I will impute the missing values with the most frequent value- the mode."
   ]
  },
  {
   "cell_type": "markdown",
   "metadata": {},
   "source": [
    "### Impute missing values with mode"
   ]
  },
  {
   "cell_type": "code",
   "execution_count": 11,
   "metadata": {},
   "outputs": [],
   "source": [
    "for col in ['workclass', 'occupation', 'native.country']:\n",
    "    df[col].fillna(df[col].mode()[0], inplace=True)"
   ]
  },
  {
   "cell_type": "markdown",
   "metadata": {},
   "source": [
    "### Check again for missing values"
   ]
  },
  {
   "cell_type": "code",
   "execution_count": 12,
   "metadata": {},
   "outputs": [
    {
     "data": {
      "text/plain": [
       "0"
      ]
     },
     "execution_count": 12,
     "metadata": {},
     "output_type": "execute_result"
    }
   ],
   "source": [
    "df.isnull().sum().sum()"
   ]
  },
  {
   "cell_type": "markdown",
   "metadata": {},
   "source": [
    "Now we can see that there are no missing values in the dataset."
   ]
  },
  {
   "cell_type": "code",
   "execution_count": 16,
   "metadata": {},
   "outputs": [
    {
     "name": "stdout",
     "output_type": "stream",
     "text": [
      "\u001b[1;3mworkclass:\u001b[0m\n",
      "Private             24532\n",
      "Self-emp-not-inc     2541\n",
      "Local-gov            2093\n",
      "State-gov            1298\n",
      "Self-emp-inc         1116\n",
      "Federal-gov           960\n",
      "Without-pay            14\n",
      "Never-worked            7\n",
      "Name: workclass, dtype: int64\n",
      "\n",
      "\u001b[1;3meducation:\u001b[0m\n",
      "HS-grad         10501\n",
      "Some-college     7291\n",
      "Bachelors        5355\n",
      "Masters          1723\n",
      "Assoc-voc        1382\n",
      "11th             1175\n",
      "Assoc-acdm       1067\n",
      "10th              933\n",
      "7th-8th           646\n",
      "Prof-school       576\n",
      "9th               514\n",
      "12th              433\n",
      "Doctorate         413\n",
      "5th-6th           333\n",
      "1st-4th           168\n",
      "Preschool          51\n",
      "Name: education, dtype: int64\n",
      "\n",
      "\u001b[1;3mmarital.status:\u001b[0m\n",
      "Married-civ-spouse       14976\n",
      "Never-married            10683\n",
      "Divorced                  4443\n",
      "Separated                 1025\n",
      "Widowed                    993\n",
      "Married-spouse-absent      418\n",
      "Married-AF-spouse           23\n",
      "Name: marital.status, dtype: int64\n",
      "\n",
      "\u001b[1;3moccupation:\u001b[0m\n",
      "Prof-specialty       5983\n",
      "Craft-repair         4099\n",
      "Exec-managerial      4066\n",
      "Adm-clerical         3770\n",
      "Sales                3650\n",
      "Other-service        3295\n",
      "Machine-op-inspct    2002\n",
      "Transport-moving     1597\n",
      "Handlers-cleaners    1370\n",
      "Farming-fishing       994\n",
      "Tech-support          928\n",
      "Protective-serv       649\n",
      "Priv-house-serv       149\n",
      "Armed-Forces            9\n",
      "Name: occupation, dtype: int64\n",
      "\n",
      "\u001b[1;3mrelationship:\u001b[0m\n",
      "Husband           13193\n",
      "Not-in-family      8305\n",
      "Own-child          5068\n",
      "Unmarried          3446\n",
      "Wife               1568\n",
      "Other-relative      981\n",
      "Name: relationship, dtype: int64\n",
      "\n",
      "\u001b[1;3mrace:\u001b[0m\n",
      "White                 27816\n",
      "Black                  3124\n",
      "Asian-Pac-Islander     1039\n",
      "Amer-Indian-Eskimo      311\n",
      "Other                   271\n",
      "Name: race, dtype: int64\n",
      "\n",
      "\u001b[1;3msex:\u001b[0m\n",
      "Male      21790\n",
      "Female    10771\n",
      "Name: sex, dtype: int64\n",
      "\n",
      "\u001b[1;3mnative.country:\u001b[0m\n",
      "United-States                 29753\n",
      "Mexico                          643\n",
      "Philippines                     198\n",
      "Germany                         137\n",
      "Canada                          121\n",
      "Puerto-Rico                     114\n",
      "El-Salvador                     106\n",
      "India                           100\n",
      "Cuba                             95\n",
      "England                          90\n",
      "Jamaica                          81\n",
      "South                            80\n",
      "China                            75\n",
      "Italy                            73\n",
      "Dominican-Republic               70\n",
      "Vietnam                          67\n",
      "Guatemala                        64\n",
      "Japan                            62\n",
      "Poland                           60\n",
      "Columbia                         59\n",
      "Taiwan                           51\n",
      "Haiti                            44\n",
      "Iran                             43\n",
      "Portugal                         37\n",
      "Nicaragua                        34\n",
      "Peru                             31\n",
      "Greece                           29\n",
      "France                           29\n",
      "Ecuador                          28\n",
      "Ireland                          24\n",
      "Hong                             20\n",
      "Trinadad&Tobago                  19\n",
      "Cambodia                         19\n",
      "Thailand                         18\n",
      "Laos                             18\n",
      "Yugoslavia                       16\n",
      "Outlying-US(Guam-USVI-etc)       14\n",
      "Hungary                          13\n",
      "Honduras                         13\n",
      "Scotland                         12\n",
      "Holand-Netherlands                1\n",
      "Name: native.country, dtype: int64\n",
      "\n",
      "\u001b[1;3mincome:\u001b[0m\n",
      "<=50K    24720\n",
      ">50K      7841\n",
      "Name: income, dtype: int64\n",
      "\n"
     ]
    }
   ],
   "source": [
    "# Get counts of unique values for features based on dtypes\n",
    "col_name = df.select_dtypes(include='object').columns\n",
    "\n",
    "for index, col in enumerate(col_name):\n",
    "    print(f'\\033[1;3m{col_name[index]}:\\033[0m\\n{df[col].value_counts()}\\n')"
   ]
  },
  {
   "cell_type": "markdown",
   "metadata": {},
   "source": [
    "### Setting feature vector and target variable"
   ]
  },
  {
   "cell_type": "code",
   "execution_count": 162,
   "metadata": {},
   "outputs": [],
   "source": [
    "# Drop single value Holand-Netherlands of native.country for dummy encoding\n",
    "df = df.loc[df['native.country'] != 'Holand-Netherlands']"
   ]
  },
  {
   "cell_type": "code",
   "execution_count": 163,
   "metadata": {},
   "outputs": [],
   "source": [
    "X = df.drop(['income'], axis=1)\n",
    "y = df['income']"
   ]
  },
  {
   "cell_type": "code",
   "execution_count": 164,
   "metadata": {},
   "outputs": [
    {
     "data": {
      "text/html": [
       "<div>\n",
       "<style scoped>\n",
       "    .dataframe tbody tr th:only-of-type {\n",
       "        vertical-align: middle;\n",
       "    }\n",
       "\n",
       "    .dataframe tbody tr th {\n",
       "        vertical-align: top;\n",
       "    }\n",
       "\n",
       "    .dataframe thead th {\n",
       "        text-align: right;\n",
       "    }\n",
       "</style>\n",
       "<table border=\"1\" class=\"dataframe\">\n",
       "  <thead>\n",
       "    <tr style=\"text-align: right;\">\n",
       "      <th></th>\n",
       "      <th>age</th>\n",
       "      <th>workclass</th>\n",
       "      <th>fnlwgt</th>\n",
       "      <th>education</th>\n",
       "      <th>education.num</th>\n",
       "      <th>marital.status</th>\n",
       "      <th>occupation</th>\n",
       "      <th>relationship</th>\n",
       "      <th>race</th>\n",
       "      <th>sex</th>\n",
       "      <th>capital.gain</th>\n",
       "      <th>capital.loss</th>\n",
       "      <th>hours.per.week</th>\n",
       "      <th>native.country</th>\n",
       "    </tr>\n",
       "  </thead>\n",
       "  <tbody>\n",
       "    <tr>\n",
       "      <th>0</th>\n",
       "      <td>90</td>\n",
       "      <td>Private</td>\n",
       "      <td>77053</td>\n",
       "      <td>HS-grad</td>\n",
       "      <td>9</td>\n",
       "      <td>Widowed</td>\n",
       "      <td>Prof-specialty</td>\n",
       "      <td>Not-in-family</td>\n",
       "      <td>White</td>\n",
       "      <td>Female</td>\n",
       "      <td>0</td>\n",
       "      <td>4356</td>\n",
       "      <td>40</td>\n",
       "      <td>United-States</td>\n",
       "    </tr>\n",
       "    <tr>\n",
       "      <th>1</th>\n",
       "      <td>82</td>\n",
       "      <td>Private</td>\n",
       "      <td>132870</td>\n",
       "      <td>HS-grad</td>\n",
       "      <td>9</td>\n",
       "      <td>Widowed</td>\n",
       "      <td>Exec-managerial</td>\n",
       "      <td>Not-in-family</td>\n",
       "      <td>White</td>\n",
       "      <td>Female</td>\n",
       "      <td>0</td>\n",
       "      <td>4356</td>\n",
       "      <td>18</td>\n",
       "      <td>United-States</td>\n",
       "    </tr>\n",
       "    <tr>\n",
       "      <th>2</th>\n",
       "      <td>66</td>\n",
       "      <td>Private</td>\n",
       "      <td>186061</td>\n",
       "      <td>Some-college</td>\n",
       "      <td>10</td>\n",
       "      <td>Widowed</td>\n",
       "      <td>Prof-specialty</td>\n",
       "      <td>Unmarried</td>\n",
       "      <td>Black</td>\n",
       "      <td>Female</td>\n",
       "      <td>0</td>\n",
       "      <td>4356</td>\n",
       "      <td>40</td>\n",
       "      <td>United-States</td>\n",
       "    </tr>\n",
       "    <tr>\n",
       "      <th>3</th>\n",
       "      <td>54</td>\n",
       "      <td>Private</td>\n",
       "      <td>140359</td>\n",
       "      <td>7th-8th</td>\n",
       "      <td>4</td>\n",
       "      <td>Divorced</td>\n",
       "      <td>Machine-op-inspct</td>\n",
       "      <td>Unmarried</td>\n",
       "      <td>White</td>\n",
       "      <td>Female</td>\n",
       "      <td>0</td>\n",
       "      <td>3900</td>\n",
       "      <td>40</td>\n",
       "      <td>United-States</td>\n",
       "    </tr>\n",
       "    <tr>\n",
       "      <th>4</th>\n",
       "      <td>41</td>\n",
       "      <td>Private</td>\n",
       "      <td>264663</td>\n",
       "      <td>Some-college</td>\n",
       "      <td>10</td>\n",
       "      <td>Separated</td>\n",
       "      <td>Prof-specialty</td>\n",
       "      <td>Own-child</td>\n",
       "      <td>White</td>\n",
       "      <td>Female</td>\n",
       "      <td>0</td>\n",
       "      <td>3900</td>\n",
       "      <td>40</td>\n",
       "      <td>United-States</td>\n",
       "    </tr>\n",
       "  </tbody>\n",
       "</table>\n",
       "</div>"
      ],
      "text/plain": [
       "   age workclass  fnlwgt     education  education.num marital.status  \\\n",
       "0   90   Private   77053       HS-grad              9        Widowed   \n",
       "1   82   Private  132870       HS-grad              9        Widowed   \n",
       "2   66   Private  186061  Some-college             10        Widowed   \n",
       "3   54   Private  140359       7th-8th              4       Divorced   \n",
       "4   41   Private  264663  Some-college             10      Separated   \n",
       "\n",
       "          occupation   relationship   race     sex  capital.gain  \\\n",
       "0     Prof-specialty  Not-in-family  White  Female             0   \n",
       "1    Exec-managerial  Not-in-family  White  Female             0   \n",
       "2     Prof-specialty      Unmarried  Black  Female             0   \n",
       "3  Machine-op-inspct      Unmarried  White  Female             0   \n",
       "4     Prof-specialty      Own-child  White  Female             0   \n",
       "\n",
       "   capital.loss  hours.per.week native.country  \n",
       "0          4356              40  United-States  \n",
       "1          4356              18  United-States  \n",
       "2          4356              40  United-States  \n",
       "3          3900              40  United-States  \n",
       "4          3900              40  United-States  "
      ]
     },
     "execution_count": 164,
     "metadata": {},
     "output_type": "execute_result"
    }
   ],
   "source": [
    "X.head()"
   ]
  },
  {
   "cell_type": "markdown",
   "metadata": {},
   "source": [
    "## Split data into separate training and test set"
   ]
  },
  {
   "cell_type": "code",
   "execution_count": 214,
   "metadata": {},
   "outputs": [],
   "source": [
    "X_train, X_test, y_train, y_test = train_test_split(X, y, test_size = 0.3, random_state = 42)"
   ]
  },
  {
   "cell_type": "markdown",
   "metadata": {},
   "source": [
    "## Feature Engineering"
   ]
  },
  {
   "cell_type": "markdown",
   "metadata": {},
   "source": [
    "### Encode categorical variables"
   ]
  },
  {
   "cell_type": "markdown",
   "metadata": {},
   "source": [
    "Note the difference of encoders!\n",
    "\n",
    "**LabelEncoder** should be used to encode target values, i.e. y, and not the input X. Label encoding uses alphabetical ordering and expects a one-dimensional input for the single target variable. \n",
    "\n",
    "**OrdinalEncoder** is the same but intended for input variables that are organized into rows and columns. In ordinal encoding, each unique category value is assigned an integer value. Integer values have a natural ordered relationship between each other and machine learning algorithms may be able to understand and harness this relationship. It is a natural encoding for ordinal variables. For categorical variables, it imposes an ordinal relationship where no such relationship may exist. This can cause problems and a one-hot encoding may be used instead.\n",
    "\n",
    "**OneHotEncoder:** For categorical variables where no ordinal relationship exists. Forcing an ordinal relationship via an ordinal encoding and allowing the model to assume a natural ordering between categories may result in poor performance or unexpected results (predictions halfway between categories). In this case, a one-hot encoding can be applied to the ordinal representation. This is where the integer encoded variable is removed and one new binary variable is added for each unique integer value in the variable.\n",
    "\n",
    "\n",
    "\n"
   ]
  },
  {
   "cell_type": "code",
   "execution_count": 215,
   "metadata": {},
   "outputs": [],
   "source": [
    "## Example code\n",
    "# ordinal encode input variables\n",
    "# ordinal_encoder = OrdinalEncoder()\n",
    "# ordinal_encoder.fit(X_train)\n",
    "# X_train = ordinal_encoder.transform(X_train)\n",
    "# X_test = ordinal_encoder.transform(X_test)\n",
    "\n",
    "# ordinal encode target variable\n",
    "# label_encoder = LabelEncoder()\n",
    "# label_encoder.fit(y_train)\n",
    "# y_train = label_encoder.transform(y_train)\n",
    "# y_test = label_encoder.transform(y_test)\n",
    "\n",
    "# one-hot encode input variables (equal to pd.get_dummies())\n",
    "# onehot_encoder = OneHotEncoder()\n",
    "# onehot_encoder.fit(X_train)\n",
    "# X_train = onehot_encoder.transform(X_train)\n",
    "# X_test = onehot_encoder.transform(X_test)"
   ]
  },
  {
   "cell_type": "code",
   "execution_count": 216,
   "metadata": {},
   "outputs": [],
   "source": [
    "# Categories\n",
    "label = ['income']\n",
    "ordinal = ['education']\n",
    "onehot = ['workclass', 'marital.status', 'occupation', 'relationship', 'race', 'sex', 'native.country']"
   ]
  },
  {
   "cell_type": "code",
   "execution_count": 217,
   "metadata": {},
   "outputs": [],
   "source": [
    "# Encode label\n",
    "label_encoder = LabelEncoder()\n",
    "y_train = label_encoder.fit_transform(y_train)\n",
    "y_test = label_encoder.transform(y_test)"
   ]
  },
  {
   "cell_type": "code",
   "execution_count": 218,
   "metadata": {},
   "outputs": [],
   "source": [
    "# Ordinal encoding\n",
    "ordinal_encoder = OrdinalEncoder()\n",
    "X_train[ordinal] = ordinal_encoder.fit_transform(X_train[ordinal])\n",
    "X_test[ordinal] = ordinal_encoder.transform(X_test[ordinal])"
   ]
  },
  {
   "cell_type": "code",
   "execution_count": 219,
   "metadata": {},
   "outputs": [
    {
     "data": {
      "text/plain": [
       "((22792, 14), (9768, 14))"
      ]
     },
     "execution_count": 219,
     "metadata": {},
     "output_type": "execute_result"
    }
   ],
   "source": [
    "X_train.shape, X_test.shape"
   ]
  },
  {
   "cell_type": "code",
   "execution_count": 220,
   "metadata": {},
   "outputs": [],
   "source": [
    "# Dummy encoding\n",
    "X_train = pd.get_dummies(X_train, drop_first=False)\n",
    "X_test = pd.get_dummies(X_test, drop_first=False)"
   ]
  },
  {
   "cell_type": "code",
   "execution_count": 221,
   "metadata": {},
   "outputs": [
    {
     "data": {
      "text/plain": [
       "((22792, 89), (9768, 89))"
      ]
     },
     "execution_count": 221,
     "metadata": {},
     "output_type": "execute_result"
    }
   ],
   "source": [
    "X_train.shape, X_test.shape"
   ]
  },
  {
   "cell_type": "code",
   "execution_count": 222,
   "metadata": {},
   "outputs": [
    {
     "data": {
      "text/html": [
       "<div>\n",
       "<style scoped>\n",
       "    .dataframe tbody tr th:only-of-type {\n",
       "        vertical-align: middle;\n",
       "    }\n",
       "\n",
       "    .dataframe tbody tr th {\n",
       "        vertical-align: top;\n",
       "    }\n",
       "\n",
       "    .dataframe thead th {\n",
       "        text-align: right;\n",
       "    }\n",
       "</style>\n",
       "<table border=\"1\" class=\"dataframe\">\n",
       "  <thead>\n",
       "    <tr style=\"text-align: right;\">\n",
       "      <th></th>\n",
       "      <th>age</th>\n",
       "      <th>fnlwgt</th>\n",
       "      <th>education</th>\n",
       "      <th>education.num</th>\n",
       "      <th>capital.gain</th>\n",
       "      <th>capital.loss</th>\n",
       "      <th>hours.per.week</th>\n",
       "      <th>workclass_Federal-gov</th>\n",
       "      <th>workclass_Local-gov</th>\n",
       "      <th>workclass_Never-worked</th>\n",
       "      <th>...</th>\n",
       "      <th>native.country_Portugal</th>\n",
       "      <th>native.country_Puerto-Rico</th>\n",
       "      <th>native.country_Scotland</th>\n",
       "      <th>native.country_South</th>\n",
       "      <th>native.country_Taiwan</th>\n",
       "      <th>native.country_Thailand</th>\n",
       "      <th>native.country_Trinadad&amp;Tobago</th>\n",
       "      <th>native.country_United-States</th>\n",
       "      <th>native.country_Vietnam</th>\n",
       "      <th>native.country_Yugoslavia</th>\n",
       "    </tr>\n",
       "  </thead>\n",
       "  <tbody>\n",
       "    <tr>\n",
       "      <th>21386</th>\n",
       "      <td>66</td>\n",
       "      <td>112376</td>\n",
       "      <td>5.0</td>\n",
       "      <td>4</td>\n",
       "      <td>0</td>\n",
       "      <td>0</td>\n",
       "      <td>40</td>\n",
       "      <td>0</td>\n",
       "      <td>0</td>\n",
       "      <td>0</td>\n",
       "      <td>...</td>\n",
       "      <td>0</td>\n",
       "      <td>0</td>\n",
       "      <td>0</td>\n",
       "      <td>0</td>\n",
       "      <td>0</td>\n",
       "      <td>0</td>\n",
       "      <td>0</td>\n",
       "      <td>1</td>\n",
       "      <td>0</td>\n",
       "      <td>0</td>\n",
       "    </tr>\n",
       "    <tr>\n",
       "      <th>19750</th>\n",
       "      <td>25</td>\n",
       "      <td>114838</td>\n",
       "      <td>14.0</td>\n",
       "      <td>15</td>\n",
       "      <td>0</td>\n",
       "      <td>0</td>\n",
       "      <td>8</td>\n",
       "      <td>0</td>\n",
       "      <td>0</td>\n",
       "      <td>0</td>\n",
       "      <td>...</td>\n",
       "      <td>0</td>\n",
       "      <td>0</td>\n",
       "      <td>0</td>\n",
       "      <td>0</td>\n",
       "      <td>0</td>\n",
       "      <td>0</td>\n",
       "      <td>0</td>\n",
       "      <td>0</td>\n",
       "      <td>0</td>\n",
       "      <td>0</td>\n",
       "    </tr>\n",
       "    <tr>\n",
       "      <th>1217</th>\n",
       "      <td>33</td>\n",
       "      <td>190772</td>\n",
       "      <td>11.0</td>\n",
       "      <td>9</td>\n",
       "      <td>0</td>\n",
       "      <td>1617</td>\n",
       "      <td>40</td>\n",
       "      <td>0</td>\n",
       "      <td>0</td>\n",
       "      <td>0</td>\n",
       "      <td>...</td>\n",
       "      <td>0</td>\n",
       "      <td>0</td>\n",
       "      <td>0</td>\n",
       "      <td>0</td>\n",
       "      <td>0</td>\n",
       "      <td>0</td>\n",
       "      <td>0</td>\n",
       "      <td>1</td>\n",
       "      <td>0</td>\n",
       "      <td>0</td>\n",
       "    </tr>\n",
       "  </tbody>\n",
       "</table>\n",
       "<p>3 rows × 89 columns</p>\n",
       "</div>"
      ],
      "text/plain": [
       "       age  fnlwgt  education  education.num  capital.gain  capital.loss  \\\n",
       "21386   66  112376        5.0              4             0             0   \n",
       "19750   25  114838       14.0             15             0             0   \n",
       "1217    33  190772       11.0              9             0          1617   \n",
       "\n",
       "       hours.per.week  workclass_Federal-gov  workclass_Local-gov  \\\n",
       "21386              40                      0                    0   \n",
       "19750               8                      0                    0   \n",
       "1217               40                      0                    0   \n",
       "\n",
       "       workclass_Never-worked  ...  native.country_Portugal  \\\n",
       "21386                       0  ...                        0   \n",
       "19750                       0  ...                        0   \n",
       "1217                        0  ...                        0   \n",
       "\n",
       "       native.country_Puerto-Rico  native.country_Scotland  \\\n",
       "21386                           0                        0   \n",
       "19750                           0                        0   \n",
       "1217                            0                        0   \n",
       "\n",
       "       native.country_South  native.country_Taiwan  native.country_Thailand  \\\n",
       "21386                     0                      0                        0   \n",
       "19750                     0                      0                        0   \n",
       "1217                      0                      0                        0   \n",
       "\n",
       "       native.country_Trinadad&Tobago  native.country_United-States  \\\n",
       "21386                               0                             1   \n",
       "19750                               0                             0   \n",
       "1217                                0                             1   \n",
       "\n",
       "       native.country_Vietnam  native.country_Yugoslavia  \n",
       "21386                       0                          0  \n",
       "19750                       0                          0  \n",
       "1217                        0                          0  \n",
       "\n",
       "[3 rows x 89 columns]"
      ]
     },
     "execution_count": 222,
     "metadata": {},
     "output_type": "execute_result"
    }
   ],
   "source": [
    "X_train.head(3)"
   ]
  },
  {
   "cell_type": "code",
   "execution_count": 223,
   "metadata": {},
   "outputs": [
    {
     "data": {
      "text/html": [
       "<div>\n",
       "<style scoped>\n",
       "    .dataframe tbody tr th:only-of-type {\n",
       "        vertical-align: middle;\n",
       "    }\n",
       "\n",
       "    .dataframe tbody tr th {\n",
       "        vertical-align: top;\n",
       "    }\n",
       "\n",
       "    .dataframe thead th {\n",
       "        text-align: right;\n",
       "    }\n",
       "</style>\n",
       "<table border=\"1\" class=\"dataframe\">\n",
       "  <thead>\n",
       "    <tr style=\"text-align: right;\">\n",
       "      <th></th>\n",
       "      <th>age</th>\n",
       "      <th>fnlwgt</th>\n",
       "      <th>education</th>\n",
       "      <th>education.num</th>\n",
       "      <th>capital.gain</th>\n",
       "      <th>capital.loss</th>\n",
       "      <th>hours.per.week</th>\n",
       "      <th>workclass_Federal-gov</th>\n",
       "      <th>workclass_Local-gov</th>\n",
       "      <th>workclass_Never-worked</th>\n",
       "      <th>...</th>\n",
       "      <th>native.country_Portugal</th>\n",
       "      <th>native.country_Puerto-Rico</th>\n",
       "      <th>native.country_Scotland</th>\n",
       "      <th>native.country_South</th>\n",
       "      <th>native.country_Taiwan</th>\n",
       "      <th>native.country_Thailand</th>\n",
       "      <th>native.country_Trinadad&amp;Tobago</th>\n",
       "      <th>native.country_United-States</th>\n",
       "      <th>native.country_Vietnam</th>\n",
       "      <th>native.country_Yugoslavia</th>\n",
       "    </tr>\n",
       "  </thead>\n",
       "  <tbody>\n",
       "    <tr>\n",
       "      <th>14161</th>\n",
       "      <td>17</td>\n",
       "      <td>226717</td>\n",
       "      <td>2.0</td>\n",
       "      <td>8</td>\n",
       "      <td>0</td>\n",
       "      <td>0</td>\n",
       "      <td>20</td>\n",
       "      <td>0</td>\n",
       "      <td>0</td>\n",
       "      <td>0</td>\n",
       "      <td>...</td>\n",
       "      <td>0</td>\n",
       "      <td>0</td>\n",
       "      <td>0</td>\n",
       "      <td>0</td>\n",
       "      <td>0</td>\n",
       "      <td>0</td>\n",
       "      <td>0</td>\n",
       "      <td>1</td>\n",
       "      <td>0</td>\n",
       "      <td>0</td>\n",
       "    </tr>\n",
       "    <tr>\n",
       "      <th>27048</th>\n",
       "      <td>19</td>\n",
       "      <td>439779</td>\n",
       "      <td>15.0</td>\n",
       "      <td>10</td>\n",
       "      <td>0</td>\n",
       "      <td>0</td>\n",
       "      <td>15</td>\n",
       "      <td>0</td>\n",
       "      <td>0</td>\n",
       "      <td>0</td>\n",
       "      <td>...</td>\n",
       "      <td>0</td>\n",
       "      <td>0</td>\n",
       "      <td>0</td>\n",
       "      <td>0</td>\n",
       "      <td>0</td>\n",
       "      <td>0</td>\n",
       "      <td>0</td>\n",
       "      <td>1</td>\n",
       "      <td>0</td>\n",
       "      <td>0</td>\n",
       "    </tr>\n",
       "    <tr>\n",
       "      <th>28868</th>\n",
       "      <td>28</td>\n",
       "      <td>204734</td>\n",
       "      <td>15.0</td>\n",
       "      <td>10</td>\n",
       "      <td>0</td>\n",
       "      <td>0</td>\n",
       "      <td>40</td>\n",
       "      <td>0</td>\n",
       "      <td>0</td>\n",
       "      <td>0</td>\n",
       "      <td>...</td>\n",
       "      <td>0</td>\n",
       "      <td>0</td>\n",
       "      <td>0</td>\n",
       "      <td>0</td>\n",
       "      <td>0</td>\n",
       "      <td>0</td>\n",
       "      <td>0</td>\n",
       "      <td>1</td>\n",
       "      <td>0</td>\n",
       "      <td>0</td>\n",
       "    </tr>\n",
       "    <tr>\n",
       "      <th>5668</th>\n",
       "      <td>52</td>\n",
       "      <td>94391</td>\n",
       "      <td>11.0</td>\n",
       "      <td>9</td>\n",
       "      <td>0</td>\n",
       "      <td>0</td>\n",
       "      <td>40</td>\n",
       "      <td>0</td>\n",
       "      <td>0</td>\n",
       "      <td>0</td>\n",
       "      <td>...</td>\n",
       "      <td>0</td>\n",
       "      <td>0</td>\n",
       "      <td>0</td>\n",
       "      <td>0</td>\n",
       "      <td>0</td>\n",
       "      <td>0</td>\n",
       "      <td>0</td>\n",
       "      <td>1</td>\n",
       "      <td>0</td>\n",
       "      <td>0</td>\n",
       "    </tr>\n",
       "    <tr>\n",
       "      <th>7828</th>\n",
       "      <td>28</td>\n",
       "      <td>152951</td>\n",
       "      <td>11.0</td>\n",
       "      <td>9</td>\n",
       "      <td>0</td>\n",
       "      <td>0</td>\n",
       "      <td>40</td>\n",
       "      <td>0</td>\n",
       "      <td>0</td>\n",
       "      <td>0</td>\n",
       "      <td>...</td>\n",
       "      <td>0</td>\n",
       "      <td>0</td>\n",
       "      <td>0</td>\n",
       "      <td>0</td>\n",
       "      <td>0</td>\n",
       "      <td>0</td>\n",
       "      <td>0</td>\n",
       "      <td>1</td>\n",
       "      <td>0</td>\n",
       "      <td>0</td>\n",
       "    </tr>\n",
       "  </tbody>\n",
       "</table>\n",
       "<p>5 rows × 89 columns</p>\n",
       "</div>"
      ],
      "text/plain": [
       "       age  fnlwgt  education  education.num  capital.gain  capital.loss  \\\n",
       "14161   17  226717        2.0              8             0             0   \n",
       "27048   19  439779       15.0             10             0             0   \n",
       "28868   28  204734       15.0             10             0             0   \n",
       "5668    52   94391       11.0              9             0             0   \n",
       "7828    28  152951       11.0              9             0             0   \n",
       "\n",
       "       hours.per.week  workclass_Federal-gov  workclass_Local-gov  \\\n",
       "14161              20                      0                    0   \n",
       "27048              15                      0                    0   \n",
       "28868              40                      0                    0   \n",
       "5668               40                      0                    0   \n",
       "7828               40                      0                    0   \n",
       "\n",
       "       workclass_Never-worked  ...  native.country_Portugal  \\\n",
       "14161                       0  ...                        0   \n",
       "27048                       0  ...                        0   \n",
       "28868                       0  ...                        0   \n",
       "5668                        0  ...                        0   \n",
       "7828                        0  ...                        0   \n",
       "\n",
       "       native.country_Puerto-Rico  native.country_Scotland  \\\n",
       "14161                           0                        0   \n",
       "27048                           0                        0   \n",
       "28868                           0                        0   \n",
       "5668                            0                        0   \n",
       "7828                            0                        0   \n",
       "\n",
       "       native.country_South  native.country_Taiwan  native.country_Thailand  \\\n",
       "14161                     0                      0                        0   \n",
       "27048                     0                      0                        0   \n",
       "28868                     0                      0                        0   \n",
       "5668                      0                      0                        0   \n",
       "7828                      0                      0                        0   \n",
       "\n",
       "       native.country_Trinadad&Tobago  native.country_United-States  \\\n",
       "14161                               0                             1   \n",
       "27048                               0                             1   \n",
       "28868                               0                             1   \n",
       "5668                                0                             1   \n",
       "7828                                0                             1   \n",
       "\n",
       "       native.country_Vietnam  native.country_Yugoslavia  \n",
       "14161                       0                          0  \n",
       "27048                       0                          0  \n",
       "28868                       0                          0  \n",
       "5668                        0                          0  \n",
       "7828                        0                          0  \n",
       "\n",
       "[5 rows x 89 columns]"
      ]
     },
     "execution_count": 223,
     "metadata": {},
     "output_type": "execute_result"
    }
   ],
   "source": [
    "X_test.head()"
   ]
  },
  {
   "cell_type": "markdown",
   "metadata": {},
   "source": [
    "## Feature Scaling"
   ]
  },
  {
   "cell_type": "code",
   "execution_count": 224,
   "metadata": {},
   "outputs": [],
   "source": [
    "scaler = StandardScaler()\n",
    "\n",
    "# Scale X_train and X_test separately\n",
    "X_train = pd.DataFrame(scaler.fit_transform(X_train), columns = X_train.columns)\n",
    "X_test = pd.DataFrame(scaler.transform(X_test), columns = X_test.columns)"
   ]
  },
  {
   "cell_type": "code",
   "execution_count": 225,
   "metadata": {},
   "outputs": [
    {
     "data": {
      "text/html": [
       "<div>\n",
       "<style scoped>\n",
       "    .dataframe tbody tr th:only-of-type {\n",
       "        vertical-align: middle;\n",
       "    }\n",
       "\n",
       "    .dataframe tbody tr th {\n",
       "        vertical-align: top;\n",
       "    }\n",
       "\n",
       "    .dataframe thead th {\n",
       "        text-align: right;\n",
       "    }\n",
       "</style>\n",
       "<table border=\"1\" class=\"dataframe\">\n",
       "  <thead>\n",
       "    <tr style=\"text-align: right;\">\n",
       "      <th></th>\n",
       "      <th>age</th>\n",
       "      <th>fnlwgt</th>\n",
       "      <th>education</th>\n",
       "      <th>education.num</th>\n",
       "      <th>capital.gain</th>\n",
       "      <th>capital.loss</th>\n",
       "      <th>hours.per.week</th>\n",
       "      <th>workclass_Federal-gov</th>\n",
       "      <th>workclass_Local-gov</th>\n",
       "      <th>workclass_Never-worked</th>\n",
       "      <th>...</th>\n",
       "      <th>native.country_Portugal</th>\n",
       "      <th>native.country_Puerto-Rico</th>\n",
       "      <th>native.country_Scotland</th>\n",
       "      <th>native.country_South</th>\n",
       "      <th>native.country_Taiwan</th>\n",
       "      <th>native.country_Thailand</th>\n",
       "      <th>native.country_Trinadad&amp;Tobago</th>\n",
       "      <th>native.country_United-States</th>\n",
       "      <th>native.country_Vietnam</th>\n",
       "      <th>native.country_Yugoslavia</th>\n",
       "    </tr>\n",
       "  </thead>\n",
       "  <tbody>\n",
       "    <tr>\n",
       "      <th>0</th>\n",
       "      <td>2.009289</td>\n",
       "      <td>-0.735326</td>\n",
       "      <td>-1.368398</td>\n",
       "      <td>-2.344253</td>\n",
       "      <td>-0.146514</td>\n",
       "      <td>-0.217132</td>\n",
       "      <td>-0.039104</td>\n",
       "      <td>-0.171607</td>\n",
       "      <td>-0.261327</td>\n",
       "      <td>-0.013249</td>\n",
       "      <td>...</td>\n",
       "      <td>-0.034439</td>\n",
       "      <td>-0.058222</td>\n",
       "      <td>-0.019875</td>\n",
       "      <td>-0.050945</td>\n",
       "      <td>-0.039774</td>\n",
       "      <td>-0.024792</td>\n",
       "      <td>-0.024792</td>\n",
       "      <td>0.306820</td>\n",
       "      <td>-0.04398</td>\n",
       "      <td>-0.022952</td>\n",
       "    </tr>\n",
       "    <tr>\n",
       "      <th>1</th>\n",
       "      <td>-0.997431</td>\n",
       "      <td>-0.711960</td>\n",
       "      <td>0.958024</td>\n",
       "      <td>1.901847</td>\n",
       "      <td>-0.146514</td>\n",
       "      <td>-0.217132</td>\n",
       "      <td>-2.647756</td>\n",
       "      <td>-0.171607</td>\n",
       "      <td>-0.261327</td>\n",
       "      <td>-0.013249</td>\n",
       "      <td>...</td>\n",
       "      <td>-0.034439</td>\n",
       "      <td>-0.058222</td>\n",
       "      <td>-0.019875</td>\n",
       "      <td>-0.050945</td>\n",
       "      <td>-0.039774</td>\n",
       "      <td>-0.024792</td>\n",
       "      <td>-0.024792</td>\n",
       "      <td>-3.259239</td>\n",
       "      <td>-0.04398</td>\n",
       "      <td>-0.022952</td>\n",
       "    </tr>\n",
       "    <tr>\n",
       "      <th>2</th>\n",
       "      <td>-0.410754</td>\n",
       "      <td>0.008704</td>\n",
       "      <td>0.182550</td>\n",
       "      <td>-0.414208</td>\n",
       "      <td>-0.146514</td>\n",
       "      <td>3.784281</td>\n",
       "      <td>-0.039104</td>\n",
       "      <td>-0.171607</td>\n",
       "      <td>-0.261327</td>\n",
       "      <td>-0.013249</td>\n",
       "      <td>...</td>\n",
       "      <td>-0.034439</td>\n",
       "      <td>-0.058222</td>\n",
       "      <td>-0.019875</td>\n",
       "      <td>-0.050945</td>\n",
       "      <td>-0.039774</td>\n",
       "      <td>-0.024792</td>\n",
       "      <td>-0.024792</td>\n",
       "      <td>0.306820</td>\n",
       "      <td>-0.04398</td>\n",
       "      <td>-0.022952</td>\n",
       "    </tr>\n",
       "    <tr>\n",
       "      <th>3</th>\n",
       "      <td>1.789285</td>\n",
       "      <td>0.645564</td>\n",
       "      <td>0.958024</td>\n",
       "      <td>1.901847</td>\n",
       "      <td>-0.146514</td>\n",
       "      <td>-0.217132</td>\n",
       "      <td>-0.039104</td>\n",
       "      <td>-0.171607</td>\n",
       "      <td>-0.261327</td>\n",
       "      <td>-0.013249</td>\n",
       "      <td>...</td>\n",
       "      <td>-0.034439</td>\n",
       "      <td>-0.058222</td>\n",
       "      <td>-0.019875</td>\n",
       "      <td>-0.050945</td>\n",
       "      <td>-0.039774</td>\n",
       "      <td>-0.024792</td>\n",
       "      <td>-0.024792</td>\n",
       "      <td>0.306820</td>\n",
       "      <td>-0.04398</td>\n",
       "      <td>-0.022952</td>\n",
       "    </tr>\n",
       "    <tr>\n",
       "      <th>4</th>\n",
       "      <td>-0.117415</td>\n",
       "      <td>1.055504</td>\n",
       "      <td>0.182550</td>\n",
       "      <td>-0.414208</td>\n",
       "      <td>-0.146514</td>\n",
       "      <td>-0.217132</td>\n",
       "      <td>0.368498</td>\n",
       "      <td>-0.171607</td>\n",
       "      <td>-0.261327</td>\n",
       "      <td>-0.013249</td>\n",
       "      <td>...</td>\n",
       "      <td>-0.034439</td>\n",
       "      <td>-0.058222</td>\n",
       "      <td>-0.019875</td>\n",
       "      <td>-0.050945</td>\n",
       "      <td>-0.039774</td>\n",
       "      <td>-0.024792</td>\n",
       "      <td>-0.024792</td>\n",
       "      <td>0.306820</td>\n",
       "      <td>-0.04398</td>\n",
       "      <td>-0.022952</td>\n",
       "    </tr>\n",
       "  </tbody>\n",
       "</table>\n",
       "<p>5 rows × 89 columns</p>\n",
       "</div>"
      ],
      "text/plain": [
       "        age    fnlwgt  education  education.num  capital.gain  capital.loss  \\\n",
       "0  2.009289 -0.735326  -1.368398      -2.344253     -0.146514     -0.217132   \n",
       "1 -0.997431 -0.711960   0.958024       1.901847     -0.146514     -0.217132   \n",
       "2 -0.410754  0.008704   0.182550      -0.414208     -0.146514      3.784281   \n",
       "3  1.789285  0.645564   0.958024       1.901847     -0.146514     -0.217132   \n",
       "4 -0.117415  1.055504   0.182550      -0.414208     -0.146514     -0.217132   \n",
       "\n",
       "   hours.per.week  workclass_Federal-gov  workclass_Local-gov  \\\n",
       "0       -0.039104              -0.171607            -0.261327   \n",
       "1       -2.647756              -0.171607            -0.261327   \n",
       "2       -0.039104              -0.171607            -0.261327   \n",
       "3       -0.039104              -0.171607            -0.261327   \n",
       "4        0.368498              -0.171607            -0.261327   \n",
       "\n",
       "   workclass_Never-worked  ...  native.country_Portugal  \\\n",
       "0               -0.013249  ...                -0.034439   \n",
       "1               -0.013249  ...                -0.034439   \n",
       "2               -0.013249  ...                -0.034439   \n",
       "3               -0.013249  ...                -0.034439   \n",
       "4               -0.013249  ...                -0.034439   \n",
       "\n",
       "   native.country_Puerto-Rico  native.country_Scotland  native.country_South  \\\n",
       "0                   -0.058222                -0.019875             -0.050945   \n",
       "1                   -0.058222                -0.019875             -0.050945   \n",
       "2                   -0.058222                -0.019875             -0.050945   \n",
       "3                   -0.058222                -0.019875             -0.050945   \n",
       "4                   -0.058222                -0.019875             -0.050945   \n",
       "\n",
       "   native.country_Taiwan  native.country_Thailand  \\\n",
       "0              -0.039774                -0.024792   \n",
       "1              -0.039774                -0.024792   \n",
       "2              -0.039774                -0.024792   \n",
       "3              -0.039774                -0.024792   \n",
       "4              -0.039774                -0.024792   \n",
       "\n",
       "   native.country_Trinadad&Tobago  native.country_United-States  \\\n",
       "0                       -0.024792                      0.306820   \n",
       "1                       -0.024792                     -3.259239   \n",
       "2                       -0.024792                      0.306820   \n",
       "3                       -0.024792                      0.306820   \n",
       "4                       -0.024792                      0.306820   \n",
       "\n",
       "   native.country_Vietnam  native.country_Yugoslavia  \n",
       "0                -0.04398                  -0.022952  \n",
       "1                -0.04398                  -0.022952  \n",
       "2                -0.04398                  -0.022952  \n",
       "3                -0.04398                  -0.022952  \n",
       "4                -0.04398                  -0.022952  \n",
       "\n",
       "[5 rows x 89 columns]"
      ]
     },
     "execution_count": 225,
     "metadata": {},
     "output_type": "execute_result"
    }
   ],
   "source": [
    "X_train.head()"
   ]
  },
  {
   "cell_type": "markdown",
   "metadata": {},
   "source": [
    "## Logistic Regression model with all features"
   ]
  },
  {
   "cell_type": "code",
   "execution_count": 226,
   "metadata": {},
   "outputs": [
    {
     "data": {
      "text/plain": [
       "((22792, 89), (9768, 89))"
      ]
     },
     "execution_count": 226,
     "metadata": {},
     "output_type": "execute_result"
    }
   ],
   "source": [
    "X_train.shape, X_test.shape"
   ]
  },
  {
   "cell_type": "code",
   "execution_count": 227,
   "metadata": {},
   "outputs": [
    {
     "data": {
      "text/plain": [
       "((22792,), (9768,))"
      ]
     },
     "execution_count": 227,
     "metadata": {},
     "output_type": "execute_result"
    }
   ],
   "source": [
    "y_train.shape, y_test.shape"
   ]
  },
  {
   "cell_type": "code",
   "execution_count": 228,
   "metadata": {},
   "outputs": [
    {
     "name": "stdout",
     "output_type": "stream",
     "text": [
      "Logistic Regression accuracy score with all features: 0.8505\n"
     ]
    }
   ],
   "source": [
    "logreg = LogisticRegression()\n",
    "logreg.fit(X_train, y_train)\n",
    "y_pred = logreg.predict(X_test)\n",
    "\n",
    "print('Logistic Regression accuracy score with all features: {0:0.4f}'. format(accuracy_score(y_test, y_pred)))"
   ]
  },
  {
   "cell_type": "markdown",
   "metadata": {},
   "source": [
    "## Logistic Regression with PCA\n",
    "\n",
    "Scikit-Learn's PCA class implements PCA algorithm using the code below. Before diving deep, I will explain another important concept called explained variance ratio.\n",
    "\n",
    "\n",
    "### Explained Variance Ratio\n",
    "\n",
    "A very useful piece of information is the **explained variance ratio** of each principal component. It is available via the `explained_variance_ratio_ ` variable. It indicates the proportion of the dataset’s variance that lies along the axis of each principal component.\n",
    "\n",
    "Now, let's get to the PCA implementation.\n"
   ]
  },
  {
   "cell_type": "code",
   "execution_count": 229,
   "metadata": {},
   "outputs": [
    {
     "data": {
      "text/plain": [
       "array([0.05011274, 0.02964493, 0.02814169, 0.0232071 , 0.02037071,\n",
       "       0.01945412, 0.01852754, 0.01622185, 0.01551659, 0.01484277])"
      ]
     },
     "execution_count": 229,
     "metadata": {},
     "output_type": "execute_result"
    }
   ],
   "source": [
    "pca = PCA()\n",
    "X_train = pca.fit_transform(X_train)\n",
    "\n",
    "pca.explained_variance_ratio_[:10]"
   ]
  },
  {
   "cell_type": "code",
   "execution_count": 230,
   "metadata": {},
   "outputs": [
    {
     "data": {
      "text/plain": [
       "array([0.05011274, 0.07975767, 0.10789935, 0.13110645, 0.15147716,\n",
       "       0.17093128, 0.18945881, 0.20568066, 0.22119725, 0.23604002])"
      ]
     },
     "execution_count": 230,
     "metadata": {},
     "output_type": "execute_result"
    }
   ],
   "source": [
    "np.cumsum(pca.explained_variance_ratio_)[:10]"
   ]
  },
  {
   "cell_type": "code",
   "execution_count": 231,
   "metadata": {},
   "outputs": [
    {
     "data": {
      "text/plain": [
       "(22792, 89)"
      ]
     },
     "execution_count": 231,
     "metadata": {},
     "output_type": "execute_result"
    }
   ],
   "source": [
    "X_train.shape"
   ]
  },
  {
   "cell_type": "code",
   "execution_count": 232,
   "metadata": {},
   "outputs": [
    {
     "data": {
      "text/plain": [
       "89"
      ]
     },
     "execution_count": 232,
     "metadata": {},
     "output_type": "execute_result"
    }
   ],
   "source": [
    "pca.n_components_"
   ]
  },
  {
   "cell_type": "code",
   "execution_count": 233,
   "metadata": {},
   "outputs": [
    {
     "data": {
      "text/plain": [
       "array([[ 1.79382590e-01, -2.00862968e-02,  1.24274423e-02, ...,\n",
       "         2.34243410e-02, -1.25898890e-02,  5.84673428e-03],\n",
       "       [-2.18542615e-01,  9.07923027e-02, -1.67694595e-01, ...,\n",
       "        -3.43018658e-01,  8.10334560e-02,  1.93187692e-02],\n",
       "       [ 2.39493321e-01, -9.57357372e-03,  5.76854615e-03, ...,\n",
       "        -3.40280648e-01,  1.03434442e-01,  7.35346895e-03],\n",
       "       ...,\n",
       "       [ 0.00000000e+00,  2.22044605e-16,  2.39624199e-16, ...,\n",
       "        -4.91165639e-01, -7.68833092e-02, -4.01792294e-02],\n",
       "       [ 0.00000000e+00, -1.52655666e-16, -3.49489687e-16, ...,\n",
       "         4.99455404e-02,  7.81809256e-03,  4.08573639e-03],\n",
       "       [ 0.00000000e+00,  4.16333634e-17,  1.80413234e-17, ...,\n",
       "        -2.99292531e-01, -4.68489617e-02, -2.44832747e-02]])"
      ]
     },
     "execution_count": 233,
     "metadata": {},
     "output_type": "execute_result"
    }
   ],
   "source": [
    "pca.components_"
   ]
  },
  {
   "cell_type": "markdown",
   "metadata": {},
   "source": [
    "## Select right number of components\n",
    "\n",
    "- An approach to compute the number of components that can explain significantly large portion of the variance.\n",
    "\n",
    "- The following code computes PCA without reducing dimensionality, then computes the minimum number of components required to preserve 90% of the training set variance."
   ]
  },
  {
   "cell_type": "code",
   "execution_count": 234,
   "metadata": {},
   "outputs": [
    {
     "name": "stdout",
     "output_type": "stream",
     "text": [
      "The number of components required to preserve 90% of variance is 68\n"
     ]
    }
   ],
   "source": [
    "pca = PCA()\n",
    "pca.fit(X_train)\n",
    "\n",
    "cumsum = np.cumsum(pca.explained_variance_ratio_)\n",
    "pc = np.argmax(cumsum >= 0.90) + 1\n",
    "print('The number of components required to preserve 90% of variance is', pc)"
   ]
  },
  {
   "cell_type": "markdown",
   "metadata": {},
   "source": [
    "**Explore code**"
   ]
  },
  {
   "cell_type": "code",
   "execution_count": 236,
   "metadata": {},
   "outputs": [
    {
     "data": {
      "text/plain": [
       "array([0.05011274, 0.07975767, 0.10789935, 0.13110645, 0.15147716,\n",
       "       0.17093128, 0.18945881, 0.20568066, 0.22119725, 0.23604002])"
      ]
     },
     "execution_count": 236,
     "metadata": {},
     "output_type": "execute_result"
    }
   ],
   "source": [
    "np.cumsum(pca.explained_variance_ratio_)[:10]"
   ]
  },
  {
   "cell_type": "code",
   "execution_count": 237,
   "metadata": {},
   "outputs": [
    {
     "data": {
      "text/plain": [
       "array([0.05011274, 0.02964493, 0.02814169, 0.0232071 , 0.02037071,\n",
       "       0.01945412, 0.01852754, 0.01622185, 0.01551659, 0.01484277])"
      ]
     },
     "execution_count": 237,
     "metadata": {},
     "output_type": "execute_result"
    }
   ],
   "source": [
    "pca.explained_variance_ratio_[:10]"
   ]
  },
  {
   "cell_type": "code",
   "execution_count": 238,
   "metadata": {},
   "outputs": [],
   "source": [
    "# Return index of max value\n",
    "pc = np.argmax(cumsum >= 0.90) + 1"
   ]
  },
  {
   "cell_type": "code",
   "execution_count": 239,
   "metadata": {},
   "outputs": [
    {
     "data": {
      "text/plain": [
       "array([False, False, False, False, False, False, False, False, False,\n",
       "       False, False, False, False, False, False, False, False, False,\n",
       "       False, False, False, False, False, False, False, False, False,\n",
       "       False, False, False, False, False, False, False, False, False,\n",
       "       False, False, False, False, False, False, False, False, False,\n",
       "       False, False, False, False, False, False, False, False, False,\n",
       "       False, False, False, False, False, False, False, False, False,\n",
       "       False, False, False, False,  True,  True,  True,  True,  True,\n",
       "        True,  True,  True,  True,  True,  True,  True,  True,  True,\n",
       "        True,  True,  True,  True,  True,  True,  True,  True])"
      ]
     },
     "execution_count": 239,
     "metadata": {},
     "output_type": "execute_result"
    }
   ],
   "source": [
    "cumsum >= 0.90"
   ]
  },
  {
   "cell_type": "code",
   "execution_count": 240,
   "metadata": {},
   "outputs": [
    {
     "data": {
      "text/plain": [
       "67"
      ]
     },
     "execution_count": 240,
     "metadata": {},
     "output_type": "execute_result"
    }
   ],
   "source": [
    "np.argmax(cumsum >= 0.90) "
   ]
  },
  {
   "cell_type": "markdown",
   "metadata": {},
   "source": [
    "### Comment\n",
    "\n",
    "- With the required number of components found, we can then set number of components to `pc` and run PCA again.\n",
    "\n",
    "- With the number of components set to `pc`, we can then calculate the required accuracy."
   ]
  },
  {
   "cell_type": "markdown",
   "metadata": {
    "tags": []
   },
   "source": [
    "## Plot explained variance ratio with number of components\n",
    "\n",
    "- An alternative option is to plot the explained variance as a function of the number of components.\n",
    "\n",
    "- In the plot, we should look for an elbow where the explained variance stops growing fast.\n",
    "\n",
    "- This can be thought of as the intrinsic dimensionality of the dataset.\n",
    "\n",
    "- Now, I will plot cumulative explained variance ratio with number of components to show how variance ratio varies with number of components."
   ]
  },
  {
   "cell_type": "code",
   "execution_count": 241,
   "metadata": {},
   "outputs": [
    {
     "data": {
      "image/png": "[encoded data removed]",
      "text/plain": [
       "<Figure size 600x400 with 1 Axes>"
      ]
     },
     "metadata": {},
     "output_type": "display_data"
    }
   ],
   "source": [
    "plt.figure(figsize=(6,4))\n",
    "plt.plot(np.cumsum(pca.explained_variance_ratio_))\n",
    "plt.xlim(0,90,1)\n",
    "plt.xlabel('Number of components')\n",
    "plt.ylabel('Cumulative explained variance');"
   ]
  },
  {
   "cell_type": "markdown",
   "metadata": {},
   "source": [
    "## PCA in a model pipeline with Logistic Regression"
   ]
  },
  {
   "cell_type": "code",
   "execution_count": 242,
   "metadata": {},
   "outputs": [],
   "source": [
    "# Split dataset\n",
    "X_train, X_test, y_train, y_test = train_test_split(X, y, test_size = 0.3, random_state = 42)"
   ]
  },
  {
   "cell_type": "code",
   "execution_count": 243,
   "metadata": {},
   "outputs": [],
   "source": [
    "# Encode label\n",
    "label_encoder = LabelEncoder()\n",
    "y_train = label_encoder.fit_transform(y_train)\n",
    "y_test = label_encoder.transform(y_test)"
   ]
  },
  {
   "cell_type": "code",
   "execution_count": 244,
   "metadata": {},
   "outputs": [],
   "source": [
    "# Ordinal encoding\n",
    "ordinal = ['education']\n",
    "ordinal_encoder = OrdinalEncoder()\n",
    "X_train[ordinal] = ordinal_encoder.fit_transform(X_train[ordinal])\n",
    "X_test[ordinal] = ordinal_encoder.transform(X_test[ordinal])"
   ]
  },
  {
   "cell_type": "code",
   "execution_count": 245,
   "metadata": {},
   "outputs": [],
   "source": [
    "# Dummy encoding\n",
    "X_train = pd.get_dummies(X_train, drop_first=False)\n",
    "X_test = pd.get_dummies(X_test, drop_first=False)"
   ]
  },
  {
   "cell_type": "code",
   "execution_count": 263,
   "metadata": {},
   "outputs": [
    {
     "name": "stdout",
     "output_type": "stream",
     "text": [
      "7 components explain 19% of the variance in the dataset\n",
      "However, the classification accuracy is 83%\n"
     ]
    }
   ],
   "source": [
    "# Play with the number of components and check the results\n",
    "n_components=7\n",
    "\n",
    "# Pipeline\n",
    "pipe = Pipeline([\n",
    "    ('scaler', StandardScaler()),\n",
    "    ('reducer', PCA(n_components=n_components)), \n",
    "    ('classifier', LogisticRegression())])\n",
    "\n",
    "pipe.fit(X_train, y_train)\n",
    "\n",
    "print(f\"{n_components} components explain {pipe['reducer'].explained_variance_ratio_.sum()*100:.0f}% of the variance in the dataset\")\n",
    "print(f\"However, the classification accuracy is {pipe.score(X_test, y_test)*100:.0f}%\")"
   ]
  },
  {
   "cell_type": "code",
   "execution_count": 262,
   "metadata": {},
   "outputs": [
    {
     "name": "stdout",
     "output_type": "stream",
     "text": [
      "Number of components: 59 to explain 80% of the variance in the dataset\n",
      "Classification accuracy is 83%\n"
     ]
    }
   ],
   "source": [
    "# Set enough components to explain 80% of variance\n",
    "n_components=0.8\n",
    "\n",
    "# Pipeline\n",
    "pipe = Pipeline([\n",
    "    ('scaler', StandardScaler()),\n",
    "    ('reducer', PCA(n_components=n_components)), \n",
    "    ('classifier', LogisticRegression())])\n",
    "\n",
    "pipe.fit(X_train, y_train)\n",
    "\n",
    "print(f\"Number of components: {len(pipe['reducer'].components_)} to explain {n_components*100:.0f}% of the variance in the dataset\")\n",
    "print(f\"Classification accuracy is {pipe.score(X_test, y_test)*100:.0f}%\")"
   ]
  },
  {
   "cell_type": "markdown",
   "metadata": {},
   "source": [
    "**Note! PCA is not the preferred algorithm to reduce the dimensionality of categorical datasets**"
   ]
  },
  {
   "cell_type": "markdown",
   "metadata": {
    "tags": []
   },
   "source": [
    "## References\n",
    "\n",
    "The ideas and concepts in this kernel are taken from the following book.\n",
    "\n",
    "- Hands on Machine Learning with Scikit-Learn and Tensorflow by Aurelien Geron."
   ]
  }
 ],
 "metadata": {
  "kernelspec": {
   "display_name": "Python 3 (ipykernel)",
   "language": "python",
   "name": "python3"
  },
  "language_info": {
   "codemirror_mode": {
    "name": "ipython",
    "version": 3
   },
   "file_extension": ".py",
   "mimetype": "text/x-python",
   "name": "python",
   "nbconvert_exporter": "python",
   "pygments_lexer": "ipython3",
   "version": "3.9.13"
  }
 },
 "nbformat": 4,
 "nbformat_minor": 4
}
