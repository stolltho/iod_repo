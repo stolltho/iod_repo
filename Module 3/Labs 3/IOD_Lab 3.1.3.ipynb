{
 "cells": [
  {
   "cell_type": "markdown",
   "metadata": {
    "id": "O4slJmP6lJPO"
   },
   "source": [
    "<div>\n",
    "<img src=https://www.institutedata.com/wp-content/uploads/2019/10/iod_h_tp_primary_c.svg width=\"300\">\n",
    "</div>"
   ]
  },
  {
   "cell_type": "markdown",
   "metadata": {
    "id": "YgGme6aRlJPT"
   },
   "source": [
    "# Lab 3.1.3: \n",
    "# *Database Programming with Python and SQLite*"
   ]
  },
  {
   "cell_type": "markdown",
   "metadata": {
    "id": "qv6NIGfOlJPW"
   },
   "source": [
    "<a name=\"demo\"></a>\n",
    "## Using SQLite\n",
    "\n",
    "### Advantages of SQLite\n",
    "\n",
    "- does not run on a separate server\n",
    "- creates portable SQL databases saved in a single file\n",
    "- databases are stored in a very efficient manner and allow fast querying\n",
    "- ideal for small databases or databases that need to be copied across machines.\n",
    "- prototyping applications (e.g. as an embedded database server in a Python program).\n",
    "\n"
   ]
  },
  {
   "cell_type": "markdown",
   "metadata": {
    "id": "IHIaKfRelJPc"
   },
   "source": [
    "### The `sqlite3` Command Line Utility\n",
    "\n",
    "- useful for basic SQL tasks and database maintenance\n",
    "- for creating and dropping databases, it may be safer to use the command line than to roll the code into a Python program"
   ]
  },
  {
   "cell_type": "markdown",
   "metadata": {
    "id": "adOx7ovjlJPf"
   },
   "source": [
    "1. Add the sqlite3 installation folder to your PATH environment variable.\n",
    "2. Open a command window.\n",
    "3. Navigate to your preferred working directory.\n",
    "4. Start the sqlite3 command line utility and create a database called \"ex1\":\n",
    "\n",
    "`$ sqlite3 ex1`\n",
    "\n",
    "Output:  \n",
    "\n",
    "`SQLite version 3.8.5 2014-05-29 12:36:14`\n",
    "\n",
    "`Enter \".help\" for usage hints`\n",
    "\n",
    "`sqlite>`\n",
    "\n",
    "*Nb. If you leave out the database name (after `sqlite3`, above) a new, temporary database will be created; it will be destroyed upon exiting sqlite3.*  \n"
   ]
  },
  {
   "cell_type": "markdown",
   "metadata": {
    "id": "nuPeNybYlJPj"
   },
   "source": [
    "Enter the following commands at the sqlite prompt (not shown):\n",
    "\n",
    "`create table tbl1(one varchar(10), two smallint);`\n",
    "\n",
    "`insert into tbl1 values('hello!',10);`\n",
    "\n",
    "`insert into tbl1 values('goodbye', 20);`\n",
    "\n",
    "`select * from tbl1;`\n",
    "\n",
    "Output:  \n",
    "\n",
    "`hello!|10`\n",
    "\n",
    "`goodbye|20`"
   ]
  },
  {
   "cell_type": "markdown",
   "metadata": {
    "id": "G7c-GNh_lJPl"
   },
   "source": [
    "Enter `.help` at the sqlite3 command prompt. This lists the available \"dot commands\". \n",
    "\n",
    "Some of the more useful dot commands include:\n",
    "  \n",
    "`.backup ?DB? FILE      Backup DB (default \"main\") to FILE`\n",
    "\n",
    "`.cd DIRECTORY          Change the working directory to DIRECTORY`\n",
    "\n",
    "`.clone NEWDB           Clone data into NEWDB from the existing database`\n",
    "\n",
    "`.databases             List names and files of attached databases`\n",
    "\n",
    "`.dump ?TABLE? ...      Dump the database in an SQL text format`\n",
    "\n",
    "`.excel                 Display the output of next command in a spreadsheet`\n",
    "\n",
    "`.exit                  Exit this program`\n",
    "\n",
    "`.headers on|off        Turn display of headers on or off`\n",
    "\n",
    "`.help                  Show this message`\n",
    "\n",
    "`.import FILE TABLE     Import data from FILE into TABLE`\n",
    "\n",
    "`.indexes ?TABLE?       Show names of all indexes`\n",
    "\n",
    "`.quit                  Exit this program`\n",
    "\n",
    "`.read FILENAME         Execute SQL in FILENAME`\n",
    "\n",
    "`.restore ?DB? FILE     Restore content of DB (default \"main\") from FILE`\n",
    "\n",
    "`.save FILE             Write in-memory database into FILE`\n",
    "\n",
    "`.tables ?TABLE?        List names of tables`\n"
   ]
  },
  {
   "cell_type": "markdown",
   "metadata": {
    "id": "UGuSmoHMlJPn"
   },
   "source": [
    "### The `sqlite3` package\n",
    "\n",
    "The easiest way to incorporate an SQL database into a Python application is by using the `sqlite3` package for [`Python 2.7`](https://docs.python.org/2.7/library/sqlite3.html) or [`Python 3.x`](https://docs.python.org/3/library/sqlite3.html).\n",
    "\n",
    "Open a connection to an SQLite database file.  As before, if the file does not already exist it will automatically be created."
   ]
  },
  {
   "cell_type": "code",
   "execution_count": 13,
   "metadata": {
    "ExecuteTime": {
     "end_time": "2019-03-21T02:45:26.790620Z",
     "start_time": "2019-03-21T02:45:26.783638Z"
    },
    "id": "kDA5eAPilJPo"
   },
   "outputs": [],
   "source": [
    "import sqlite3\n",
    "sqlite_db = 'test_db.sqlite'\n",
    "conn = sqlite3.connect(sqlite_db) \n",
    "c = conn.cursor() \n",
    "\n",
    "#.cursor() method is useful when one has multiple connections (and to shorten code)\n",
    "# c1 = conn.cursor()\n",
    "# c2 = db_connection.cursor()\n",
    "# ..."
   ]
  },
  {
   "cell_type": "markdown",
   "metadata": {
    "id": "SbbON3DXlJPt"
   },
   "source": [
    "Commands can be executed by passing them as string arguments to the `execute` method of the cursor we just created for this database."
   ]
  },
  {
   "cell_type": "markdown",
   "metadata": {
    "id": "9YezTIZxlJPu"
   },
   "source": [
    "*Nb. If this script has never been run before, the following will raise an (inconsequential) error message:*"
   ]
  },
  {
   "cell_type": "code",
   "execution_count": 2,
   "metadata": {
    "ExecuteTime": {
     "end_time": "2019-03-21T02:53:18.454636Z",
     "start_time": "2019-03-21T02:53:18.434692Z"
    },
    "colab": {
     "base_uri": "https://localhost:8080/",
     "height": 222
    },
    "executionInfo": {
     "elapsed": 418,
     "status": "error",
     "timestamp": 1656472962314,
     "user": {
      "displayName": "Muru Raj",
      "userId": "16263509272652930332"
     },
     "user_tz": -480
    },
    "id": "vf0t6T2mlJPw",
    "outputId": "0512a379-d0f1-449f-aca4-076e9eb8fac3"
   },
   "outputs": [],
   "source": [
    "c.execute('DROP TABLE houses;')\n",
    "\n",
    "# Save (commit) the changes:\n",
    "conn.commit()"
   ]
  },
  {
   "cell_type": "code",
   "execution_count": 3,
   "metadata": {
    "ExecuteTime": {
     "end_time": "2019-03-21T02:53:29.356866Z",
     "start_time": "2019-03-21T02:53:29.332924Z"
    },
    "id": "jSfkJrVWlJPz"
   },
   "outputs": [],
   "source": [
    "# Create table and columns\n",
    "c.execute('CREATE TABLE houses (field1 INTEGER PRIMARY KEY, sqft INTEGER, bdrms INTEGER, age INTEGER, price INTEGER);')\n",
    "\n",
    "# Save changes\n",
    "conn.commit()"
   ]
  },
  {
   "cell_type": "code",
   "execution_count": 5,
   "metadata": {},
   "outputs": [
    {
     "data": {
      "text/plain": [
       "[]"
      ]
     },
     "execution_count": 5,
     "metadata": {},
     "output_type": "execute_result"
    }
   ],
   "source": [
    "# Query db (Note! No data has been added yet)\n",
    "c.execute('SELECT * FROM houses;').fetchall()"
   ]
  },
  {
   "cell_type": "markdown",
   "metadata": {
    "id": "_BWciGvRlJP3"
   },
   "source": [
    "With the database saved the table should now be viewable using SQLite Manager.\n",
    "\n",
    "#### Adding data\n",
    "\n",
    "Since we're back in python, we can now use regular programming techniques in conjunction with the sqlite connection.  In particular, the cursor's `execute()` method supports value substitution using the `?` character, which makes adding multiple records a bit easier.  See the [docs](https://docs.python.org/2.7/library/sqlite3.html) for more details.\n",
    "\n",
    "> c.execute(sql_command, values)"
   ]
  },
  {
   "cell_type": "code",
   "execution_count": 6,
   "metadata": {
    "ExecuteTime": {
     "end_time": "2019-03-21T02:53:32.085517Z",
     "start_time": "2019-03-21T02:53:32.065541Z"
    },
    "id": "EFU0wSP1lJP4"
   },
   "outputs": [],
   "source": [
    "# A\n",
    "last_sale = (None, 4000, 5, 22, 619000)\n",
    "\n",
    "# Execute Command\n",
    "c.execute('INSERT INTO houses VALUES (?,?,?,?,?)',last_sale)\n",
    "\n",
    "# Remember to commit the changes\n",
    "conn.commit()"
   ]
  },
  {
   "cell_type": "code",
   "execution_count": 7,
   "metadata": {},
   "outputs": [
    {
     "data": {
      "text/plain": [
       "[(1, 4000, 5, 22, 619000)]"
      ]
     },
     "execution_count": 7,
     "metadata": {},
     "output_type": "execute_result"
    }
   ],
   "source": [
    "c.execute('SELECT * FROM houses;').fetchall()"
   ]
  },
  {
   "cell_type": "markdown",
   "metadata": {
    "id": "t7h9HnjDlJP7"
   },
   "source": [
    "Notice that in this syntax we use the python `None` value, rather than `NULL`, to trigger SQLite to auto-increment the Primary Key. \n",
    "\n",
    "There is a related cursor method `executemany()` which takes an array of tuples and loops through them, substituting one tuple at a time.\n",
    "\n",
    "> c.executemany(sql_command, values)"
   ]
  },
  {
   "cell_type": "code",
   "execution_count": 8,
   "metadata": {
    "ExecuteTime": {
     "end_time": "2019-03-21T02:53:39.925817Z",
     "start_time": "2019-03-21T02:53:39.899884Z"
    },
    "id": "MA2Xia7IlJP8"
   },
   "outputs": [],
   "source": [
    "# A\n",
    "recent_sales = [\n",
    "  (None, 2390, 4, 34, 319000),\n",
    "  (None, 1870, 3, 14, 289000),\n",
    "  (None, 1505, 3, 90, 269000),\n",
    "]\n",
    "\n",
    "# Nb. The \"?\" parameters are placeholders for data that will map to the table columns during insertion;\n",
    "# this is a security measure against SQL injection attacks:\n",
    "# \n",
    "c.executemany('INSERT INTO houses VALUES (?, ?, ?, ?, ?)', recent_sales)\n",
    "\n",
    "conn.commit()"
   ]
  },
  {
   "cell_type": "code",
   "execution_count": 9,
   "metadata": {},
   "outputs": [
    {
     "data": {
      "text/plain": [
       "[(1, 4000, 5, 22, 619000),\n",
       " (2, 2390, 4, 34, 319000),\n",
       " (3, 1870, 3, 14, 289000),\n",
       " (4, 1505, 3, 90, 269000)]"
      ]
     },
     "execution_count": 9,
     "metadata": {},
     "output_type": "execute_result"
    }
   ],
   "source": [
    "c.execute('SELECT * FROM houses;').fetchall()"
   ]
  },
  {
   "cell_type": "markdown",
   "metadata": {
    "id": "4re-XRYUlAj7"
   },
   "source": [
    "Select all rows from houses"
   ]
  },
  {
   "cell_type": "code",
   "execution_count": 10,
   "metadata": {
    "ExecuteTime": {
     "end_time": "2019-03-21T02:53:42.873911Z",
     "start_time": "2019-03-21T02:53:42.860919Z"
    },
    "colab": {
     "base_uri": "https://localhost:8080/"
    },
    "executionInfo": {
     "elapsed": 5,
     "status": "ok",
     "timestamp": 1656473111637,
     "user": {
      "displayName": "Muru Raj",
      "userId": "16263509272652930332"
     },
     "user_tz": -480
    },
    "id": "aQPGUlLZlJP-",
    "outputId": "80b43a8b-b12d-400f-9846-273735f1bb55"
   },
   "outputs": [
    {
     "data": {
      "text/plain": [
       "[(1, 4000, 5, 22, 619000),\n",
       " (2, 2390, 4, 34, 319000),\n",
       " (3, 1870, 3, 14, 289000),\n",
       " (4, 1505, 3, 90, 269000)]"
      ]
     },
     "execution_count": 10,
     "metadata": {},
     "output_type": "execute_result"
    }
   ],
   "source": [
    "# A\n",
    "query = 'Select * from houses'\n",
    "c.execute(query)\n",
    "c.fetchall()\n",
    "#pd.DataFrame(c.fetchall())"
   ]
  },
  {
   "cell_type": "markdown",
   "metadata": {
    "id": "Rua_QrCClJQF"
   },
   "source": [
    "\n",
    "\n",
    "\n",
    "#### Adding data from a csv file\n",
    "One way to populate the database from a file is to use `numpy.genfromtxt` to read the file into an array (converted to a list for easier handling), and then `INSERT` those records into the database.  The `genfromtxt` function has options including the output data type, handling of missing values, skipping of header and footer rows, columns to read, and more. "
   ]
  },
  {
   "cell_type": "code",
   "execution_count": 6,
   "metadata": {
    "id": "uvqTmTEHfuvj"
   },
   "outputs": [],
   "source": [
    "from numpy import genfromtxt\n",
    "\n",
    "# import into nparray of ints, then convert to list of lists:\n",
    "data = genfromtxt('../../DATA/housing-data.csv', dtype = 'i8', delimiter = ',', skip_header = 1).tolist()"
   ]
  },
  {
   "cell_type": "markdown",
   "metadata": {
    "id": "rsYzLBGglJQI"
   },
   "source": [
    "Suppose we need to put a placeholder in the first column for data that will be available later. Best practice is to insert the value `None`:"
   ]
  },
  {
   "cell_type": "code",
   "execution_count": 8,
   "metadata": {},
   "outputs": [
    {
     "name": "stdout",
     "output_type": "stream",
     "text": [
      "47\n"
     ]
    },
    {
     "data": {
      "text/plain": [
       "[[2104, 3, 70, 399900],\n",
       " [1600, 3, 28, 329900],\n",
       " [2400, 3, 44, 369000],\n",
       " [1416, 2, 49, 232000],\n",
       " [3000, 4, 75, 539900]]"
      ]
     },
     "metadata": {},
     "output_type": "display_data"
    }
   ],
   "source": [
    "print(len(data))\n",
    "display(data[:5])"
   ]
  },
  {
   "cell_type": "code",
   "execution_count": 9,
   "metadata": {
    "ExecuteTime": {
     "end_time": "2019-03-21T03:00:17.647051Z",
     "start_time": "2019-03-21T03:00:17.642063Z"
    },
    "id": "IpIp0WZhlJQI"
   },
   "outputs": [],
   "source": [
    "# prepend a None value to beginning of each sub-list:\n",
    "for d in data:\n",
    "    d.insert(0, None)"
   ]
  },
  {
   "cell_type": "code",
   "execution_count": 10,
   "metadata": {},
   "outputs": [
    {
     "data": {
      "text/plain": [
       "[[None, 2104, 3, 70, 399900],\n",
       " [None, 1600, 3, 28, 329900],\n",
       " [None, 2400, 3, 44, 369000],\n",
       " [None, 1416, 2, 49, 232000],\n",
       " [None, 3000, 4, 75, 539900]]"
      ]
     },
     "metadata": {},
     "output_type": "display_data"
    }
   ],
   "source": [
    "display(data[:5])"
   ]
  },
  {
   "cell_type": "markdown",
   "metadata": {
    "id": "FwHtbxRTlJQL"
   },
   "source": [
    "*Nb. This is why we converted the input array to a list. An array can only hold one type of data (integers in this case) so we could not have inserted `None` before we did this conversion.*"
   ]
  },
  {
   "cell_type": "code",
   "execution_count": 11,
   "metadata": {
    "ExecuteTime": {
     "end_time": "2019-03-21T03:00:20.313136Z",
     "start_time": "2019-03-21T03:00:20.306156Z"
    },
    "id": "dpjV2gEIlJQL",
    "outputId": "553d1507-35e9-4682-fd2f-141d26513a2c"
   },
   "outputs": [
    {
     "name": "stdout",
     "output_type": "stream",
     "text": [
      "<class 'list'>\n",
      "[[None, 2104, 3, 70, 399900], [None, 1600, 3, 28, 329900], [None, 2400, 3, 44, 369000]]\n"
     ]
    }
   ],
   "source": [
    "# check:\n",
    "print(type(data))\n",
    "print(data[0:3])"
   ]
  },
  {
   "cell_type": "markdown",
   "metadata": {
    "id": "2YuxctislJQP"
   },
   "source": [
    "Now we can insert each list item as a row of fields in the database."
   ]
  },
  {
   "cell_type": "code",
   "execution_count": 14,
   "metadata": {
    "ExecuteTime": {
     "end_time": "2019-03-21T03:00:23.383321Z",
     "start_time": "2019-03-21T03:00:23.360381Z"
    },
    "id": "1X78UleXlJQP"
   },
   "outputs": [],
   "source": [
    "# loop through data, running an INSERT on each record (i.e. sublist):\n",
    "for d in data:\n",
    "    c.execute('INSERT INTO houses VALUES (?, ?, ?, ?, ?)', d)\n",
    "\n",
    "conn.commit()"
   ]
  },
  {
   "cell_type": "code",
   "execution_count": 17,
   "metadata": {},
   "outputs": [
    {
     "data": {
      "text/plain": [
       "[(1, 4000, 5, 22, 619000),\n",
       " (2, 2390, 4, 34, 319000),\n",
       " (3, 1870, 3, 14, 289000),\n",
       " (4, 1505, 3, 90, 269000),\n",
       " (5, 2104, 3, 70, 399900)]"
      ]
     },
     "execution_count": 17,
     "metadata": {},
     "output_type": "execute_result"
    }
   ],
   "source": [
    "c.execute(\"SELECT * FROM houses;\").fetchall()[:5]"
   ]
  },
  {
   "cell_type": "markdown",
   "metadata": {
    "id": "fOU5sJDmlJQS"
   },
   "source": [
    "In this case, because we were inserting the same value for all records, so we could have simply used a 'None' in the numpy `insert` method at column 0."
   ]
  },
  {
   "cell_type": "code",
   "execution_count": 18,
   "metadata": {
    "ExecuteTime": {
     "end_time": "2019-03-21T03:00:26.207906Z",
     "start_time": "2019-03-21T03:00:26.192925Z"
    },
    "id": "sDig16BalJQS"
   },
   "outputs": [],
   "source": [
    "import numpy as np\n",
    "d1 = np.asarray([1200, 3, 15, 250000])\n",
    "d1 = d1.tolist()\n",
    "d1.insert(0, None)\n",
    "d1\n",
    "c.execute('INSERT INTO houses VALUES (?, ?, ?, ?, ?)', d1)\n",
    "conn.commit()"
   ]
  },
  {
   "cell_type": "code",
   "execution_count": 22,
   "metadata": {},
   "outputs": [
    {
     "data": {
      "text/plain": [
       "[(1, 4000, 5, 22, 619000),\n",
       " (2, 2390, 4, 34, 319000),\n",
       " (3, 1870, 3, 14, 289000),\n",
       " (4, 1505, 3, 90, 269000),\n",
       " (5, 2104, 3, 70, 399900)]"
      ]
     },
     "execution_count": 22,
     "metadata": {},
     "output_type": "execute_result"
    }
   ],
   "source": [
    "c.execute(\"SELECT * FROM houses;\").fetchall()[:5]"
   ]
  },
  {
   "cell_type": "markdown",
   "metadata": {
    "id": "FVZ3jVc3lJQT"
   },
   "source": [
    "#### Deleting Rows"
   ]
  },
  {
   "cell_type": "markdown",
   "metadata": {
    "id": "fwGFqJKplJQU"
   },
   "source": [
    "The `DELETE FROM` statement can be used with a `WHERE` clause to specify rows to delete based on some criteria."
   ]
  },
  {
   "cell_type": "code",
   "execution_count": 20,
   "metadata": {
    "ExecuteTime": {
     "end_time": "2019-03-21T03:00:28.930270Z",
     "start_time": "2019-03-21T03:00:28.913316Z"
    },
    "id": "G-t-_J1alJQU"
   },
   "outputs": [],
   "source": [
    "c.execute('DELETE FROM houses WHERE field1 IN (52, 53)')\n",
    "conn.commit()"
   ]
  },
  {
   "cell_type": "markdown",
   "metadata": {
    "id": "dBd4Rh8DlJQW"
   },
   "source": [
    "QUIZ: What would `DELETE FROM houses` do? Delete rows w/ primary key entries 52 and 53"
   ]
  },
  {
   "cell_type": "code",
   "execution_count": 24,
   "metadata": {},
   "outputs": [
    {
     "data": {
      "text/plain": [
       "[(46, 2238, 3, 37, 329900),\n",
       " (47, 2567, 4, 57, 314000),\n",
       " (48, 1200, 3, 76, 299000),\n",
       " (49, 852, 2, 70, 179900),\n",
       " (50, 1852, 4, 64, 299900),\n",
       " (51, 1203, 3, 11, 239500),\n",
       " (54, 2400, 3, 44, 369000),\n",
       " (55, 1416, 2, 49, 232000),\n",
       " (56, 3000, 4, 75, 539900),\n",
       " (57, 1985, 4, 61, 299900),\n",
       " (58, 1534, 3, 12, 314900)]"
      ]
     },
     "execution_count": 24,
     "metadata": {},
     "output_type": "execute_result"
    }
   ],
   "source": [
    "c.execute(\"SELECT * FROM houses;\").fetchall()[45:56]"
   ]
  },
  {
   "cell_type": "markdown",
   "metadata": {
    "id": "omubeB6qlJQW"
   },
   "source": [
    "#### Filtering Rows"
   ]
  },
  {
   "cell_type": "markdown",
   "metadata": {
    "id": "0x6oaa-UlU2c"
   },
   "source": [
    "**1. Select Rows Where Bedrooms = 4**"
   ]
  },
  {
   "cell_type": "code",
   "execution_count": 22,
   "metadata": {
    "ExecuteTime": {
     "end_time": "2019-03-21T03:00:32.102245Z",
     "start_time": "2019-03-21T03:00:32.091281Z"
    },
    "id": "tET_cYfWlJQX"
   },
   "outputs": [
    {
     "data": {
      "text/plain": [
       "[(2, 2390, 4, 34, 319000),\n",
       " (9, 3000, 4, 75, 539900),\n",
       " (10, 1985, 4, 61, 299900),\n",
       " (15, 1940, 4, 7, 239999),\n",
       " (20, 2300, 4, 77, 449900),\n",
       " (23, 2609, 4, 5, 499998),\n",
       " (24, 3031, 4, 21, 599000),\n",
       " (28, 1962, 4, 53, 259900),\n",
       " (37, 2040, 4, 75, 314900),\n",
       " (39, 1811, 4, 24, 285900),\n",
       " (42, 2132, 4, 28, 345000),\n",
       " (43, 4215, 4, 66, 549000),\n",
       " (44, 2162, 4, 43, 287000),\n",
       " (47, 2567, 4, 57, 314000),\n",
       " (50, 1852, 4, 64, 299900)]"
      ]
     },
     "execution_count": 22,
     "metadata": {},
     "output_type": "execute_result"
    }
   ],
   "source": [
    "# ANSWER\n",
    "query = \"\"\"SELECT * FROM houses WHERE bdrms = 4;\"\"\"\n",
    "c.execute(query)\n",
    "c.fetchall()"
   ]
  },
  {
   "cell_type": "markdown",
   "metadata": {
    "id": "sTNiWQB2lJQg"
   },
   "source": [
    "**2. The following query calculates the average floor area and price of each size of house (i.e. by number of bedrooms):**"
   ]
  },
  {
   "cell_type": "code",
   "execution_count": 23,
   "metadata": {
    "ExecuteTime": {
     "end_time": "2019-03-21T03:00:40.229917Z",
     "start_time": "2019-03-21T03:00:40.215956Z"
    },
    "id": "nkFpYIbVlJQg",
    "outputId": "a56eebd4-9f0b-483d-9e30-4305de3e25b6"
   },
   "outputs": [
    {
     "data": {
      "text/plain": [
       "[(1, 1000.0, 169900.0),\n",
       " (2, 1496.5, 280866.6666666667),\n",
       " (3, 1827.5555555555557, 322892.51851851854),\n",
       " (4, 2399.733333333333, 373553.13333333336),\n",
       " (5, 4239.0, 659450.0)]"
      ]
     },
     "execution_count": 23,
     "metadata": {},
     "output_type": "execute_result"
    }
   ],
   "source": [
    "# ANSWER\n",
    "results = c.execute(\"SELECT bdrms, AVG(sqft) AS avg_sqft, AVG(price) AS avg_price FROM houses GROUP BY bdrms\")\n",
    "results.fetchall()"
   ]
  },
  {
   "cell_type": "markdown",
   "metadata": {
    "id": "7K9VDroqlJQi"
   },
   "source": [
    "### Pandas connector\n",
    "\n",
    "While databases provide many analytical capabilities, at some point we may need to pull data into Python for more flexible processing. Large, fixed operations would be more efficient in a database, but Pandas allows for interactive processing.\n",
    "\n",
    "For example, if you want to aggregate nightly log-ins or sales for a report or dashboard, this would be a fixed operation on a large dataset. These computations would run more efficiently in the database system itself.\n",
    "\n",
    "However, if we wanted to model the patterns of login behaviour or factors driving sales, then we would import the data to Python where we could use its simple interfaces to powerful analytic libraries."
   ]
  },
  {
   "cell_type": "code",
   "execution_count": 25,
   "metadata": {
    "ExecuteTime": {
     "end_time": "2019-03-21T03:00:47.378382Z",
     "start_time": "2019-03-21T03:00:46.506361Z"
    },
    "id": "tvI0P-r8lJQj"
   },
   "outputs": [],
   "source": [
    "import pandas as pd\n",
    "from pandas.io import sql"
   ]
  },
  {
   "cell_type": "markdown",
   "metadata": {
    "id": "gBz6pxPFlJQk"
   },
   "source": [
    "Pandas can connect to most relational databases. In this demonstration, we will create and connect to a SQLite database."
   ]
  },
  {
   "cell_type": "markdown",
   "metadata": {
    "id": "3dZYouA_lJQk"
   },
   "source": [
    "### Writing data into a database\n",
    "\n",
    "Data in Pandas can be loaded into a relational database. \n",
    "\n",
    "If the data table is not too large, we can load all of it into a Pandas DataFrame:"
   ]
  },
  {
   "cell_type": "code",
   "execution_count": 26,
   "metadata": {
    "ExecuteTime": {
     "end_time": "2019-03-21T03:00:57.272152Z",
     "start_time": "2019-03-21T03:00:57.245228Z"
    },
    "id": "GfjtD2iylJQl",
    "outputId": "efe6eddd-8fae-4ad3-d8b9-c34c3444a015"
   },
   "outputs": [
    {
     "data": {
      "text/html": [
       "<div>\n",
       "<style scoped>\n",
       "    .dataframe tbody tr th:only-of-type {\n",
       "        vertical-align: middle;\n",
       "    }\n",
       "\n",
       "    .dataframe tbody tr th {\n",
       "        vertical-align: top;\n",
       "    }\n",
       "\n",
       "    .dataframe thead th {\n",
       "        text-align: right;\n",
       "    }\n",
       "</style>\n",
       "<table border=\"1\" class=\"dataframe\">\n",
       "  <thead>\n",
       "    <tr style=\"text-align: right;\">\n",
       "      <th></th>\n",
       "      <th>sqft</th>\n",
       "      <th>bdrms</th>\n",
       "      <th>age</th>\n",
       "      <th>price</th>\n",
       "    </tr>\n",
       "  </thead>\n",
       "  <tbody>\n",
       "    <tr>\n",
       "      <th>0</th>\n",
       "      <td>2104</td>\n",
       "      <td>3</td>\n",
       "      <td>70</td>\n",
       "      <td>399900</td>\n",
       "    </tr>\n",
       "    <tr>\n",
       "      <th>1</th>\n",
       "      <td>1600</td>\n",
       "      <td>3</td>\n",
       "      <td>28</td>\n",
       "      <td>329900</td>\n",
       "    </tr>\n",
       "    <tr>\n",
       "      <th>2</th>\n",
       "      <td>2400</td>\n",
       "      <td>3</td>\n",
       "      <td>44</td>\n",
       "      <td>369000</td>\n",
       "    </tr>\n",
       "    <tr>\n",
       "      <th>3</th>\n",
       "      <td>1416</td>\n",
       "      <td>2</td>\n",
       "      <td>49</td>\n",
       "      <td>232000</td>\n",
       "    </tr>\n",
       "    <tr>\n",
       "      <th>4</th>\n",
       "      <td>3000</td>\n",
       "      <td>4</td>\n",
       "      <td>75</td>\n",
       "      <td>539900</td>\n",
       "    </tr>\n",
       "  </tbody>\n",
       "</table>\n",
       "</div>"
      ],
      "text/plain": [
       "   sqft  bdrms  age   price\n",
       "0  2104      3   70  399900\n",
       "1  1600      3   28  329900\n",
       "2  2400      3   44  369000\n",
       "3  1416      2   49  232000\n",
       "4  3000      4   75  539900"
      ]
     },
     "execution_count": 26,
     "metadata": {},
     "output_type": "execute_result"
    }
   ],
   "source": [
    "# Nb. Use low_memory=False to ensure that type inference does not fail due to buffered processing of input:\n",
    "data = pd.read_csv('../../DATA/housing-data.csv', low_memory = False)\n",
    "data.head()"
   ]
  },
  {
   "cell_type": "markdown",
   "metadata": {
    "id": "3fD3CvPRlJQo"
   },
   "source": [
    "We can move data in the opposite direction -- from a DataFrame to a database -- using the `to_sql` command, similar to the `to_csv` command.\n",
    "\n",
    "`to_sql` takes as arguments:\n",
    "    - `name`, the table name to create\n",
    "    - `con`, a connection to a database\n",
    "    - `index`, whether to input the index column\n",
    "    - `schema`, if we want to write a custom schema for the new table\n",
    "    - `if_exists`, what to do if the table already exists. We can overwrite it, add to it, or fail"
   ]
  },
  {
   "cell_type": "markdown",
   "metadata": {
    "id": "Q2W5ZbrHlJQo"
   },
   "source": [
    "This copies our `data` DataFrame to a sqlite3 table called `houses_pandas`:"
   ]
  },
  {
   "cell_type": "code",
   "execution_count": 27,
   "metadata": {
    "ExecuteTime": {
     "end_time": "2019-03-21T03:01:06.485595Z",
     "start_time": "2019-03-21T03:01:06.010981Z"
    },
    "id": "BoyMHydFlJQp"
   },
   "outputs": [
    {
     "data": {
      "text/plain": [
       "47"
      ]
     },
     "execution_count": 27,
     "metadata": {},
     "output_type": "execute_result"
    }
   ],
   "source": [
    "data.to_sql('houses_pandas', con = conn, if_exists = 'replace', index = False)"
   ]
  },
  {
   "cell_type": "markdown",
   "metadata": {
    "id": "WqPJA5l_lJQr"
   },
   "source": [
    "Run a query to get the average price of each house size from this table:"
   ]
  },
  {
   "cell_type": "code",
   "execution_count": 33,
   "metadata": {
    "ExecuteTime": {
     "end_time": "2019-03-21T03:01:09.023417Z",
     "start_time": "2019-03-21T03:01:09.016436Z"
    },
    "id": "w5Uf5INrlJQr"
   },
   "outputs": [
    {
     "data": {
      "text/html": [
       "<div>\n",
       "<style scoped>\n",
       "    .dataframe tbody tr th:only-of-type {\n",
       "        vertical-align: middle;\n",
       "    }\n",
       "\n",
       "    .dataframe tbody tr th {\n",
       "        vertical-align: top;\n",
       "    }\n",
       "\n",
       "    .dataframe thead th {\n",
       "        text-align: right;\n",
       "    }\n",
       "</style>\n",
       "<table border=\"1\" class=\"dataframe\">\n",
       "  <thead>\n",
       "    <tr style=\"text-align: right;\">\n",
       "      <th></th>\n",
       "      <th>AVG(price)</th>\n",
       "      <th>bdrms</th>\n",
       "    </tr>\n",
       "  </thead>\n",
       "  <tbody>\n",
       "    <tr>\n",
       "      <th>0</th>\n",
       "      <td>169900.000000</td>\n",
       "      <td>1</td>\n",
       "    </tr>\n",
       "    <tr>\n",
       "      <th>1</th>\n",
       "      <td>280866.666667</td>\n",
       "      <td>2</td>\n",
       "    </tr>\n",
       "    <tr>\n",
       "      <th>2</th>\n",
       "      <td>326403.920000</td>\n",
       "      <td>3</td>\n",
       "    </tr>\n",
       "    <tr>\n",
       "      <th>3</th>\n",
       "      <td>377449.785714</td>\n",
       "      <td>4</td>\n",
       "    </tr>\n",
       "    <tr>\n",
       "      <th>4</th>\n",
       "      <td>699900.000000</td>\n",
       "      <td>5</td>\n",
       "    </tr>\n",
       "  </tbody>\n",
       "</table>\n",
       "</div>"
      ],
      "text/plain": [
       "      AVG(price)  bdrms\n",
       "0  169900.000000      1\n",
       "1  280866.666667      2\n",
       "2  326403.920000      3\n",
       "3  377449.785714      4\n",
       "4  699900.000000      5"
      ]
     },
     "execution_count": 33,
     "metadata": {},
     "output_type": "execute_result"
    }
   ],
   "source": [
    "#ANSWER\n",
    "query = 'SELECT AVG(price), bdrms FROM houses_pandas GROUP BY bdrms'\n",
    "pd.read_sql(query, conn)\n",
    "# or\n",
    "# c.execute(query)\n",
    "# c.fetchall()"
   ]
  },
  {
   "cell_type": "markdown",
   "metadata": {
    "id": "CJtvJ5EylJQu"
   },
   "source": [
    "## Discussion\n",
    "\n",
    "**Scenarios for using Pandas with SQLite**\n",
    "\n",
    "1. When would you want to use Pandas on a dataset before storing it in a database? For data cleaning\n",
    "\n",
    "2. When would you want to use Pandas on a dataset retrieved from a database? For data visualisation"
   ]
  },
  {
   "cell_type": "markdown",
   "metadata": {
    "id": "YZ7J3ZyUlJQu"
   },
   "source": [
    "<a name=\"guided-practice\"></a>\n",
    "\n",
    "\n",
    "# Reference: SQL Syntax \n",
    "\n",
    "\n",
    "#### SELECT Statement\n",
    "Every query should start with `SELECT`.  `SELECT` is followed by the names of the columns in the output.\n",
    "\n",
    "`SELECT` is always paired with `FROM`, and `FROM` identifies the table to retrieve data from.\n",
    "\n",
    "```sql\n",
    "SELECT\n",
    "<columns>\n",
    "FROM\n",
    "<table>\n",
    "```\n",
    "\n",
    "`SELECT *` denotes returns *all* of the columns.\n",
    "\n",
    "Housing Data example:\n",
    "```sql\n",
    "SELECT\n",
    "sqft, bdrms\n",
    "FROM houses_pandas;\n",
    "```\n",
    "\n",
    "**Check:** Write a query that returns the `sqft`, `bdrms` and `price`.\n",
    "\n",
    "```sql\n",
    "SELECT\n",
    "sqft, bdrms, price\n",
    "FROM houses_pandas;\n",
    "```\n",
    "\n",
    "#### WHERE Clause\n",
    "`WHERE` is used to filter table to a specific criteria and follows the `FROM` clause.\n",
    "\n",
    "```sql\n",
    "SELECT\n",
    "<columns>\n",
    "FROM\n",
    "<table>\n",
    "WHERE\n",
    "<condition>\n",
    "```\n",
    "Example:\n",
    "```sql\n",
    "SELECT\n",
    "sqft, bdrms, age, price\n",
    "FROM houses_pandas\n",
    "WHERE bdrms = 2 and price < 250000;\n",
    "```\n",
    "\n",
    "The condition is effectively a row filter; rows that match the condition will be included in the rowset that is returned by the query.\n",
    "\n",
    "**Check:** Write a query that returns the `sqft`, `bdrms`, `age` for houses older than 60 years.\n",
    ">```sql\n",
    "SELECT\n",
    "sqft, bdrms, age\n",
    "FROM houses_pandas\n",
    "WHERE age > 60;\n",
    "```"
   ]
  },
  {
   "cell_type": "markdown",
   "metadata": {
    "id": "u5hFKdhQlJQu"
   },
   "source": [
    "### AGGREGATIONS\n",
    "\n",
    "Aggregations (or aggregate functions) are functions where the values of multiple rows are grouped together as input on certain criteria to form a single value of more significant meaning or measurement such as a set, a bag or a list.\n",
    "\n",
    "Examples of aggregate functions:\n",
    "\n",
    "- Average (i.e., arithmetic mean)\n",
    "- Count\n",
    "- Maximum\n",
    "- Minimum\n",
    "- Median\n",
    "- Mode\n",
    "- Sum\n",
    "\n",
    "In SQL they are performed in a `SELECT` statement as follows.\n",
    "\n",
    "```sql\n",
    "SELECT COUNT(price)\n",
    "FROM houses_pandas;\n",
    "```\n",
    "\n",
    "```sql\n",
    "SELECT AVG(sqft), MIN(price), MAX(price)\n",
    "FROM houses_pandas\n",
    "WHERE bdrms = 2;\n",
    "```"
   ]
  },
  {
   "cell_type": "markdown",
   "metadata": {
    "id": "CscvF7JthEEO"
   },
   "source": [
    "### Read Order Data\n",
    "- P12-ListOfOrders\n",
    "- P12-OrderBreakdown"
   ]
  },
  {
   "cell_type": "markdown",
   "metadata": {
    "id": "DOl3mmXohEEP"
   },
   "source": [
    "#### 1. Read CSV into DataFrame"
   ]
  },
  {
   "cell_type": "code",
   "execution_count": 28,
   "metadata": {
    "ExecuteTime": {
     "end_time": "2019-03-21T03:22:39.364636Z",
     "start_time": "2019-03-21T03:22:39.360648Z"
    },
    "id": "bVugNG7HhEEP"
   },
   "outputs": [],
   "source": [
    "import pandas as pd\n",
    "import sqlite3\n",
    "from pandas.io import sql"
   ]
  },
  {
   "cell_type": "code",
   "execution_count": 29,
   "metadata": {
    "ExecuteTime": {
     "end_time": "2019-03-21T03:12:07.534283Z",
     "start_time": "2019-03-21T03:12:07.477433Z"
    },
    "id": "Q6QO2rjrhEER"
   },
   "outputs": [],
   "source": [
    "# Reading CSV to Dataframe\n",
    "orders = pd.read_csv('../../DATA/P12-ListOfOrders.csv', encoding = 'utf-8')\n",
    "orders_break_down =  pd.read_csv('../../DATA/P12-OrderBreakdown.csv', encoding = 'utf-8')"
   ]
  },
  {
   "cell_type": "code",
   "execution_count": 30,
   "metadata": {},
   "outputs": [
    {
     "data": {
      "text/plain": [
       "(8047, 6)"
      ]
     },
     "execution_count": 30,
     "metadata": {},
     "output_type": "execute_result"
    }
   ],
   "source": [
    "orders_break_down.shape"
   ]
  },
  {
   "cell_type": "code",
   "execution_count": 31,
   "metadata": {
    "ExecuteTime": {
     "end_time": "2019-03-21T03:12:26.465643Z",
     "start_time": "2019-03-21T03:12:26.437719Z"
    },
    "id": "ap_uuKx6hEET",
    "outputId": "5454cc0b-5b6d-4afc-9f7e-a0d2e20aedf2"
   },
   "outputs": [
    {
     "data": {
      "text/html": [
       "<div>\n",
       "<style scoped>\n",
       "    .dataframe tbody tr th:only-of-type {\n",
       "        vertical-align: middle;\n",
       "    }\n",
       "\n",
       "    .dataframe tbody tr th {\n",
       "        vertical-align: top;\n",
       "    }\n",
       "\n",
       "    .dataframe thead th {\n",
       "        text-align: right;\n",
       "    }\n",
       "</style>\n",
       "<table border=\"1\" class=\"dataframe\">\n",
       "  <thead>\n",
       "    <tr style=\"text-align: right;\">\n",
       "      <th></th>\n",
       "      <th>Order ID</th>\n",
       "      <th>Order Date</th>\n",
       "      <th>Customer Name</th>\n",
       "      <th>Country</th>\n",
       "    </tr>\n",
       "  </thead>\n",
       "  <tbody>\n",
       "    <tr>\n",
       "      <th>0</th>\n",
       "      <td>IT-2011-3647632</td>\n",
       "      <td>2011-01-01</td>\n",
       "      <td>Eugene Moren</td>\n",
       "      <td>Sweden</td>\n",
       "    </tr>\n",
       "    <tr>\n",
       "      <th>1</th>\n",
       "      <td>ES-2011-4869686</td>\n",
       "      <td>2011-01-03</td>\n",
       "      <td>Dorothy Dickinson</td>\n",
       "      <td>United Kingdom</td>\n",
       "    </tr>\n",
       "    <tr>\n",
       "      <th>2</th>\n",
       "      <td>ES-2011-4939443</td>\n",
       "      <td>2011-01-04</td>\n",
       "      <td>Arthur Prichep</td>\n",
       "      <td>France</td>\n",
       "    </tr>\n",
       "    <tr>\n",
       "      <th>3</th>\n",
       "      <td>IT-2011-2942451</td>\n",
       "      <td>2011-01-04</td>\n",
       "      <td>Grant Thornton</td>\n",
       "      <td>United Kingdom</td>\n",
       "    </tr>\n",
       "    <tr>\n",
       "      <th>4</th>\n",
       "      <td>ES-2011-3848439</td>\n",
       "      <td>2011-01-05</td>\n",
       "      <td>Michael Granlund</td>\n",
       "      <td>France</td>\n",
       "    </tr>\n",
       "  </tbody>\n",
       "</table>\n",
       "</div>"
      ],
      "text/plain": [
       "          Order ID  Order Date      Customer Name         Country\n",
       "0  IT-2011-3647632  2011-01-01       Eugene Moren          Sweden\n",
       "1  ES-2011-4869686  2011-01-03  Dorothy Dickinson  United Kingdom\n",
       "2  ES-2011-4939443  2011-01-04     Arthur Prichep          France\n",
       "3  IT-2011-2942451  2011-01-04     Grant Thornton  United Kingdom\n",
       "4  ES-2011-3848439  2011-01-05   Michael Granlund          France"
      ]
     },
     "execution_count": 31,
     "metadata": {},
     "output_type": "execute_result"
    }
   ],
   "source": [
    "orders.head()"
   ]
  },
  {
   "cell_type": "code",
   "execution_count": 32,
   "metadata": {
    "ExecuteTime": {
     "end_time": "2019-03-21T03:13:14.105960Z",
     "start_time": "2019-03-21T03:13:14.090003Z"
    },
    "id": "m88fsu3ChEEW",
    "outputId": "cda0ef93-c898-4a46-83a9-8abd8bacc7b8"
   },
   "outputs": [
    {
     "data": {
      "text/html": [
       "<div>\n",
       "<style scoped>\n",
       "    .dataframe tbody tr th:only-of-type {\n",
       "        vertical-align: middle;\n",
       "    }\n",
       "\n",
       "    .dataframe tbody tr th {\n",
       "        vertical-align: top;\n",
       "    }\n",
       "\n",
       "    .dataframe thead th {\n",
       "        text-align: right;\n",
       "    }\n",
       "</style>\n",
       "<table border=\"1\" class=\"dataframe\">\n",
       "  <thead>\n",
       "    <tr style=\"text-align: right;\">\n",
       "      <th></th>\n",
       "      <th>Order ID</th>\n",
       "      <th>Product Name</th>\n",
       "      <th>Discount</th>\n",
       "      <th>Sales</th>\n",
       "      <th>Quantity</th>\n",
       "      <th>Category</th>\n",
       "    </tr>\n",
       "  </thead>\n",
       "  <tbody>\n",
       "    <tr>\n",
       "      <th>0</th>\n",
       "      <td>IT-2011-3647632</td>\n",
       "      <td>Enermax Note Cards, Premium</td>\n",
       "      <td>0.5</td>\n",
       "      <td>45.0</td>\n",
       "      <td>3</td>\n",
       "      <td>Office Supplies</td>\n",
       "    </tr>\n",
       "    <tr>\n",
       "      <th>1</th>\n",
       "      <td>ES-2011-4869686</td>\n",
       "      <td>Dania Corner Shelving, Traditional</td>\n",
       "      <td>0.0</td>\n",
       "      <td>854.0</td>\n",
       "      <td>7</td>\n",
       "      <td>Furniture</td>\n",
       "    </tr>\n",
       "    <tr>\n",
       "      <th>2</th>\n",
       "      <td>ES-2011-4939443</td>\n",
       "      <td>Binney &amp; Smith Sketch Pad, Easy-Erase</td>\n",
       "      <td>0.0</td>\n",
       "      <td>140.0</td>\n",
       "      <td>3</td>\n",
       "      <td>Office Supplies</td>\n",
       "    </tr>\n",
       "    <tr>\n",
       "      <th>3</th>\n",
       "      <td>IT-2011-2942451</td>\n",
       "      <td>Boston Markers, Easy-Erase</td>\n",
       "      <td>0.5</td>\n",
       "      <td>27.0</td>\n",
       "      <td>2</td>\n",
       "      <td>Office Supplies</td>\n",
       "    </tr>\n",
       "    <tr>\n",
       "      <th>4</th>\n",
       "      <td>IT-2011-2942451</td>\n",
       "      <td>Eldon Folders, Single Width</td>\n",
       "      <td>0.5</td>\n",
       "      <td>17.0</td>\n",
       "      <td>2</td>\n",
       "      <td>Office Supplies</td>\n",
       "    </tr>\n",
       "  </tbody>\n",
       "</table>\n",
       "</div>"
      ],
      "text/plain": [
       "          Order ID                           Product Name  Discount  Sales  \\\n",
       "0  IT-2011-3647632            Enermax Note Cards, Premium       0.5   45.0   \n",
       "1  ES-2011-4869686     Dania Corner Shelving, Traditional       0.0  854.0   \n",
       "2  ES-2011-4939443  Binney & Smith Sketch Pad, Easy-Erase       0.0  140.0   \n",
       "3  IT-2011-2942451             Boston Markers, Easy-Erase       0.5   27.0   \n",
       "4  IT-2011-2942451            Eldon Folders, Single Width       0.5   17.0   \n",
       "\n",
       "   Quantity         Category  \n",
       "0         3  Office Supplies  \n",
       "1         7        Furniture  \n",
       "2         3  Office Supplies  \n",
       "3         2  Office Supplies  \n",
       "4         2  Office Supplies  "
      ]
     },
     "execution_count": 32,
     "metadata": {},
     "output_type": "execute_result"
    }
   ],
   "source": [
    "orders_break_down.head()"
   ]
  },
  {
   "cell_type": "markdown",
   "metadata": {
    "id": "lB9YvqpKhEEY"
   },
   "source": [
    "#### 2. Replace Space with Underscore in Column Names"
   ]
  },
  {
   "cell_type": "code",
   "execution_count": 33,
   "metadata": {
    "ExecuteTime": {
     "end_time": "2019-03-21T03:18:03.275638Z",
     "start_time": "2019-03-21T03:18:03.269624Z"
    },
    "id": "ICMk2oRAhEEZ"
   },
   "outputs": [],
   "source": [
    "# ANSWER\n",
    "orders.columns = [o.replace(' ', '_') for o in orders.columns.str.lower()]"
   ]
  },
  {
   "cell_type": "code",
   "execution_count": 34,
   "metadata": {
    "ExecuteTime": {
     "end_time": "2019-03-21T03:18:32.931223Z",
     "start_time": "2019-03-21T03:18:32.925208Z"
    },
    "id": "PZQ0WBbLhEEc"
   },
   "outputs": [],
   "source": [
    "# ANSWER\n",
    "orders_break_down.columns = [o.replace(' ', '_') for o in orders_break_down.columns.str.lower()]"
   ]
  },
  {
   "cell_type": "markdown",
   "metadata": {
    "id": "u11trn6HhEEg"
   },
   "source": [
    "#### 3. Check DataTypes "
   ]
  },
  {
   "cell_type": "code",
   "execution_count": 35,
   "metadata": {
    "ExecuteTime": {
     "end_time": "2019-03-21T03:20:00.147608Z",
     "start_time": "2019-03-21T03:20:00.140627Z"
    },
    "id": "1XvSDzIqhEEh",
    "outputId": "3970ec4b-52e8-4075-a450-7ac2d1cf62a5"
   },
   "outputs": [
    {
     "data": {
      "text/plain": [
       "order_id         object\n",
       "order_date       object\n",
       "customer_name    object\n",
       "country          object\n",
       "dtype: object"
      ]
     },
     "execution_count": 35,
     "metadata": {},
     "output_type": "execute_result"
    }
   ],
   "source": [
    "# ANSWER\n",
    "orders.dtypes"
   ]
  },
  {
   "cell_type": "code",
   "execution_count": 36,
   "metadata": {
    "ExecuteTime": {
     "end_time": "2019-03-21T03:20:17.053453Z",
     "start_time": "2019-03-21T03:20:17.041477Z"
    },
    "id": "nqNNnTiUhEEj",
    "outputId": "5afac8cc-78e5-4f57-9d96-6d5aa4d122b4"
   },
   "outputs": [
    {
     "data": {
      "text/plain": [
       "order_id         object\n",
       "product_name     object\n",
       "discount        float64\n",
       "sales           float64\n",
       "quantity          int64\n",
       "category         object\n",
       "dtype: object"
      ]
     },
     "execution_count": 36,
     "metadata": {},
     "output_type": "execute_result"
    }
   ],
   "source": [
    "# ANSWER\n",
    "orders_break_down.dtypes"
   ]
  },
  {
   "cell_type": "markdown",
   "metadata": {
    "id": "wmw7wdLxhEEn"
   },
   "source": [
    "#### 4. Save these two dataframes as a table in sqlite"
   ]
  },
  {
   "cell_type": "code",
   "execution_count": 37,
   "metadata": {
    "ExecuteTime": {
     "end_time": "2019-03-21T03:23:22.310290Z",
     "start_time": "2019-03-21T03:23:22.212386Z"
    },
    "id": "IeFCwG7hhEEo"
   },
   "outputs": [
    {
     "data": {
      "text/plain": [
       "8047"
      ]
     },
     "execution_count": 37,
     "metadata": {},
     "output_type": "execute_result"
    }
   ],
   "source": [
    "# Establishing Local DB connection\n",
    "db_connection = sqlite3.connect('../../DATA/eshop.db.sqlite')\n",
    "\n",
    "# Save these two dataframes as a table in sqlite\n",
    "orders.to_sql('orders', con = db_connection, if_exists = 'replace', index = False)\n",
    "orders_break_down.to_sql('orders_break_down', con = db_connection, if_exists = 'replace', index = False)"
   ]
  },
  {
   "cell_type": "code",
   "execution_count": 39,
   "metadata": {},
   "outputs": [
    {
     "data": {
      "text/plain": [
       "[('IT-2011-3647632', '2011-01-01', 'Eugene Moren', 'Sweden'),\n",
       " ('ES-2011-4869686', '2011-01-03', 'Dorothy Dickinson', 'United Kingdom'),\n",
       " ('ES-2011-4939443', '2011-01-04', 'Arthur Prichep', 'France'),\n",
       " ('IT-2011-2942451', '2011-01-04', 'Grant Thornton', 'United Kingdom'),\n",
       " ('ES-2011-3848439', '2011-01-05', 'Michael Granlund', 'France')]"
      ]
     },
     "execution_count": 39,
     "metadata": {},
     "output_type": "execute_result"
    }
   ],
   "source": [
    "db_connection.execute(\"SELECT * FROM orders;\").fetchall()[:5]"
   ]
  },
  {
   "cell_type": "code",
   "execution_count": 41,
   "metadata": {},
   "outputs": [
    {
     "data": {
      "text/plain": [
       "[('IT-2011-3647632', '2011-01-01', 'Eugene Moren', 'Sweden'),\n",
       " ('ES-2011-4869686', '2011-01-03', 'Dorothy Dickinson', 'United Kingdom'),\n",
       " ('ES-2011-4939443', '2011-01-04', 'Arthur Prichep', 'France'),\n",
       " ('IT-2011-2942451', '2011-01-04', 'Grant Thornton', 'United Kingdom'),\n",
       " ('ES-2011-3848439', '2011-01-05', 'Michael Granlund', 'France')]"
      ]
     },
     "execution_count": 41,
     "metadata": {},
     "output_type": "execute_result"
    }
   ],
   "source": [
    "# equals to\n",
    "c = db_connection.cursor()\n",
    "c.execute(\"SELECT * FROM orders;\").fetchall()[:5]"
   ]
  },
  {
   "cell_type": "markdown",
   "metadata": {
    "id": "5UoZC5cOhEEr"
   },
   "source": [
    "#### 5. Select Number of Orders for Each Customer"
   ]
  },
  {
   "cell_type": "markdown",
   "metadata": {
    "id": "vs59fH_4jw1d"
   },
   "source": [
    "We can use the `sql` function in `pandas.io` to run SQL queries to the database with the `.read_sql()` method. Here's an example:"
   ]
  },
  {
   "cell_type": "code",
   "execution_count": 59,
   "metadata": {
    "id": "ofIXqXaljw1d"
   },
   "outputs": [
    {
     "data": {
      "text/html": [
       "<div>\n",
       "<style scoped>\n",
       "    .dataframe tbody tr th:only-of-type {\n",
       "        vertical-align: middle;\n",
       "    }\n",
       "\n",
       "    .dataframe tbody tr th {\n",
       "        vertical-align: top;\n",
       "    }\n",
       "\n",
       "    .dataframe thead th {\n",
       "        text-align: right;\n",
       "    }\n",
       "</style>\n",
       "<table border=\"1\" class=\"dataframe\">\n",
       "  <thead>\n",
       "    <tr style=\"text-align: right;\">\n",
       "      <th></th>\n",
       "      <th>order_id</th>\n",
       "      <th>order_date</th>\n",
       "      <th>customer_name</th>\n",
       "      <th>country</th>\n",
       "    </tr>\n",
       "  </thead>\n",
       "  <tbody>\n",
       "    <tr>\n",
       "      <th>0</th>\n",
       "      <td>IT-2011-3647632</td>\n",
       "      <td>2011-01-01</td>\n",
       "      <td>Eugene Moren</td>\n",
       "      <td>Sweden</td>\n",
       "    </tr>\n",
       "    <tr>\n",
       "      <th>1</th>\n",
       "      <td>ES-2011-4869686</td>\n",
       "      <td>2011-01-03</td>\n",
       "      <td>Dorothy Dickinson</td>\n",
       "      <td>United Kingdom</td>\n",
       "    </tr>\n",
       "    <tr>\n",
       "      <th>2</th>\n",
       "      <td>ES-2011-4939443</td>\n",
       "      <td>2011-01-04</td>\n",
       "      <td>Arthur Prichep</td>\n",
       "      <td>France</td>\n",
       "    </tr>\n",
       "    <tr>\n",
       "      <th>3</th>\n",
       "      <td>IT-2011-2942451</td>\n",
       "      <td>2011-01-04</td>\n",
       "      <td>Grant Thornton</td>\n",
       "      <td>United Kingdom</td>\n",
       "    </tr>\n",
       "    <tr>\n",
       "      <th>4</th>\n",
       "      <td>ES-2011-3848439</td>\n",
       "      <td>2011-01-05</td>\n",
       "      <td>Michael Granlund</td>\n",
       "      <td>France</td>\n",
       "    </tr>\n",
       "    <tr>\n",
       "      <th>5</th>\n",
       "      <td>ES-2011-5433855</td>\n",
       "      <td>2011-01-07</td>\n",
       "      <td>Dave Poirier</td>\n",
       "      <td>France</td>\n",
       "    </tr>\n",
       "    <tr>\n",
       "      <th>6</th>\n",
       "      <td>IT-2011-4546695</td>\n",
       "      <td>2011-01-08</td>\n",
       "      <td>Darren Powers</td>\n",
       "      <td>France</td>\n",
       "    </tr>\n",
       "    <tr>\n",
       "      <th>7</th>\n",
       "      <td>ES-2011-1138719</td>\n",
       "      <td>2011-01-11</td>\n",
       "      <td>Eric Murdock</td>\n",
       "      <td>Italy</td>\n",
       "    </tr>\n",
       "    <tr>\n",
       "      <th>8</th>\n",
       "      <td>ES-2011-1466305</td>\n",
       "      <td>2011-01-11</td>\n",
       "      <td>Mick Brown</td>\n",
       "      <td>Austria</td>\n",
       "    </tr>\n",
       "    <tr>\n",
       "      <th>9</th>\n",
       "      <td>ES-2011-4359424</td>\n",
       "      <td>2011-01-11</td>\n",
       "      <td>Dorothy Dickinson</td>\n",
       "      <td>Spain</td>\n",
       "    </tr>\n",
       "  </tbody>\n",
       "</table>\n",
       "</div>"
      ],
      "text/plain": [
       "          order_id  order_date      customer_name         country\n",
       "0  IT-2011-3647632  2011-01-01       Eugene Moren          Sweden\n",
       "1  ES-2011-4869686  2011-01-03  Dorothy Dickinson  United Kingdom\n",
       "2  ES-2011-4939443  2011-01-04     Arthur Prichep          France\n",
       "3  IT-2011-2942451  2011-01-04     Grant Thornton  United Kingdom\n",
       "4  ES-2011-3848439  2011-01-05   Michael Granlund          France\n",
       "5  ES-2011-5433855  2011-01-07       Dave Poirier          France\n",
       "6  IT-2011-4546695  2011-01-08      Darren Powers          France\n",
       "7  ES-2011-1138719  2011-01-11       Eric Murdock           Italy\n",
       "8  ES-2011-1466305  2011-01-11         Mick Brown         Austria\n",
       "9  ES-2011-4359424  2011-01-11  Dorothy Dickinson           Spain"
      ]
     },
     "execution_count": 59,
     "metadata": {},
     "output_type": "execute_result"
    }
   ],
   "source": [
    "# Select first 10 rows of all columns in orders table\n",
    "\n",
    "query = \"\"\"\n",
    "        SELECT * \n",
    "        FROM orders \n",
    "        LIMIT 10;\n",
    "        \"\"\"\n",
    "\n",
    "orders_head_10 = sql.read_sql(query, con=db_connection)\n",
    "orders_head_10"
   ]
  },
  {
   "cell_type": "code",
   "execution_count": 79,
   "metadata": {
    "ExecuteTime": {
     "end_time": "2019-03-21T03:31:48.381069Z",
     "start_time": "2019-03-21T03:31:48.359128Z"
    },
    "id": "aIqdAoTnhEEr"
   },
   "outputs": [
    {
     "data": {
      "text/html": [
       "<div>\n",
       "<style scoped>\n",
       "    .dataframe tbody tr th:only-of-type {\n",
       "        vertical-align: middle;\n",
       "    }\n",
       "\n",
       "    .dataframe tbody tr th {\n",
       "        vertical-align: top;\n",
       "    }\n",
       "\n",
       "    .dataframe thead th {\n",
       "        text-align: right;\n",
       "    }\n",
       "</style>\n",
       "<table border=\"1\" class=\"dataframe\">\n",
       "  <thead>\n",
       "    <tr style=\"text-align: right;\">\n",
       "      <th></th>\n",
       "      <th>order_count</th>\n",
       "      <th>customer_name</th>\n",
       "    </tr>\n",
       "  </thead>\n",
       "  <tbody>\n",
       "    <tr>\n",
       "      <th>0</th>\n",
       "      <td>13</td>\n",
       "      <td>John Grady</td>\n",
       "    </tr>\n",
       "    <tr>\n",
       "      <th>1</th>\n",
       "      <td>12</td>\n",
       "      <td>Joel Jenkins</td>\n",
       "    </tr>\n",
       "    <tr>\n",
       "      <th>2</th>\n",
       "      <td>12</td>\n",
       "      <td>Aaron Smayling</td>\n",
       "    </tr>\n",
       "    <tr>\n",
       "      <th>3</th>\n",
       "      <td>11</td>\n",
       "      <td>Yoseph Carroll</td>\n",
       "    </tr>\n",
       "    <tr>\n",
       "      <th>4</th>\n",
       "      <td>11</td>\n",
       "      <td>Sarah Brown</td>\n",
       "    </tr>\n",
       "  </tbody>\n",
       "</table>\n",
       "</div>"
      ],
      "text/plain": [
       "   order_count   customer_name\n",
       "0           13      John Grady\n",
       "1           12    Joel Jenkins\n",
       "2           12  Aaron Smayling\n",
       "3           11  Yoseph Carroll\n",
       "4           11     Sarah Brown"
      ]
     },
     "execution_count": 79,
     "metadata": {},
     "output_type": "execute_result"
    }
   ],
   "source": [
    "# Select Number of Distinct Orders for Each Customer\n",
    "\n",
    "query = \"\"\"\n",
    "        SELECT COUNT (DISTINCT order_id) AS order_count, customer_name\n",
    "        FROM orders\n",
    "        GROUP BY customer_name\n",
    "        ORDER BY order_count DESC;\n",
    "        \"\"\"\n",
    "\n",
    "distinct_orders = sql.read_sql(query, con=db_connection)\n",
    "distinct_orders.head()"
   ]
  },
  {
   "cell_type": "markdown",
   "metadata": {
    "id": "GE91fL7thEE2"
   },
   "source": [
    "#### 6. Select Number of Customers for Each Country"
   ]
  },
  {
   "cell_type": "code",
   "execution_count": 78,
   "metadata": {
    "ExecuteTime": {
     "end_time": "2019-03-21T03:34:57.019169Z",
     "start_time": "2019-03-21T03:34:57.000244Z"
    },
    "id": "ZIfcGHCJhEE2"
   },
   "outputs": [
    {
     "data": {
      "text/html": [
       "<div>\n",
       "<style scoped>\n",
       "    .dataframe tbody tr th:only-of-type {\n",
       "        vertical-align: middle;\n",
       "    }\n",
       "\n",
       "    .dataframe tbody tr th {\n",
       "        vertical-align: top;\n",
       "    }\n",
       "\n",
       "    .dataframe thead th {\n",
       "        text-align: right;\n",
       "    }\n",
       "</style>\n",
       "<table border=\"1\" class=\"dataframe\">\n",
       "  <thead>\n",
       "    <tr style=\"text-align: right;\">\n",
       "      <th></th>\n",
       "      <th>customer_count</th>\n",
       "      <th>country</th>\n",
       "    </tr>\n",
       "  </thead>\n",
       "  <tbody>\n",
       "    <tr>\n",
       "      <th>0</th>\n",
       "      <td>991</td>\n",
       "      <td>France</td>\n",
       "    </tr>\n",
       "    <tr>\n",
       "      <th>1</th>\n",
       "      <td>806</td>\n",
       "      <td>Germany</td>\n",
       "    </tr>\n",
       "    <tr>\n",
       "      <th>2</th>\n",
       "      <td>700</td>\n",
       "      <td>United Kingdom</td>\n",
       "    </tr>\n",
       "    <tr>\n",
       "      <th>3</th>\n",
       "      <td>493</td>\n",
       "      <td>Italy</td>\n",
       "    </tr>\n",
       "    <tr>\n",
       "      <th>4</th>\n",
       "      <td>403</td>\n",
       "      <td>Spain</td>\n",
       "    </tr>\n",
       "  </tbody>\n",
       "</table>\n",
       "</div>"
      ],
      "text/plain": [
       "   customer_count         country\n",
       "0             991          France\n",
       "1             806         Germany\n",
       "2             700  United Kingdom\n",
       "3             493           Italy\n",
       "4             403           Spain"
      ]
     },
     "execution_count": 78,
     "metadata": {},
     "output_type": "execute_result"
    }
   ],
   "source": [
    "# Select Number of Customers for Each Country\n",
    "sql.read_sql(\"\"\"SELECT COUNT(customer_name) AS customer_count, country\n",
    "                FROM orders\n",
    "                GROUP BY country\n",
    "                ORDER BY customer_count DESC\n",
    "                LIMIT 5\n",
    "                ;\"\"\",\n",
    "            db_connection)"
   ]
  },
  {
   "cell_type": "markdown",
   "metadata": {
    "id": "fIBpY4KjhEE5"
   },
   "source": [
    "#### 7.A Select discount, sales, quantity for Each Order from orders_break_down Table"
   ]
  },
  {
   "cell_type": "code",
   "execution_count": 74,
   "metadata": {
    "ExecuteTime": {
     "end_time": "2019-03-21T03:37:54.802697Z",
     "start_time": "2019-03-21T03:37:54.774773Z"
    },
    "id": "L_HKwM5BhEE6"
   },
   "outputs": [
    {
     "data": {
      "text/html": [
       "<div>\n",
       "<style scoped>\n",
       "    .dataframe tbody tr th:only-of-type {\n",
       "        vertical-align: middle;\n",
       "    }\n",
       "\n",
       "    .dataframe tbody tr th {\n",
       "        vertical-align: top;\n",
       "    }\n",
       "\n",
       "    .dataframe thead th {\n",
       "        text-align: right;\n",
       "    }\n",
       "</style>\n",
       "<table border=\"1\" class=\"dataframe\">\n",
       "  <thead>\n",
       "    <tr style=\"text-align: right;\">\n",
       "      <th></th>\n",
       "      <th>order_id</th>\n",
       "      <th>discount</th>\n",
       "      <th>sales</th>\n",
       "      <th>quantity</th>\n",
       "    </tr>\n",
       "  </thead>\n",
       "  <tbody>\n",
       "    <tr>\n",
       "      <th>0</th>\n",
       "      <td>IT-2011-3647632</td>\n",
       "      <td>0.5</td>\n",
       "      <td>45.0</td>\n",
       "      <td>3</td>\n",
       "    </tr>\n",
       "    <tr>\n",
       "      <th>1</th>\n",
       "      <td>ES-2011-4869686</td>\n",
       "      <td>0.0</td>\n",
       "      <td>854.0</td>\n",
       "      <td>7</td>\n",
       "    </tr>\n",
       "    <tr>\n",
       "      <th>2</th>\n",
       "      <td>ES-2011-4939443</td>\n",
       "      <td>0.0</td>\n",
       "      <td>140.0</td>\n",
       "      <td>3</td>\n",
       "    </tr>\n",
       "    <tr>\n",
       "      <th>3</th>\n",
       "      <td>IT-2011-2942451</td>\n",
       "      <td>0.5</td>\n",
       "      <td>27.0</td>\n",
       "      <td>2</td>\n",
       "    </tr>\n",
       "    <tr>\n",
       "      <th>4</th>\n",
       "      <td>IT-2011-2942451</td>\n",
       "      <td>0.5</td>\n",
       "      <td>17.0</td>\n",
       "      <td>2</td>\n",
       "    </tr>\n",
       "  </tbody>\n",
       "</table>\n",
       "</div>"
      ],
      "text/plain": [
       "          order_id  discount  sales  quantity\n",
       "0  IT-2011-3647632       0.5   45.0         3\n",
       "1  ES-2011-4869686       0.0  854.0         7\n",
       "2  ES-2011-4939443       0.0  140.0         3\n",
       "3  IT-2011-2942451       0.5   27.0         2\n",
       "4  IT-2011-2942451       0.5   17.0         2"
      ]
     },
     "execution_count": 74,
     "metadata": {},
     "output_type": "execute_result"
    }
   ],
   "source": [
    "#  Select discount, sales, quantity for Each Order from orders_break_down Table\n",
    "sql.read_sql(\"\"\"SELECT order_id, discount, sales, quantity\n",
    "                FROM orders_break_down\n",
    "                LIMIT 5\n",
    "                ;\"\"\",\n",
    "            db_connection)"
   ]
  },
  {
   "cell_type": "markdown",
   "metadata": {
    "id": "-R-ObbBfhEE_"
   },
   "source": [
    "#### 7.B Select discount, sales, quantity, total price for Each Order from orders_break_down Table\n",
    "\n",
    "> Total Price = sales * quantity - discount"
   ]
  },
  {
   "cell_type": "code",
   "execution_count": 73,
   "metadata": {
    "ExecuteTime": {
     "end_time": "2019-03-21T03:39:34.392179Z",
     "start_time": "2019-03-21T03:39:34.349294Z"
    },
    "id": "J9KbOXChhEE_"
   },
   "outputs": [
    {
     "data": {
      "text/html": [
       "<div>\n",
       "<style scoped>\n",
       "    .dataframe tbody tr th:only-of-type {\n",
       "        vertical-align: middle;\n",
       "    }\n",
       "\n",
       "    .dataframe tbody tr th {\n",
       "        vertical-align: top;\n",
       "    }\n",
       "\n",
       "    .dataframe thead th {\n",
       "        text-align: right;\n",
       "    }\n",
       "</style>\n",
       "<table border=\"1\" class=\"dataframe\">\n",
       "  <thead>\n",
       "    <tr style=\"text-align: right;\">\n",
       "      <th></th>\n",
       "      <th>order_id</th>\n",
       "      <th>discount</th>\n",
       "      <th>sales</th>\n",
       "      <th>quantity</th>\n",
       "      <th>total_price</th>\n",
       "    </tr>\n",
       "  </thead>\n",
       "  <tbody>\n",
       "    <tr>\n",
       "      <th>0</th>\n",
       "      <td>ES-2014-3785216</td>\n",
       "      <td>0.1</td>\n",
       "      <td>5729.0</td>\n",
       "      <td>14</td>\n",
       "      <td>80205.9</td>\n",
       "    </tr>\n",
       "    <tr>\n",
       "      <th>1</th>\n",
       "      <td>ES-2011-3248922</td>\n",
       "      <td>0.0</td>\n",
       "      <td>6517.0</td>\n",
       "      <td>12</td>\n",
       "      <td>78204.0</td>\n",
       "    </tr>\n",
       "    <tr>\n",
       "      <th>2</th>\n",
       "      <td>ES-2012-2183106</td>\n",
       "      <td>0.1</td>\n",
       "      <td>4748.0</td>\n",
       "      <td>14</td>\n",
       "      <td>66471.9</td>\n",
       "    </tr>\n",
       "    <tr>\n",
       "      <th>3</th>\n",
       "      <td>IT-2013-4602742</td>\n",
       "      <td>0.1</td>\n",
       "      <td>5726.0</td>\n",
       "      <td>10</td>\n",
       "      <td>57259.9</td>\n",
       "    </tr>\n",
       "    <tr>\n",
       "      <th>4</th>\n",
       "      <td>ES-2014-2637201</td>\n",
       "      <td>0.0</td>\n",
       "      <td>4141.0</td>\n",
       "      <td>13</td>\n",
       "      <td>53833.0</td>\n",
       "    </tr>\n",
       "  </tbody>\n",
       "</table>\n",
       "</div>"
      ],
      "text/plain": [
       "          order_id  discount   sales  quantity  total_price\n",
       "0  ES-2014-3785216       0.1  5729.0        14      80205.9\n",
       "1  ES-2011-3248922       0.0  6517.0        12      78204.0\n",
       "2  ES-2012-2183106       0.1  4748.0        14      66471.9\n",
       "3  IT-2013-4602742       0.1  5726.0        10      57259.9\n",
       "4  ES-2014-2637201       0.0  4141.0        13      53833.0"
      ]
     },
     "execution_count": 73,
     "metadata": {},
     "output_type": "execute_result"
    }
   ],
   "source": [
    "# Select discount, sales, quantity, total price for Each Order Id from orders_break_down Table\n",
    "sql.read_sql(\"\"\"SELECT order_id, discount, sales, quantity, (sales * quantity - discount) AS total_price\n",
    "                FROM orders_break_down\n",
    "                ORDER BY total_price DESC\n",
    "                LIMIT 5\n",
    "                ;\"\"\",\n",
    "            db_connection)"
   ]
  },
  {
   "cell_type": "markdown",
   "metadata": {
    "ExecuteTime": {
     "end_time": "2019-03-21T03:42:08.012935Z",
     "start_time": "2019-03-21T03:42:08.008947Z"
    },
    "id": "2hM2p7HChEFB"
   },
   "source": [
    "#### 7.C Select All Orders from orders_break_down Table Where Total Price Greater Than 100"
   ]
  },
  {
   "cell_type": "code",
   "execution_count": 72,
   "metadata": {
    "ExecuteTime": {
     "end_time": "2019-03-21T03:42:42.744917Z",
     "start_time": "2019-03-21T03:42:42.709011Z"
    },
    "id": "8aj0ZZrthEFC"
   },
   "outputs": [
    {
     "data": {
      "text/html": [
       "<div>\n",
       "<style scoped>\n",
       "    .dataframe tbody tr th:only-of-type {\n",
       "        vertical-align: middle;\n",
       "    }\n",
       "\n",
       "    .dataframe tbody tr th {\n",
       "        vertical-align: top;\n",
       "    }\n",
       "\n",
       "    .dataframe thead th {\n",
       "        text-align: right;\n",
       "    }\n",
       "</style>\n",
       "<table border=\"1\" class=\"dataframe\">\n",
       "  <thead>\n",
       "    <tr style=\"text-align: right;\">\n",
       "      <th></th>\n",
       "      <th>order_id</th>\n",
       "      <th>product_name</th>\n",
       "      <th>discount</th>\n",
       "      <th>sales</th>\n",
       "      <th>quantity</th>\n",
       "      <th>category</th>\n",
       "      <th>total_price</th>\n",
       "    </tr>\n",
       "  </thead>\n",
       "  <tbody>\n",
       "    <tr>\n",
       "      <th>0</th>\n",
       "      <td>IT-2011-2668777</td>\n",
       "      <td>Binney &amp; Smith Canvas, Blue</td>\n",
       "      <td>0.5</td>\n",
       "      <td>51.0</td>\n",
       "      <td>2</td>\n",
       "      <td>Office Supplies</td>\n",
       "      <td>101.5</td>\n",
       "    </tr>\n",
       "    <tr>\n",
       "      <th>1</th>\n",
       "      <td>IT-2011-1165265</td>\n",
       "      <td>Cardinal Binding Machine, Durable</td>\n",
       "      <td>0.5</td>\n",
       "      <td>51.0</td>\n",
       "      <td>2</td>\n",
       "      <td>Office Supplies</td>\n",
       "      <td>101.5</td>\n",
       "    </tr>\n",
       "    <tr>\n",
       "      <th>2</th>\n",
       "      <td>ES-2012-1763830</td>\n",
       "      <td>Elite Scissors, High Speed</td>\n",
       "      <td>0.5</td>\n",
       "      <td>34.0</td>\n",
       "      <td>3</td>\n",
       "      <td>Office Supplies</td>\n",
       "      <td>101.5</td>\n",
       "    </tr>\n",
       "    <tr>\n",
       "      <th>3</th>\n",
       "      <td>IT-2012-4099397</td>\n",
       "      <td>Sanford Canvas, Blue</td>\n",
       "      <td>0.5</td>\n",
       "      <td>51.0</td>\n",
       "      <td>2</td>\n",
       "      <td>Office Supplies</td>\n",
       "      <td>101.5</td>\n",
       "    </tr>\n",
       "    <tr>\n",
       "      <th>4</th>\n",
       "      <td>ES-2013-4250046</td>\n",
       "      <td>Cardinal Binding Machine, Durable</td>\n",
       "      <td>0.5</td>\n",
       "      <td>51.0</td>\n",
       "      <td>2</td>\n",
       "      <td>Office Supplies</td>\n",
       "      <td>101.5</td>\n",
       "    </tr>\n",
       "  </tbody>\n",
       "</table>\n",
       "</div>"
      ],
      "text/plain": [
       "          order_id                       product_name  discount  sales  \\\n",
       "0  IT-2011-2668777        Binney & Smith Canvas, Blue       0.5   51.0   \n",
       "1  IT-2011-1165265  Cardinal Binding Machine, Durable       0.5   51.0   \n",
       "2  ES-2012-1763830         Elite Scissors, High Speed       0.5   34.0   \n",
       "3  IT-2012-4099397               Sanford Canvas, Blue       0.5   51.0   \n",
       "4  ES-2013-4250046  Cardinal Binding Machine, Durable       0.5   51.0   \n",
       "\n",
       "   quantity         category  total_price  \n",
       "0         2  Office Supplies        101.5  \n",
       "1         2  Office Supplies        101.5  \n",
       "2         3  Office Supplies        101.5  \n",
       "3         2  Office Supplies        101.5  \n",
       "4         2  Office Supplies        101.5  "
      ]
     },
     "execution_count": 72,
     "metadata": {},
     "output_type": "execute_result"
    }
   ],
   "source": [
    "# Select All Orders from orders_break_down Table Where Total Price Greater Than 100\n",
    "sql.read_sql(\"\"\"SELECT *, (sales * quantity - discount) AS total_price\n",
    "                FROM orders_break_down\n",
    "                WHERE total_price > 100\n",
    "                ORDER BY total_price ASC\n",
    "                LIMIT 5\n",
    "                ;\"\"\",\n",
    "            db_connection)"
   ]
  },
  {
   "cell_type": "markdown",
   "metadata": {
    "id": "qAgJAmudhEFF"
   },
   "source": [
    "#### 8. Select All Customers And The Products They Have Bought"
   ]
  },
  {
   "cell_type": "code",
   "execution_count": 67,
   "metadata": {
    "ExecuteTime": {
     "end_time": "2019-03-21T03:48:23.774361Z",
     "start_time": "2019-03-21T03:48:23.719474Z"
    },
    "id": "HzKZ71SmhEFG"
   },
   "outputs": [
    {
     "data": {
      "text/html": [
       "<div>\n",
       "<style scoped>\n",
       "    .dataframe tbody tr th:only-of-type {\n",
       "        vertical-align: middle;\n",
       "    }\n",
       "\n",
       "    .dataframe tbody tr th {\n",
       "        vertical-align: top;\n",
       "    }\n",
       "\n",
       "    .dataframe thead th {\n",
       "        text-align: right;\n",
       "    }\n",
       "</style>\n",
       "<table border=\"1\" class=\"dataframe\">\n",
       "  <thead>\n",
       "    <tr style=\"text-align: right;\">\n",
       "      <th></th>\n",
       "      <th>order_id</th>\n",
       "      <th>customer_name</th>\n",
       "      <th>product_name</th>\n",
       "    </tr>\n",
       "  </thead>\n",
       "  <tbody>\n",
       "    <tr>\n",
       "      <th>0</th>\n",
       "      <td>IT-2011-3647632</td>\n",
       "      <td>Eugene Moren</td>\n",
       "      <td>Enermax Note Cards, Premium</td>\n",
       "    </tr>\n",
       "    <tr>\n",
       "      <th>1</th>\n",
       "      <td>ES-2011-4869686</td>\n",
       "      <td>Dorothy Dickinson</td>\n",
       "      <td>Dania Corner Shelving, Traditional</td>\n",
       "    </tr>\n",
       "    <tr>\n",
       "      <th>2</th>\n",
       "      <td>ES-2011-4939443</td>\n",
       "      <td>Arthur Prichep</td>\n",
       "      <td>Binney &amp; Smith Sketch Pad, Easy-Erase</td>\n",
       "    </tr>\n",
       "    <tr>\n",
       "      <th>3</th>\n",
       "      <td>IT-2011-2942451</td>\n",
       "      <td>Grant Thornton</td>\n",
       "      <td>Boston Markers, Easy-Erase</td>\n",
       "    </tr>\n",
       "    <tr>\n",
       "      <th>4</th>\n",
       "      <td>IT-2011-2942451</td>\n",
       "      <td>Grant Thornton</td>\n",
       "      <td>Eldon Folders, Single Width</td>\n",
       "    </tr>\n",
       "  </tbody>\n",
       "</table>\n",
       "</div>"
      ],
      "text/plain": [
       "          order_id      customer_name                           product_name\n",
       "0  IT-2011-3647632       Eugene Moren            Enermax Note Cards, Premium\n",
       "1  ES-2011-4869686  Dorothy Dickinson     Dania Corner Shelving, Traditional\n",
       "2  ES-2011-4939443     Arthur Prichep  Binney & Smith Sketch Pad, Easy-Erase\n",
       "3  IT-2011-2942451     Grant Thornton             Boston Markers, Easy-Erase\n",
       "4  IT-2011-2942451     Grant Thornton            Eldon Folders, Single Width"
      ]
     },
     "execution_count": 67,
     "metadata": {},
     "output_type": "execute_result"
    }
   ],
   "source": [
    "# Select All Order Ids, Customers And The Products (product_name) They Have Bought\n",
    "sql.read_sql(\"\"\"SELECT orders.order_id, customer_name, product_name\n",
    "                FROM orders\n",
    "                JOIN orders_break_down \n",
    "                ON orders.order_id = orders_break_down.order_id\n",
    "                LIMIT 5\n",
    "                ;\"\"\",\n",
    "            db_connection)"
   ]
  },
  {
   "cell_type": "markdown",
   "metadata": {
    "ExecuteTime": {
     "end_time": "2019-03-21T03:50:32.122897Z",
     "start_time": "2019-03-21T03:50:32.116914Z"
    },
    "id": "fWIg7LjUhEFK"
   },
   "source": [
    "#### 9.A Select Number of 'Furniture' Orders For Each Country "
   ]
  },
  {
   "cell_type": "code",
   "execution_count": 66,
   "metadata": {
    "ExecuteTime": {
     "end_time": "2019-03-21T03:56:42.800404Z",
     "start_time": "2019-03-21T03:56:42.759513Z"
    },
    "id": "061N5XX9hEFK"
   },
   "outputs": [
    {
     "data": {
      "text/html": [
       "<div>\n",
       "<style scoped>\n",
       "    .dataframe tbody tr th:only-of-type {\n",
       "        vertical-align: middle;\n",
       "    }\n",
       "\n",
       "    .dataframe tbody tr th {\n",
       "        vertical-align: top;\n",
       "    }\n",
       "\n",
       "    .dataframe thead th {\n",
       "        text-align: right;\n",
       "    }\n",
       "</style>\n",
       "<table border=\"1\" class=\"dataframe\">\n",
       "  <thead>\n",
       "    <tr style=\"text-align: right;\">\n",
       "      <th></th>\n",
       "      <th>order_quantity</th>\n",
       "      <th>country</th>\n",
       "    </tr>\n",
       "  </thead>\n",
       "  <tbody>\n",
       "    <tr>\n",
       "      <th>0</th>\n",
       "      <td>40</td>\n",
       "      <td>Austria</td>\n",
       "    </tr>\n",
       "    <tr>\n",
       "      <th>1</th>\n",
       "      <td>20</td>\n",
       "      <td>Belgium</td>\n",
       "    </tr>\n",
       "    <tr>\n",
       "      <th>2</th>\n",
       "      <td>9</td>\n",
       "      <td>Denmark</td>\n",
       "    </tr>\n",
       "    <tr>\n",
       "      <th>3</th>\n",
       "      <td>16</td>\n",
       "      <td>Finland</td>\n",
       "    </tr>\n",
       "    <tr>\n",
       "      <th>4</th>\n",
       "      <td>299</td>\n",
       "      <td>France</td>\n",
       "    </tr>\n",
       "  </tbody>\n",
       "</table>\n",
       "</div>"
      ],
      "text/plain": [
       "   order_quantity  country\n",
       "0              40  Austria\n",
       "1              20  Belgium\n",
       "2               9  Denmark\n",
       "3              16  Finland\n",
       "4             299   France"
      ]
     },
     "execution_count": 66,
     "metadata": {},
     "output_type": "execute_result"
    }
   ],
   "source": [
    "# Select Number of 'Furniture' Orders For Each Country\n",
    "sql.read_sql(\"\"\"SELECT COUNT(category) AS order_quantity, country\n",
    "                FROM orders\n",
    "                JOIN orders_break_down \n",
    "                ON orders.order_id = orders_break_down.order_id\n",
    "                WHERE category = 'Furniture'\n",
    "                GROUP BY country\n",
    "                LIMIT 5\n",
    "                ;\"\"\",\n",
    "            db_connection)"
   ]
  },
  {
   "cell_type": "markdown",
   "metadata": {
    "id": "0jvgrcyGhEFO"
   },
   "source": [
    "#### 9.B Select Number of 'Furniture' Orders For The Country Denmark"
   ]
  },
  {
   "cell_type": "code",
   "execution_count": 65,
   "metadata": {
    "ExecuteTime": {
     "end_time": "2019-03-21T03:58:15.794528Z",
     "start_time": "2019-03-21T03:58:15.757627Z"
    },
    "id": "BjUN6GphhEFP"
   },
   "outputs": [
    {
     "data": {
      "text/html": [
       "<div>\n",
       "<style scoped>\n",
       "    .dataframe tbody tr th:only-of-type {\n",
       "        vertical-align: middle;\n",
       "    }\n",
       "\n",
       "    .dataframe tbody tr th {\n",
       "        vertical-align: top;\n",
       "    }\n",
       "\n",
       "    .dataframe thead th {\n",
       "        text-align: right;\n",
       "    }\n",
       "</style>\n",
       "<table border=\"1\" class=\"dataframe\">\n",
       "  <thead>\n",
       "    <tr style=\"text-align: right;\">\n",
       "      <th></th>\n",
       "      <th>order_id</th>\n",
       "      <th>order_date</th>\n",
       "      <th>customer_name</th>\n",
       "      <th>country</th>\n",
       "      <th>order_id</th>\n",
       "      <th>product_name</th>\n",
       "      <th>discount</th>\n",
       "      <th>sales</th>\n",
       "      <th>quantity</th>\n",
       "      <th>category</th>\n",
       "    </tr>\n",
       "  </thead>\n",
       "  <tbody>\n",
       "    <tr>\n",
       "      <th>0</th>\n",
       "      <td>ES-2011-1586186</td>\n",
       "      <td>2011-06-16</td>\n",
       "      <td>Vivek Grady</td>\n",
       "      <td>Denmark</td>\n",
       "      <td>ES-2011-1586186</td>\n",
       "      <td>Office Star Bag Chairs, Set of Two</td>\n",
       "      <td>0.5</td>\n",
       "      <td>87.0</td>\n",
       "      <td>3</td>\n",
       "      <td>Furniture</td>\n",
       "    </tr>\n",
       "    <tr>\n",
       "      <th>1</th>\n",
       "      <td>IT-2012-4084224</td>\n",
       "      <td>2012-02-15</td>\n",
       "      <td>Mick Brown</td>\n",
       "      <td>Denmark</td>\n",
       "      <td>IT-2012-4084224</td>\n",
       "      <td>Rubbermaid Door Stop, Ergonomic</td>\n",
       "      <td>0.6</td>\n",
       "      <td>17.0</td>\n",
       "      <td>1</td>\n",
       "      <td>Furniture</td>\n",
       "    </tr>\n",
       "    <tr>\n",
       "      <th>2</th>\n",
       "      <td>IT-2013-4649004</td>\n",
       "      <td>2013-05-31</td>\n",
       "      <td>Bart Folk</td>\n",
       "      <td>Denmark</td>\n",
       "      <td>IT-2013-4649004</td>\n",
       "      <td>Novimex Executive Leather Armchair, Red</td>\n",
       "      <td>0.5</td>\n",
       "      <td>920.0</td>\n",
       "      <td>4</td>\n",
       "      <td>Furniture</td>\n",
       "    </tr>\n",
       "    <tr>\n",
       "      <th>3</th>\n",
       "      <td>ES-2013-3422294</td>\n",
       "      <td>2013-09-07</td>\n",
       "      <td>Dave Brooks</td>\n",
       "      <td>Denmark</td>\n",
       "      <td>ES-2013-3422294</td>\n",
       "      <td>Advantus Door Stop, Duo Pack</td>\n",
       "      <td>0.6</td>\n",
       "      <td>36.0</td>\n",
       "      <td>2</td>\n",
       "      <td>Furniture</td>\n",
       "    </tr>\n",
       "    <tr>\n",
       "      <th>4</th>\n",
       "      <td>ES-2014-3653593</td>\n",
       "      <td>2014-02-10</td>\n",
       "      <td>Ivan Liston</td>\n",
       "      <td>Denmark</td>\n",
       "      <td>ES-2014-3653593</td>\n",
       "      <td>Deflect-O Clock, Black</td>\n",
       "      <td>0.6</td>\n",
       "      <td>161.0</td>\n",
       "      <td>8</td>\n",
       "      <td>Furniture</td>\n",
       "    </tr>\n",
       "  </tbody>\n",
       "</table>\n",
       "</div>"
      ],
      "text/plain": [
       "          order_id  order_date customer_name  country         order_id  \\\n",
       "0  ES-2011-1586186  2011-06-16   Vivek Grady  Denmark  ES-2011-1586186   \n",
       "1  IT-2012-4084224  2012-02-15    Mick Brown  Denmark  IT-2012-4084224   \n",
       "2  IT-2013-4649004  2013-05-31     Bart Folk  Denmark  IT-2013-4649004   \n",
       "3  ES-2013-3422294  2013-09-07   Dave Brooks  Denmark  ES-2013-3422294   \n",
       "4  ES-2014-3653593  2014-02-10   Ivan Liston  Denmark  ES-2014-3653593   \n",
       "\n",
       "                              product_name  discount  sales  quantity  \\\n",
       "0       Office Star Bag Chairs, Set of Two       0.5   87.0         3   \n",
       "1          Rubbermaid Door Stop, Ergonomic       0.6   17.0         1   \n",
       "2  Novimex Executive Leather Armchair, Red       0.5  920.0         4   \n",
       "3             Advantus Door Stop, Duo Pack       0.6   36.0         2   \n",
       "4                   Deflect-O Clock, Black       0.6  161.0         8   \n",
       "\n",
       "    category  \n",
       "0  Furniture  \n",
       "1  Furniture  \n",
       "2  Furniture  \n",
       "3  Furniture  \n",
       "4  Furniture  "
      ]
     },
     "execution_count": 65,
     "metadata": {},
     "output_type": "execute_result"
    }
   ],
   "source": [
    "# Select Number of 'Furniture' Orders For The Country Denmark\n",
    "sql.read_sql(\"\"\"SELECT *\n",
    "                FROM orders\n",
    "                JOIN orders_break_down \n",
    "                ON orders.order_id = orders_break_down.order_id\n",
    "                WHERE category = 'Furniture'\n",
    "                AND country = 'Denmark'\n",
    "                LIMIT 5\n",
    "                ;\"\"\",\n",
    "            db_connection)"
   ]
  },
  {
   "cell_type": "markdown",
   "metadata": {
    "id": "DvDJGO8ghEFU"
   },
   "source": [
    "#### 10. Select Total Sales With Discount and Without Discount for Each Country"
   ]
  },
  {
   "cell_type": "code",
   "execution_count": 64,
   "metadata": {
    "ExecuteTime": {
     "end_time": "2019-03-21T04:06:53.787002Z",
     "start_time": "2019-03-21T04:06:53.744143Z"
    },
    "id": "M6FiccIGhEFU"
   },
   "outputs": [
    {
     "data": {
      "text/html": [
       "<div>\n",
       "<style scoped>\n",
       "    .dataframe tbody tr th:only-of-type {\n",
       "        vertical-align: middle;\n",
       "    }\n",
       "\n",
       "    .dataframe tbody tr th {\n",
       "        vertical-align: top;\n",
       "    }\n",
       "\n",
       "    .dataframe thead th {\n",
       "        text-align: right;\n",
       "    }\n",
       "</style>\n",
       "<table border=\"1\" class=\"dataframe\">\n",
       "  <thead>\n",
       "    <tr style=\"text-align: right;\">\n",
       "      <th></th>\n",
       "      <th>country</th>\n",
       "      <th>sales_with_discount</th>\n",
       "      <th>sales_without_discount</th>\n",
       "    </tr>\n",
       "  </thead>\n",
       "  <tbody>\n",
       "    <tr>\n",
       "      <th>0</th>\n",
       "      <td>Austria</td>\n",
       "      <td>0.0</td>\n",
       "      <td>79382.0</td>\n",
       "    </tr>\n",
       "    <tr>\n",
       "      <th>1</th>\n",
       "      <td>Belgium</td>\n",
       "      <td>0.0</td>\n",
       "      <td>42320.0</td>\n",
       "    </tr>\n",
       "    <tr>\n",
       "      <th>2</th>\n",
       "      <td>Denmark</td>\n",
       "      <td>7763.0</td>\n",
       "      <td>0.0</td>\n",
       "    </tr>\n",
       "    <tr>\n",
       "      <th>3</th>\n",
       "      <td>Finland</td>\n",
       "      <td>0.0</td>\n",
       "      <td>20702.0</td>\n",
       "    </tr>\n",
       "    <tr>\n",
       "      <th>4</th>\n",
       "      <td>France</td>\n",
       "      <td>479892.0</td>\n",
       "      <td>129791.0</td>\n",
       "    </tr>\n",
       "  </tbody>\n",
       "</table>\n",
       "</div>"
      ],
      "text/plain": [
       "   country  sales_with_discount  sales_without_discount\n",
       "0  Austria                  0.0                 79382.0\n",
       "1  Belgium                  0.0                 42320.0\n",
       "2  Denmark               7763.0                     0.0\n",
       "3  Finland                  0.0                 20702.0\n",
       "4   France             479892.0                129791.0"
      ]
     },
     "execution_count": 64,
     "metadata": {},
     "output_type": "execute_result"
    }
   ],
   "source": [
    "# Select Total Sales With Discount (discount > 0) and Without Discount (discount = 0) for Each Country\n",
    "sql.read_sql(\"\"\"SELECT country,\n",
    "                SUM(CASE WHEN discount > 0 THEN sales ELSE 0 END) AS sales_with_discount,\n",
    "                SUM(CASE WHEN discount = 0 THEN sales ELSE 0 END) AS sales_without_discount\n",
    "                FROM orders\n",
    "                JOIN orders_break_down\n",
    "                ON orders.order_id = orders_break_down.order_id\n",
    "                GROUP BY country\n",
    "                LIMIT 5\n",
    "                ;\"\"\",\n",
    "            db_connection)"
   ]
  },
  {
   "cell_type": "markdown",
   "metadata": {
    "id": "72ARIXw2hEFb"
   },
   "source": [
    "#### 11.A Select Total Quantity, Total Sales for Each Country"
   ]
  },
  {
   "cell_type": "code",
   "execution_count": 63,
   "metadata": {
    "ExecuteTime": {
     "end_time": "2019-03-21T04:08:01.475925Z",
     "start_time": "2019-03-21T04:08:01.427057Z"
    },
    "id": "Fik5zcqJhEFe"
   },
   "outputs": [
    {
     "data": {
      "text/html": [
       "<div>\n",
       "<style scoped>\n",
       "    .dataframe tbody tr th:only-of-type {\n",
       "        vertical-align: middle;\n",
       "    }\n",
       "\n",
       "    .dataframe tbody tr th {\n",
       "        vertical-align: top;\n",
       "    }\n",
       "\n",
       "    .dataframe thead th {\n",
       "        text-align: right;\n",
       "    }\n",
       "</style>\n",
       "<table border=\"1\" class=\"dataframe\">\n",
       "  <thead>\n",
       "    <tr style=\"text-align: right;\">\n",
       "      <th></th>\n",
       "      <th>total_sales</th>\n",
       "      <th>total_quantity</th>\n",
       "      <th>country</th>\n",
       "    </tr>\n",
       "  </thead>\n",
       "  <tbody>\n",
       "    <tr>\n",
       "      <th>0</th>\n",
       "      <td>79382.0</td>\n",
       "      <td>973</td>\n",
       "      <td>Austria</td>\n",
       "    </tr>\n",
       "    <tr>\n",
       "      <th>1</th>\n",
       "      <td>42320.0</td>\n",
       "      <td>532</td>\n",
       "      <td>Belgium</td>\n",
       "    </tr>\n",
       "    <tr>\n",
       "      <th>2</th>\n",
       "      <td>7763.0</td>\n",
       "      <td>204</td>\n",
       "      <td>Denmark</td>\n",
       "    </tr>\n",
       "    <tr>\n",
       "      <th>3</th>\n",
       "      <td>20702.0</td>\n",
       "      <td>201</td>\n",
       "      <td>Finland</td>\n",
       "    </tr>\n",
       "    <tr>\n",
       "      <th>4</th>\n",
       "      <td>609683.0</td>\n",
       "      <td>7329</td>\n",
       "      <td>France</td>\n",
       "    </tr>\n",
       "  </tbody>\n",
       "</table>\n",
       "</div>"
      ],
      "text/plain": [
       "   total_sales  total_quantity  country\n",
       "0      79382.0             973  Austria\n",
       "1      42320.0             532  Belgium\n",
       "2       7763.0             204  Denmark\n",
       "3      20702.0             201  Finland\n",
       "4     609683.0            7329   France"
      ]
     },
     "execution_count": 63,
     "metadata": {},
     "output_type": "execute_result"
    }
   ],
   "source": [
    "# Select Total Quantity, Total Sales for Each Country\n",
    "sql.read_sql(\"\"\"SELECT SUM(sales) AS total_sales, SUM(quantity) AS total_quantity, country\n",
    "                FROM orders\n",
    "                JOIN orders_break_down \n",
    "                ON orders.order_id = orders_break_down.order_id\n",
    "                GROUP BY country\n",
    "                LIMIT 5\n",
    "                ;\"\"\",\n",
    "            db_connection)"
   ]
  },
  {
   "cell_type": "markdown",
   "metadata": {
    "ExecuteTime": {
     "end_time": "2019-03-21T04:09:40.290543Z",
     "start_time": "2019-03-21T04:09:40.284556Z"
    },
    "id": "tldREt1phEFh"
   },
   "source": [
    "#### 11.B Select Top 3 Countries and Quantities Based on Total Sales"
   ]
  },
  {
   "cell_type": "code",
   "execution_count": 61,
   "metadata": {
    "ExecuteTime": {
     "end_time": "2019-03-21T04:11:24.632174Z",
     "start_time": "2019-03-21T04:11:24.619209Z"
    },
    "id": "T0TJjtLBhEFi"
   },
   "outputs": [
    {
     "data": {
      "text/html": [
       "<div>\n",
       "<style scoped>\n",
       "    .dataframe tbody tr th:only-of-type {\n",
       "        vertical-align: middle;\n",
       "    }\n",
       "\n",
       "    .dataframe tbody tr th {\n",
       "        vertical-align: top;\n",
       "    }\n",
       "\n",
       "    .dataframe thead th {\n",
       "        text-align: right;\n",
       "    }\n",
       "</style>\n",
       "<table border=\"1\" class=\"dataframe\">\n",
       "  <thead>\n",
       "    <tr style=\"text-align: right;\">\n",
       "      <th></th>\n",
       "      <th>total_sales</th>\n",
       "      <th>total_quantity</th>\n",
       "      <th>country</th>\n",
       "    </tr>\n",
       "  </thead>\n",
       "  <tbody>\n",
       "    <tr>\n",
       "      <th>0</th>\n",
       "      <td>609683.0</td>\n",
       "      <td>7329</td>\n",
       "      <td>France</td>\n",
       "    </tr>\n",
       "    <tr>\n",
       "      <th>1</th>\n",
       "      <td>488681.0</td>\n",
       "      <td>6179</td>\n",
       "      <td>Germany</td>\n",
       "    </tr>\n",
       "    <tr>\n",
       "      <th>2</th>\n",
       "      <td>420497.0</td>\n",
       "      <td>4917</td>\n",
       "      <td>United Kingdom</td>\n",
       "    </tr>\n",
       "  </tbody>\n",
       "</table>\n",
       "</div>"
      ],
      "text/plain": [
       "   total_sales  total_quantity         country\n",
       "0     609683.0            7329          France\n",
       "1     488681.0            6179         Germany\n",
       "2     420497.0            4917  United Kingdom"
      ]
     },
     "execution_count": 61,
     "metadata": {},
     "output_type": "execute_result"
    }
   ],
   "source": [
    "# Select Top 3 Countries and Quantities Based on Total Sales\n",
    "sql.read_sql(\"\"\"SELECT SUM(sales) AS total_sales, SUM(quantity) AS total_quantity, country\n",
    "                FROM orders\n",
    "                JOIN orders_break_down \n",
    "                ON orders.order_id = orders_break_down.order_id\n",
    "                GROUP BY country\n",
    "                ORDER BY total_sales DESC\n",
    "                LIMIT 3\n",
    "                ;\"\"\",\n",
    "            db_connection)"
   ]
  },
  {
   "cell_type": "markdown",
   "metadata": {
    "id": "M3zrxwdGhEFk"
   },
   "source": [
    "#### 11.C Select Bottom 3 Countries and Sales Based On Total Quantities"
   ]
  },
  {
   "cell_type": "code",
   "execution_count": 60,
   "metadata": {
    "ExecuteTime": {
     "end_time": "2019-03-21T04:12:43.968759Z",
     "start_time": "2019-03-21T04:12:43.953799Z"
    },
    "id": "XzSLPcv6hEFl"
   },
   "outputs": [
    {
     "data": {
      "text/html": [
       "<div>\n",
       "<style scoped>\n",
       "    .dataframe tbody tr th:only-of-type {\n",
       "        vertical-align: middle;\n",
       "    }\n",
       "\n",
       "    .dataframe tbody tr th {\n",
       "        vertical-align: top;\n",
       "    }\n",
       "\n",
       "    .dataframe thead th {\n",
       "        text-align: right;\n",
       "    }\n",
       "</style>\n",
       "<table border=\"1\" class=\"dataframe\">\n",
       "  <thead>\n",
       "    <tr style=\"text-align: right;\">\n",
       "      <th></th>\n",
       "      <th>total_sales</th>\n",
       "      <th>total_quantity</th>\n",
       "      <th>country</th>\n",
       "    </tr>\n",
       "  </thead>\n",
       "  <tbody>\n",
       "    <tr>\n",
       "      <th>0</th>\n",
       "      <td>20702.0</td>\n",
       "      <td>201</td>\n",
       "      <td>Finland</td>\n",
       "    </tr>\n",
       "    <tr>\n",
       "      <th>1</th>\n",
       "      <td>7763.0</td>\n",
       "      <td>204</td>\n",
       "      <td>Denmark</td>\n",
       "    </tr>\n",
       "    <tr>\n",
       "      <th>2</th>\n",
       "      <td>20529.0</td>\n",
       "      <td>261</td>\n",
       "      <td>Norway</td>\n",
       "    </tr>\n",
       "  </tbody>\n",
       "</table>\n",
       "</div>"
      ],
      "text/plain": [
       "   total_sales  total_quantity  country\n",
       "0      20702.0             201  Finland\n",
       "1       7763.0             204  Denmark\n",
       "2      20529.0             261   Norway"
      ]
     },
     "execution_count": 60,
     "metadata": {},
     "output_type": "execute_result"
    }
   ],
   "source": [
    "# Select Bottom 3 Countries and Sales Based On Total Quantities\n",
    "sql.read_sql(\"\"\"SELECT SUM(sales) AS total_sales, SUM(quantity) AS total_quantity, country\n",
    "                FROM orders\n",
    "                JOIN orders_break_down \n",
    "                ON orders.order_id = orders_break_down.order_id\n",
    "                GROUP BY country\n",
    "                ORDER BY total_quantity\n",
    "                LIMIT 3\n",
    "                ;\"\"\",\n",
    "            db_connection)"
   ]
  },
  {
   "cell_type": "markdown",
   "metadata": {
    "ExecuteTime": {
     "end_time": "2019-03-21T04:15:46.751912Z",
     "start_time": "2019-03-21T04:15:46.745926Z"
    },
    "id": "45ondjLLhEFo"
   },
   "source": [
    "#### 12. Select Average Sales By Category For The Country 'France'"
   ]
  },
  {
   "cell_type": "code",
   "execution_count": 59,
   "metadata": {
    "ExecuteTime": {
     "end_time": "2019-03-21T04:19:05.858570Z",
     "start_time": "2019-03-21T04:19:05.813681Z"
    },
    "id": "BwiyYRSThEFp"
   },
   "outputs": [
    {
     "data": {
      "text/html": [
       "<div>\n",
       "<style scoped>\n",
       "    .dataframe tbody tr th:only-of-type {\n",
       "        vertical-align: middle;\n",
       "    }\n",
       "\n",
       "    .dataframe tbody tr th {\n",
       "        vertical-align: top;\n",
       "    }\n",
       "\n",
       "    .dataframe thead th {\n",
       "        text-align: right;\n",
       "    }\n",
       "</style>\n",
       "<table border=\"1\" class=\"dataframe\">\n",
       "  <thead>\n",
       "    <tr style=\"text-align: right;\">\n",
       "      <th></th>\n",
       "      <th>avg_sales</th>\n",
       "      <th>category</th>\n",
       "    </tr>\n",
       "  </thead>\n",
       "  <tbody>\n",
       "    <tr>\n",
       "      <th>0</th>\n",
       "      <td>582.314381</td>\n",
       "      <td>Furniture</td>\n",
       "    </tr>\n",
       "    <tr>\n",
       "      <th>1</th>\n",
       "      <td>167.217709</td>\n",
       "      <td>Office Supplies</td>\n",
       "    </tr>\n",
       "    <tr>\n",
       "      <th>2</th>\n",
       "      <td>595.145078</td>\n",
       "      <td>Technology</td>\n",
       "    </tr>\n",
       "  </tbody>\n",
       "</table>\n",
       "</div>"
      ],
      "text/plain": [
       "    avg_sales         category\n",
       "0  582.314381        Furniture\n",
       "1  167.217709  Office Supplies\n",
       "2  595.145078       Technology"
      ]
     },
     "execution_count": 59,
     "metadata": {},
     "output_type": "execute_result"
    }
   ],
   "source": [
    "# Select Average Sales By Category For The Country 'France'\n",
    "sql.read_sql(\"\"\"SELECT AVG(sales) AS avg_sales, category\n",
    "                FROM orders\n",
    "                JOIN orders_break_down \n",
    "                ON orders.order_id = orders_break_down.order_id\n",
    "                WHERE country = 'France'\n",
    "                GROUP BY category\n",
    "                ;\"\"\",\n",
    "            db_connection)"
   ]
  },
  {
   "cell_type": "markdown",
   "metadata": {
    "id": "Nsk-d3DyhEFs"
   },
   "source": [
    "#### 13. Select Country, Category and Average Sales Where Average Sales is The Highest"
   ]
  },
  {
   "cell_type": "code",
   "execution_count": 58,
   "metadata": {
    "ExecuteTime": {
     "end_time": "2019-03-21T04:21:04.081648Z",
     "start_time": "2019-03-21T04:21:04.038731Z"
    },
    "id": "yRK9ccVLhEFs"
   },
   "outputs": [
    {
     "data": {
      "text/html": [
       "<div>\n",
       "<style scoped>\n",
       "    .dataframe tbody tr th:only-of-type {\n",
       "        vertical-align: middle;\n",
       "    }\n",
       "\n",
       "    .dataframe tbody tr th {\n",
       "        vertical-align: top;\n",
       "    }\n",
       "\n",
       "    .dataframe thead th {\n",
       "        text-align: right;\n",
       "    }\n",
       "</style>\n",
       "<table border=\"1\" class=\"dataframe\">\n",
       "  <thead>\n",
       "    <tr style=\"text-align: right;\">\n",
       "      <th></th>\n",
       "      <th>avg_sales</th>\n",
       "      <th>category</th>\n",
       "      <th>country</th>\n",
       "    </tr>\n",
       "  </thead>\n",
       "  <tbody>\n",
       "    <tr>\n",
       "      <th>0</th>\n",
       "      <td>902.846154</td>\n",
       "      <td>Technology</td>\n",
       "      <td>Switzerland</td>\n",
       "    </tr>\n",
       "  </tbody>\n",
       "</table>\n",
       "</div>"
      ],
      "text/plain": [
       "    avg_sales    category      country\n",
       "0  902.846154  Technology  Switzerland"
      ]
     },
     "execution_count": 58,
     "metadata": {},
     "output_type": "execute_result"
    }
   ],
   "source": [
    "# Select Country, Category and Average Sales Where Average Sales is The Highest\n",
    "sql.read_sql(\"\"\"SELECT AVG(sales) AS avg_sales, category, country\n",
    "                FROM orders\n",
    "                JOIN orders_break_down\n",
    "                ON orders.order_id = orders_break_down.order_id\n",
    "                GROUP BY category, country\n",
    "                ORDER BY avg_sales DESC\n",
    "                LIMIT 1\n",
    "                ;\"\"\",\n",
    "            db_connection)"
   ]
  },
  {
   "cell_type": "markdown",
   "metadata": {
    "heading_collapsed": true,
    "id": "yNowUy0BlJQu"
   },
   "source": [
    "### JOINS\n",
    "\n",
    "Below is a link to a handy reference for SQL joins. In this chart joins are represented in terms of sets and venn diagrams. \n",
    "https://www.codeproject.com/Articles/33052/Visual-Representation-of-SQL-Joins\n",
    "\n",
    "Alternatively, remember the merge functionality of pandas.\n",
    "https://github.com/pandas-dev/pandas/blob/master/doc/cheatsheet/Pandas_Cheat_Sheet.pdf"
   ]
  },
  {
   "cell_type": "markdown",
   "metadata": {
    "id": "Jp0fdXBelJQv",
    "tags": []
   },
   "source": [
    "### ADDITIONAL RESOURCES\n",
    "\n",
    "- [sqlite3 home](http://www.sqlite.org)  \n",
    "- [sqlite3 Python documentation](https://docs.python.org/3/library/sqlite3.html)\n",
    "- [SQLite Python tutorial](http://sebastianraschka.com/Articles/2014_sqlite_in_python_tutorial.html)  \n",
    "- [SQL zoo](http://www.sqlzoo.net)  Great for learning syntax"
   ]
  },
  {
   "cell_type": "markdown",
   "metadata": {
    "id": "H6EyH-b4wGV5"
   },
   "source": [
    "\n",
    "\n",
    "---\n",
    "\n",
    "\n",
    "\n",
    "---\n",
    "\n",
    "\n",
    "\n",
    "> > > > > > > > > © 2022 Institute of Data\n",
    "\n",
    "\n",
    "---\n",
    "\n",
    "\n",
    "\n",
    "---\n",
    "\n",
    "\n",
    "\n"
   ]
  }
 ],
 "metadata": {
  "colab": {
   "collapsed_sections": [],
   "provenance": []
  },
  "kernelspec": {
   "display_name": "Python 3 (ipykernel)",
   "language": "python",
   "name": "python3"
  },
  "language_info": {
   "codemirror_mode": {
    "name": "ipython",
    "version": 3
   },
   "file_extension": ".py",
   "mimetype": "text/x-python",
   "name": "python",
   "nbconvert_exporter": "python",
   "pygments_lexer": "ipython3",
   "version": "3.9.13"
  }
 },
 "nbformat": 4,
 "nbformat_minor": 4
}
